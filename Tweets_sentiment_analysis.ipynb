{
  "cells": [
    {
      "cell_type": "markdown",
      "metadata": {
        "colab_type": "text",
        "id": "view-in-github"
      },
      "source": [
        "<a href=\"https://colab.research.google.com/github/danieloselu3/phase4-project/blob/main/Tweets_sentiment_analysis.ipynb\" target=\"_parent\"><img src=\"https://colab.research.google.com/assets/colab-badge.svg\" alt=\"Open In Colab\"/></a>"
      ]
    },
    {
      "cell_type": "markdown",
      "metadata": {
        "id": "nv5K0ShC_0K6"
      },
      "source": [
        "# **Tweets Sentiment Analysis** "
      ]
    },
    {
      "cell_type": "markdown",
      "metadata": {
        "id": "kLG2VTrnTvYL"
      },
      "source": [
<<<<<<< HEAD
        "## 1. Defining the Question"
=======
        "## 1. Business Understanding\n",
        "\n",
        "In a world where technology startups are common, consumer perception of a brand can provide us with valuable information about their purchasing behavior and, in turn, the financial performance of the business that produces them.In order to determine which brands to research further for potential investment, Longview techventures wants a generalizable model to measure sentiment across various brands. Because people only purchase items they like, Longview techventures is only interested in whether consumers feel positive about the brand.Longview techventures, a technology investment firm, has hired us to help them develop a predictive model that keeps track of recent tweets about tech products so they can make smart investment choices."
>>>>>>> bdbde03013a90270db4542412210ebdc20951927
      ]
    },
    {
      "cell_type": "markdown",
      "metadata": {
        "id": "XecOwPNorl2W"
      },
      "source": [
        "### a) Specifying the Data Analytic Question"
      ]
    },
    {
      "cell_type": "markdown",
      "metadata": {
        "id": "9ozBnKfehSAw"
      },
      "source": [
<<<<<<< HEAD
        "> In a world where technology startups are common, consumer perception of a brand can provide us with valuable information about their purchasing behavior and, in turn, the financial performance of the business that produces them. . In order to determine which brands to research further for potential investment, Longview techventures wants a generalizable model to measure sentiment across various brands. Because people only purchase items they like, Longview techventures is only interested in whether consumers feel positively about the brand.\n",
        "\n",
        "> **Problem Statement:** Longview techventures, a technology investment firm, has hired us to help them develop a predictive model that keeps track of recent tweets about tech products so they can make smart investment choices."
=======
        "What does the public feel about the apple and android products?"
>>>>>>> bdbde03013a90270db4542412210ebdc20951927
      ]
    },
    {
      "cell_type": "markdown",
      "metadata": {
        "id": "J4wfHZwQrs-t"
      },
      "source": [
        "### b) Defining the Metric for Success"
      ]
    },
    {
      "cell_type": "markdown",
      "metadata": {
        "id": "iH0hgPO0AFKF"
      },
      "source": [
<<<<<<< HEAD
        "We don't want to overvalue or undervalue a company, however, in the current market condition where labor cost and shortage is prominent, spending human resources to evaluate a company and finding out it's not worth investing in is more costly. Therefore, we care about maximizing accuracy as well as precision."
=======
        "We don't want to overvalue or undervalue a company, however, in the current market condition where labor cost and shortage is prominent, spending human resources to evaluate a company and finding out it's not worth investing in is more costly. Therefore, we care about maximizing accuracy as well as precision to about 80%."
>>>>>>> bdbde03013a90270db4542412210ebdc20951927
      ]
    },
    {
      "cell_type": "markdown",
      "metadata": {
        "id": "a9BPYqunry97"
      },
      "source": [
        "### c) Understanding the context "
      ]
    },
    {
      "cell_type": "markdown",
<<<<<<< HEAD
      "metadata": {
        "id": "x39kNBAP_j9N"
      },
      "source": [
        "[Data.world](https://data.world/crowdflower/brands-and-product-emotions) through CrowdFlower, provided the dataset. Over 9,000 Tweets were rated as either positive, negative, or neither by human raters. The tweets are from the South by South West conference, and the majority of them are about Apple and Google products. The information was assembled in 2013.\n",
        "Tweets are typically brief and emotional. They do a great job of capturing consumers' reactions to brands in real time. South by Southwest features the most recent technology and enables customers to contrast products from leading tech companies side by side, which can somewhat lessen their biases.\n",
        "The tweets with positive sentiment and the tweets without positive sentiment, which include neutral, negative, and indistinguishable sentiments, are the two categories into which we engineered our target.Only the sentiment of the tweet matters to us because it can increase sales and therefore return on investment.\n",
        "\n"
=======
      "metadata": {},
      "source": [
        "False positive in this case would mean our model predicts that a consumer has positive emotions towards a brand but they actually don't, leading to overvaluing of a potential investment opportunity and wasting human capital.\n",
        "\n",
        "False negative in this case would mean our model predicts that a consumer doesn't have positive emotions towards a brand but they actually do, leading to missing a potential investment opportunity."
>>>>>>> bdbde03013a90270db4542412210ebdc20951927
      ]
    },
    {
      "cell_type": "markdown",
      "metadata": {
        "id": "zSGyg6kWsBUl"
      },
      "source": [
        "### d) Data Relevance"
      ]
    },
    {
      "cell_type": "markdown",
      "metadata": {
        "id": "Tb3vVCn8CgbH"
      },
      "source": [
        "Longview Techventures will use the data to determine which products to invest in to increase their profits based on customer satisfaction."
      ]
    },
    {
      "cell_type": "markdown",
<<<<<<< HEAD
=======
      "metadata": {},
      "source": [
        "## 2. DATA UNDERSTANDING\n",
        "\n",
        "[Data.world](https://data.world/crowdflower/brands-and-product-emotions) through CrowdFlower, provided the dataset. Over 9,000 Tweets were rated as either positive, negative, or neither by human raters. The tweets are from the South by South West conference, and the majority of them are about Apple and Google products. The information was assembled in 2013.\n",
        "Tweets are typically brief and emotional. They do a great job of capturing consumers' reactions to brands in real time. South by Southwest features the most recent technology and enables customers to contrast products from leading tech companies side by side, which can somewhat lessen their biases.\n",
        "The tweets with positive sentiment and the tweets without positive sentiment, which include neutral, negative, and indistinguishable sentiments, are the two categories into which we engineered our target.Only the sentiment of the tweet matters to us because it can increase sales and therefore return on investment."
      ]
    },
    {
      "cell_type": "markdown",
>>>>>>> bdbde03013a90270db4542412210ebdc20951927
      "metadata": {
        "id": "iUNbvIvnT7ep"
      },
      "source": [
<<<<<<< HEAD
        "## 2. Reading the Data"
=======
        "### a) Reading the Data"
>>>>>>> bdbde03013a90270db4542412210ebdc20951927
      ]
    },
    {
      "cell_type": "code",
      "execution_count": 1,
      "metadata": {
<<<<<<< HEAD
        "id": "auciXZ5sTz6N"
      },
      "outputs": [
        {
          "data": {
            "text/plain": [
              "True"
            ]
          },
          "execution_count": 1,
          "metadata": {},
          "output_type": "execute_result"
        }
      ],
      "source": [
        "#import necessary libraries\n",
        "import pandas as pd\n",
        "import numpy as np\n",
        "import matplotlib.pyplot as plt\n",
        "import seaborn as sns\n",
        "\n",
        "import nltk\n",
        "from nltk.tokenize import RegexpTokenizer, TweetTokenizer, word_tokenize\n",
        "from nltk.corpus import stopwords\n",
        "from nltk.stem import WordNetLemmatizer\n",
        "import re\n",
        "\n",
        "from sklearn.model_selection import train_test_split, cross_validate\n",
        "from numpy import array\n",
        "from sklearn.feature_extraction.text import CountVectorizer, TfidfVectorizer\n",
        "from sklearn.preprocessing import StandardScaler\n",
        "\n",
        "nltk.download('stopwords', quiet=True)"
=======
        "colab": {
          "base_uri": "https://localhost:8080/"
        },
        "id": "auciXZ5sTz6N",
        "outputId": "a4f8a630-93c1-4529-e9e6-237948094362"
      },
      "outputs": [],
      "source": [
        "#import necessary libraries\n",
        "import pandas as pd\n",
        "import numpy as np\n",
        "import matplotlib.pyplot as plt\n",
        "import seaborn as sns\n",
        "\n",
        "import nltk\n",
        "import string\n",
        "import re\n",
        "from nltk import pos_tag\n",
        "from nltk.probability import FreqDist\n",
        "from nltk.stem import WordNetLemmatizer\n",
        "from nltk.corpus import stopwords, wordnet\n",
        "from nltk.tokenize import RegexpTokenizer, word_tokenize\n",
        "#nltk.download('wordnet')\n",
        "#nltk.download('punkt')\n",
        "#nltk.download('stopwords')\n",
        "#nltk.download('omw-1.4')\n",
        "#from wordcloud import WordCloud\n",
        "\n",
        "\n",
        "from sklearn.model_selection import train_test_split, cross_validate\n",
        "from numpy import array\n",
        "from sklearn.feature_extraction.text import CountVectorizer, TfidfVectorizer\n",
        "from sklearn.preprocessing import StandardScaler\n",
        "from sklearn.metrics import confusion_matrix, classification_report,accuracy_score\n",
        "from sklearn.model_selection import GridSearchCV\n",
        "\n",
        "import warnings\n",
        "warnings.filterwarnings('ignore')\n",
        "\n",
        "\n",
        "pd.set_option('display.max_colwidth', 10000)"
      ]
    },
    {
      "cell_type": "code",
      "execution_count": 2,
      "metadata": {
        "id": "XJn2KjW-WMlG"
      },
      "outputs": [],
      "source": [
        "# Loading the Data from the source i.e. csv\n",
        "data = pd.read_csv('data/judge_tweet_product_company.csv')"
      ]
    },
    {
      "cell_type": "markdown",
      "metadata": {
        "id": "IYeyKrcX-SJK"
      },
      "source": [
        "\n",
        "\n",
        "### b) Checking the Data"
      ]
    },
    {
      "cell_type": "code",
      "execution_count": 3,
      "metadata": {
        "colab": {
          "base_uri": "https://localhost:8080/"
        },
        "id": "VJRjTlM7-SJK",
        "outputId": "58ff3436-73c0-414c-ac27-715836911d23"
      },
      "outputs": [
        {
          "name": "stdout",
          "output_type": "stream",
          "text": [
            "<class 'pandas.core.frame.DataFrame'>\n",
            "RangeIndex: 8721 entries, 0 to 8720\n",
            "Data columns (total 3 columns):\n",
            " #   Column                                              Non-Null Count  Dtype \n",
            "---  ------                                              --------------  ----- \n",
            " 0   tweet_text                                          8720 non-null   object\n",
            " 1   emotion_in_tweet_is_directed_at                     3169 non-null   object\n",
            " 2   is_there_an_emotion_directed_at_a_brand_or_product  8721 non-null   object\n",
            "dtypes: object(3)\n",
            "memory usage: 204.5+ KB\n"
          ]
        }
      ],
      "source": [
        "# Determining the no. of records in our dataset\n",
        "data.info()"
>>>>>>> bdbde03013a90270db4542412210ebdc20951927
      ]
    },
    {
      "cell_type": "code",
<<<<<<< HEAD
      "execution_count": 2,
      "metadata": {
        "id": "XJn2KjW-WMlG"
      },
      "outputs": [],
      "source": [
        "# Loading the Data from the source i.e. csv\n",
        "data = pd.read_csv('data/judge_tweet_product_company.csv')"
      ]
    },
    {
      "cell_type": "markdown",
      "metadata": {
        "id": "IYeyKrcX-SJK"
      },
      "source": [
        "\n",
        "\n",
        "## 3. Checking the Data"
      ]
    },
    {
      "cell_type": "code",
      "execution_count": 3,
      "metadata": {
        "colab": {
          "base_uri": "https://localhost:8080/"
        },
        "id": "VJRjTlM7-SJK",
        "outputId": "6fa78590-10c9-49b4-d769-718a2632351f"
      },
      "outputs": [
        {
          "name": "stdout",
          "output_type": "stream",
          "text": [
            "<class 'pandas.core.frame.DataFrame'>\n",
            "RangeIndex: 8721 entries, 0 to 8720\n",
            "Data columns (total 3 columns):\n",
            " #   Column                                              Non-Null Count  Dtype \n",
            "---  ------                                              --------------  ----- \n",
            " 0   tweet_text                                          8720 non-null   object\n",
            " 1   emotion_in_tweet_is_directed_at                     3169 non-null   object\n",
            " 2   is_there_an_emotion_directed_at_a_brand_or_product  8721 non-null   object\n",
            "dtypes: object(3)\n",
            "memory usage: 204.5+ KB\n"
          ]
        }
      ],
      "source": [
        "# Determining the no. of records in our dataset\n",
        "data.info()"
=======
      "execution_count": 4,
      "metadata": {
        "colab": {
          "base_uri": "https://localhost:8080/",
          "height": 302
        },
        "id": "FoK6ejXU-SJL",
        "outputId": "43bddcae-4c68-4a02-d843-9a8d29a91ffb"
      },
      "outputs": [
        {
          "data": {
            "text/html": [
              "<div>\n",
              "<style scoped>\n",
              "    .dataframe tbody tr th:only-of-type {\n",
              "        vertical-align: middle;\n",
              "    }\n",
              "\n",
              "    .dataframe tbody tr th {\n",
              "        vertical-align: top;\n",
              "    }\n",
              "\n",
              "    .dataframe thead th {\n",
              "        text-align: right;\n",
              "    }\n",
              "</style>\n",
              "<table border=\"1\" class=\"dataframe\">\n",
              "  <thead>\n",
              "    <tr style=\"text-align: right;\">\n",
              "      <th></th>\n",
              "      <th>tweet_text</th>\n",
              "      <th>emotion_in_tweet_is_directed_at</th>\n",
              "      <th>is_there_an_emotion_directed_at_a_brand_or_product</th>\n",
              "    </tr>\n",
              "  </thead>\n",
              "  <tbody>\n",
              "    <tr>\n",
              "      <th>0</th>\n",
              "      <td>.@wesley83 I have a 3G iPhone. After 3 hrs tweeting at #RISE_Austin, it was dead!  I need to upgrade. Plugin stations at #SXSW.</td>\n",
              "      <td>iPhone</td>\n",
              "      <td>Negative emotion</td>\n",
              "    </tr>\n",
              "    <tr>\n",
              "      <th>1</th>\n",
              "      <td>@jessedee Know about @fludapp ? Awesome iPad/iPhone app that you'll likely appreciate for its design. Also, they're giving free Ts at #SXSW</td>\n",
              "      <td>iPad or iPhone App</td>\n",
              "      <td>Positive emotion</td>\n",
              "    </tr>\n",
              "    <tr>\n",
              "      <th>2</th>\n",
              "      <td>@swonderlin Can not wait for #iPad 2 also. They should sale them down at #SXSW.</td>\n",
              "      <td>iPad</td>\n",
              "      <td>Positive emotion</td>\n",
              "    </tr>\n",
              "    <tr>\n",
              "      <th>3</th>\n",
              "      <td>@sxsw I hope this year's festival isn't as crashy as this year's iPhone app. #sxsw</td>\n",
              "      <td>iPad or iPhone App</td>\n",
              "      <td>Negative emotion</td>\n",
              "    </tr>\n",
              "    <tr>\n",
              "      <th>4</th>\n",
              "      <td>@sxtxstate great stuff on Fri #SXSW: Marissa Mayer (Google), Tim O'Reilly (tech books/conferences) &amp;amp; Matt Mullenweg (Wordpress)</td>\n",
              "      <td>Google</td>\n",
              "      <td>Positive emotion</td>\n",
              "    </tr>\n",
              "  </tbody>\n",
              "</table>\n",
              "</div>"
            ],
            "text/plain": [
              "                                                                                                                                    tweet_text  \\\n",
              "0              .@wesley83 I have a 3G iPhone. After 3 hrs tweeting at #RISE_Austin, it was dead!  I need to upgrade. Plugin stations at #SXSW.   \n",
              "1  @jessedee Know about @fludapp ? Awesome iPad/iPhone app that you'll likely appreciate for its design. Also, they're giving free Ts at #SXSW   \n",
              "2                                                              @swonderlin Can not wait for #iPad 2 also. They should sale them down at #SXSW.   \n",
              "3                                                           @sxsw I hope this year's festival isn't as crashy as this year's iPhone app. #sxsw   \n",
              "4          @sxtxstate great stuff on Fri #SXSW: Marissa Mayer (Google), Tim O'Reilly (tech books/conferences) &amp; Matt Mullenweg (Wordpress)   \n",
              "\n",
              "  emotion_in_tweet_is_directed_at  \\\n",
              "0                          iPhone   \n",
              "1              iPad or iPhone App   \n",
              "2                            iPad   \n",
              "3              iPad or iPhone App   \n",
              "4                          Google   \n",
              "\n",
              "  is_there_an_emotion_directed_at_a_brand_or_product  \n",
              "0                                   Negative emotion  \n",
              "1                                   Positive emotion  \n",
              "2                                   Positive emotion  \n",
              "3                                   Negative emotion  \n",
              "4                                   Positive emotion  "
            ]
          },
          "execution_count": 4,
          "metadata": {},
          "output_type": "execute_result"
        }
      ],
      "source": [
        "# Previewing the top of our dataset\n",
        "data.head()"
>>>>>>> bdbde03013a90270db4542412210ebdc20951927
      ]
    },
    {
      "cell_type": "code",
<<<<<<< HEAD
      "execution_count": 4,
      "metadata": {
        "colab": {
          "base_uri": "https://localhost:8080/",
          "height": 206
        },
        "id": "FoK6ejXU-SJL",
        "outputId": "9bd39446-b8d6-45ff-b1dc-15c829891c5b"
=======
      "execution_count": 5,
      "metadata": {
        "colab": {
          "base_uri": "https://localhost:8080/",
          "height": 320
        },
        "id": "kKwcaZXy-SJL",
        "outputId": "a767b2bb-c561-4f97-97b4-ee05e0dd5757"
>>>>>>> bdbde03013a90270db4542412210ebdc20951927
      },
      "outputs": [
        {
          "data": {
            "text/html": [
              "<div>\n",
              "<style scoped>\n",
              "    .dataframe tbody tr th:only-of-type {\n",
              "        vertical-align: middle;\n",
              "    }\n",
              "\n",
              "    .dataframe tbody tr th {\n",
              "        vertical-align: top;\n",
              "    }\n",
              "\n",
              "    .dataframe thead th {\n",
              "        text-align: right;\n",
              "    }\n",
              "</style>\n",
              "<table border=\"1\" class=\"dataframe\">\n",
              "  <thead>\n",
              "    <tr style=\"text-align: right;\">\n",
              "      <th></th>\n",
              "      <th>tweet_text</th>\n",
              "      <th>emotion_in_tweet_is_directed_at</th>\n",
              "      <th>is_there_an_emotion_directed_at_a_brand_or_product</th>\n",
              "    </tr>\n",
              "  </thead>\n",
              "  <tbody>\n",
              "    <tr>\n",
<<<<<<< HEAD
              "      <th>0</th>\n",
              "      <td>.@wesley83 I have a 3G iPhone. After 3 hrs twe...</td>\n",
              "      <td>iPhone</td>\n",
              "      <td>Negative emotion</td>\n",
              "    </tr>\n",
              "    <tr>\n",
              "      <th>1</th>\n",
              "      <td>@jessedee Know about @fludapp ? Awesome iPad/i...</td>\n",
              "      <td>iPad or iPhone App</td>\n",
              "      <td>Positive emotion</td>\n",
              "    </tr>\n",
              "    <tr>\n",
              "      <th>2</th>\n",
              "      <td>@swonderlin Can not wait for #iPad 2 also. The...</td>\n",
=======
              "      <th>8716</th>\n",
              "      <td>Ipad everywhere. #SXSW {link}</td>\n",
>>>>>>> bdbde03013a90270db4542412210ebdc20951927
              "      <td>iPad</td>\n",
              "      <td>Positive emotion</td>\n",
              "    </tr>\n",
              "    <tr>\n",
<<<<<<< HEAD
              "      <th>3</th>\n",
              "      <td>@sxsw I hope this year's festival isn't as cra...</td>\n",
              "      <td>iPad or iPhone App</td>\n",
              "      <td>Negative emotion</td>\n",
              "    </tr>\n",
              "    <tr>\n",
              "      <th>4</th>\n",
              "      <td>@sxtxstate great stuff on Fri #SXSW: Marissa M...</td>\n",
              "      <td>Google</td>\n",
              "      <td>Positive emotion</td>\n",
=======
              "      <th>8717</th>\n",
              "      <td>Wave, buzz... RT @mention We interrupt your regularly scheduled #sxsw geek programming with big news {link}  #google #circles</td>\n",
              "      <td>NaN</td>\n",
              "      <td>No emotion toward brand or product</td>\n",
              "    </tr>\n",
              "    <tr>\n",
              "      <th>8718</th>\n",
              "      <td>Google's Zeiger, a physician never reported potential AE. Yet FDA relies on physicians. &amp;quot;We're operating w/out data.&amp;quot; #sxsw #health2dev</td>\n",
              "      <td>NaN</td>\n",
              "      <td>No emotion toward brand or product</td>\n",
              "    </tr>\n",
              "    <tr>\n",
              "      <th>8719</th>\n",
              "      <td>Some Verizon iPhone customers complained their time fell back an hour this weekend.  Of course they were the New Yorkers who attended #SXSW.</td>\n",
              "      <td>NaN</td>\n",
              "      <td>No emotion toward brand or product</td>\n",
              "    </tr>\n",
              "    <tr>\n",
              "      <th>8720</th>\n",
              "      <td>�ϡ�����_��ʋ�΋�ҋ�������⋁_��������_���RT @mention Google Tests ���Check-in Offers�۝ At #SXSW {link}</td>\n",
              "      <td>NaN</td>\n",
              "      <td>No emotion toward brand or product</td>\n",
>>>>>>> bdbde03013a90270db4542412210ebdc20951927
              "    </tr>\n",
              "  </tbody>\n",
              "</table>\n",
              "</div>"
            ],
            "text/plain": [
<<<<<<< HEAD
              "                                          tweet_text  \\\n",
              "0  .@wesley83 I have a 3G iPhone. After 3 hrs twe...   \n",
              "1  @jessedee Know about @fludapp ? Awesome iPad/i...   \n",
              "2  @swonderlin Can not wait for #iPad 2 also. The...   \n",
              "3  @sxsw I hope this year's festival isn't as cra...   \n",
              "4  @sxtxstate great stuff on Fri #SXSW: Marissa M...   \n",
              "\n",
              "  emotion_in_tweet_is_directed_at  \\\n",
              "0                          iPhone   \n",
              "1              iPad or iPhone App   \n",
              "2                            iPad   \n",
              "3              iPad or iPhone App   \n",
              "4                          Google   \n",
              "\n",
              "  is_there_an_emotion_directed_at_a_brand_or_product  \n",
              "0                                   Negative emotion  \n",
              "1                                   Positive emotion  \n",
              "2                                   Positive emotion  \n",
              "3                                   Negative emotion  \n",
              "4                                   Positive emotion  "
            ]
          },
          "execution_count": 4,
=======
              "                                                                                                                                             tweet_text  \\\n",
              "8716                                                                                                                      Ipad everywhere. #SXSW {link}   \n",
              "8717                      Wave, buzz... RT @mention We interrupt your regularly scheduled #sxsw geek programming with big news {link}  #google #circles   \n",
              "8718  Google's Zeiger, a physician never reported potential AE. Yet FDA relies on physicians. &quot;We're operating w/out data.&quot; #sxsw #health2dev   \n",
              "8719       Some Verizon iPhone customers complained their time fell back an hour this weekend.  Of course they were the New Yorkers who attended #SXSW.   \n",
              "8720                                                  �ϡ�����_��ʋ�΋�ҋ�������⋁_��������_���RT @mention Google Tests ���Check-in Offers�۝ At #SXSW {link}   \n",
              "\n",
              "     emotion_in_tweet_is_directed_at  \\\n",
              "8716                            iPad   \n",
              "8717                             NaN   \n",
              "8718                             NaN   \n",
              "8719                             NaN   \n",
              "8720                             NaN   \n",
              "\n",
              "     is_there_an_emotion_directed_at_a_brand_or_product  \n",
              "8716                                   Positive emotion  \n",
              "8717                 No emotion toward brand or product  \n",
              "8718                 No emotion toward brand or product  \n",
              "8719                 No emotion toward brand or product  \n",
              "8720                 No emotion toward brand or product  "
            ]
          },
          "execution_count": 5,
>>>>>>> bdbde03013a90270db4542412210ebdc20951927
          "metadata": {},
          "output_type": "execute_result"
        }
      ],
      "source": [
<<<<<<< HEAD
        "# Previewing the top of our dataset\n",
        "data.head()"
=======
        "# Previewing the bottom of our dataset\n",
        "data.tail()"
>>>>>>> bdbde03013a90270db4542412210ebdc20951927
      ]
    },
    {
      "cell_type": "code",
<<<<<<< HEAD
      "execution_count": 5,
      "metadata": {
        "colab": {
          "base_uri": "https://localhost:8080/",
          "height": 206
        },
        "id": "kKwcaZXy-SJL",
        "outputId": "efb4dbdb-a0a6-4b0a-9f13-ec5f47c716b5"
=======
      "execution_count": 6,
      "metadata": {
        "colab": {
          "base_uri": "https://localhost:8080/"
        },
        "id": "Br-BKxUWfMKs",
        "outputId": "53653bcb-2011-441e-b4b0-5f97721bc2a5"
>>>>>>> bdbde03013a90270db4542412210ebdc20951927
      },
      "outputs": [
        {
          "data": {
<<<<<<< HEAD
            "text/html": [
              "<div>\n",
              "<style scoped>\n",
              "    .dataframe tbody tr th:only-of-type {\n",
              "        vertical-align: middle;\n",
              "    }\n",
              "\n",
              "    .dataframe tbody tr th {\n",
              "        vertical-align: top;\n",
              "    }\n",
              "\n",
              "    .dataframe thead th {\n",
              "        text-align: right;\n",
              "    }\n",
              "</style>\n",
              "<table border=\"1\" class=\"dataframe\">\n",
              "  <thead>\n",
              "    <tr style=\"text-align: right;\">\n",
              "      <th></th>\n",
              "      <th>tweet_text</th>\n",
              "      <th>emotion_in_tweet_is_directed_at</th>\n",
              "      <th>is_there_an_emotion_directed_at_a_brand_or_product</th>\n",
              "    </tr>\n",
              "  </thead>\n",
              "  <tbody>\n",
              "    <tr>\n",
              "      <th>8716</th>\n",
              "      <td>Ipad everywhere. #SXSW {link}</td>\n",
              "      <td>iPad</td>\n",
              "      <td>Positive emotion</td>\n",
              "    </tr>\n",
              "    <tr>\n",
              "      <th>8717</th>\n",
              "      <td>Wave, buzz... RT @mention We interrupt your re...</td>\n",
              "      <td>NaN</td>\n",
              "      <td>No emotion toward brand or product</td>\n",
              "    </tr>\n",
              "    <tr>\n",
              "      <th>8718</th>\n",
              "      <td>Google's Zeiger, a physician never reported po...</td>\n",
              "      <td>NaN</td>\n",
              "      <td>No emotion toward brand or product</td>\n",
              "    </tr>\n",
              "    <tr>\n",
              "      <th>8719</th>\n",
              "      <td>Some Verizon iPhone customers complained their...</td>\n",
              "      <td>NaN</td>\n",
              "      <td>No emotion toward brand or product</td>\n",
              "    </tr>\n",
              "    <tr>\n",
              "      <th>8720</th>\n",
              "      <td>�ϡ�����_��ʋ�΋�ҋ�������⋁_��������_���RT @mentio...</td>\n",
              "      <td>NaN</td>\n",
              "      <td>No emotion toward brand or product</td>\n",
              "    </tr>\n",
              "  </tbody>\n",
              "</table>\n",
              "</div>"
            ],
            "text/plain": [
              "                                             tweet_text  \\\n",
              "8716                      Ipad everywhere. #SXSW {link}   \n",
              "8717  Wave, buzz... RT @mention We interrupt your re...   \n",
              "8718  Google's Zeiger, a physician never reported po...   \n",
              "8719  Some Verizon iPhone customers complained their...   \n",
              "8720  �ϡ�����_��ʋ�΋�ҋ�������⋁_��������_���RT @mentio...   \n",
              "\n",
              "     emotion_in_tweet_is_directed_at  \\\n",
              "8716                            iPad   \n",
              "8717                             NaN   \n",
              "8718                             NaN   \n",
              "8719                             NaN   \n",
              "8720                             NaN   \n",
              "\n",
              "     is_there_an_emotion_directed_at_a_brand_or_product  \n",
              "8716                                   Positive emotion  \n",
              "8717                 No emotion toward brand or product  \n",
              "8718                 No emotion toward brand or product  \n",
              "8719                 No emotion toward brand or product  \n",
              "8720                 No emotion toward brand or product  "
            ]
          },
          "execution_count": 5,
=======
            "text/plain": [
              "(8721, 3)"
            ]
          },
          "execution_count": 6,
>>>>>>> bdbde03013a90270db4542412210ebdc20951927
          "metadata": {},
          "output_type": "execute_result"
        }
      ],
      "source": [
<<<<<<< HEAD
        "# Previewing the bottom of our dataset\n",
        "data.tail()"
      ]
    },
    {
      "cell_type": "code",
      "execution_count": 6,
      "metadata": {
        "colab": {
          "base_uri": "https://localhost:8080/"
        },
        "id": "Br-BKxUWfMKs",
        "outputId": "b9e153d4-bab9-4d55-9881-49a56dabcf6d"
=======
        "#check the shape of the dataframe\n",
        "data.shape"
      ]
    },
    {
      "cell_type": "markdown",
      "metadata": {
        "id": "o9VTsuci-Bq1"
      },
      "source": []
    },
    {
      "cell_type": "markdown",
      "metadata": {
        "id": "i0m-Nvag6tEi"
      },
      "source": [
        "### c) Tidying the Dataset"
      ]
    },
    {
      "cell_type": "markdown",
      "metadata": {
        "id": "A8eU5EUxfcRX"
      },
      "source": [
        "To make it easier to read and analyse the data, we rename the columns."
      ]
    },
    {
      "cell_type": "code",
      "execution_count": 7,
      "metadata": {
        "colab": {
          "base_uri": "https://localhost:8080/",
          "height": 206
        },
        "id": "kDwMtP8SfVE6",
        "outputId": "4aebd6a4-1c99-41fb-d1ed-51f0634b7abf"
>>>>>>> bdbde03013a90270db4542412210ebdc20951927
      },
      "outputs": [
        {
          "data": {
<<<<<<< HEAD
            "text/plain": [
              "(8721, 3)"
            ]
          },
          "execution_count": 6,
=======
            "text/html": [
              "<div>\n",
              "<style scoped>\n",
              "    .dataframe tbody tr th:only-of-type {\n",
              "        vertical-align: middle;\n",
              "    }\n",
              "\n",
              "    .dataframe tbody tr th {\n",
              "        vertical-align: top;\n",
              "    }\n",
              "\n",
              "    .dataframe thead th {\n",
              "        text-align: right;\n",
              "    }\n",
              "</style>\n",
              "<table border=\"1\" class=\"dataframe\">\n",
              "  <thead>\n",
              "    <tr style=\"text-align: right;\">\n",
              "      <th></th>\n",
              "      <th>Tweet</th>\n",
              "      <th>Product</th>\n",
              "      <th>Sentiment</th>\n",
              "    </tr>\n",
              "  </thead>\n",
              "  <tbody>\n",
              "    <tr>\n",
              "      <th>0</th>\n",
              "      <td>.@wesley83 I have a 3G iPhone. After 3 hrs tweeting at #RISE_Austin, it was dead!  I need to upgrade. Plugin stations at #SXSW.</td>\n",
              "      <td>iPhone</td>\n",
              "      <td>Negative emotion</td>\n",
              "    </tr>\n",
              "    <tr>\n",
              "      <th>1</th>\n",
              "      <td>@jessedee Know about @fludapp ? Awesome iPad/iPhone app that you'll likely appreciate for its design. Also, they're giving free Ts at #SXSW</td>\n",
              "      <td>iPad or iPhone App</td>\n",
              "      <td>Positive emotion</td>\n",
              "    </tr>\n",
              "    <tr>\n",
              "      <th>2</th>\n",
              "      <td>@swonderlin Can not wait for #iPad 2 also. They should sale them down at #SXSW.</td>\n",
              "      <td>iPad</td>\n",
              "      <td>Positive emotion</td>\n",
              "    </tr>\n",
              "    <tr>\n",
              "      <th>3</th>\n",
              "      <td>@sxsw I hope this year's festival isn't as crashy as this year's iPhone app. #sxsw</td>\n",
              "      <td>iPad or iPhone App</td>\n",
              "      <td>Negative emotion</td>\n",
              "    </tr>\n",
              "    <tr>\n",
              "      <th>4</th>\n",
              "      <td>@sxtxstate great stuff on Fri #SXSW: Marissa Mayer (Google), Tim O'Reilly (tech books/conferences) &amp;amp; Matt Mullenweg (Wordpress)</td>\n",
              "      <td>Google</td>\n",
              "      <td>Positive emotion</td>\n",
              "    </tr>\n",
              "  </tbody>\n",
              "</table>\n",
              "</div>"
            ],
            "text/plain": [
              "                                                                                                                                         Tweet  \\\n",
              "0              .@wesley83 I have a 3G iPhone. After 3 hrs tweeting at #RISE_Austin, it was dead!  I need to upgrade. Plugin stations at #SXSW.   \n",
              "1  @jessedee Know about @fludapp ? Awesome iPad/iPhone app that you'll likely appreciate for its design. Also, they're giving free Ts at #SXSW   \n",
              "2                                                              @swonderlin Can not wait for #iPad 2 also. They should sale them down at #SXSW.   \n",
              "3                                                           @sxsw I hope this year's festival isn't as crashy as this year's iPhone app. #sxsw   \n",
              "4          @sxtxstate great stuff on Fri #SXSW: Marissa Mayer (Google), Tim O'Reilly (tech books/conferences) &amp; Matt Mullenweg (Wordpress)   \n",
              "\n",
              "              Product         Sentiment  \n",
              "0              iPhone  Negative emotion  \n",
              "1  iPad or iPhone App  Positive emotion  \n",
              "2                iPad  Positive emotion  \n",
              "3  iPad or iPhone App  Negative emotion  \n",
              "4              Google  Positive emotion  "
            ]
          },
          "execution_count": 7,
>>>>>>> bdbde03013a90270db4542412210ebdc20951927
          "metadata": {},
          "output_type": "execute_result"
        }
      ],
      "source": [
<<<<<<< HEAD
        "#check the shape of the dataframe\n",
        "data.shape"
=======
        "#rename columns for readability\n",
        "data = data.rename(columns = {'tweet_text': 'Tweet', \n",
        "                         'emotion_in_tweet_is_directed_at': 'Product', \n",
        "                         'is_there_an_emotion_directed_at_a_brand_or_product': 'Sentiment'})\n",
        "data.head()"
>>>>>>> bdbde03013a90270db4542412210ebdc20951927
      ]
    },
    {
      "cell_type": "markdown",
      "metadata": {
<<<<<<< HEAD
        "id": "pGkZ1VFd-CIk"
      },
      "source": [
        "## 4. External Data Source Validation"
      ]
    },
    {
      "cell_type": "markdown",
      "metadata": {
        "id": "0xNTG4sL-CIl"
      },
      "source": [
        "Making sure your data matches something outside of the dataset is very important. It allows you to ensure that the measurements are roughly in line with what they should be and it serves as a check on what other things might be wrong in your dataset. External validation can often be as simple as checking your data against a single number, as we will do here."
      ]
    },
    {
      "cell_type": "markdown",
      "metadata": {
        "id": "lh85uCJk-CIl"
      },
      "source": [
        "### a.Validation"
      ]
    },
    {
      "cell_type": "markdown",
      "metadata": {
        "id": "i0m-Nvag6tEi"
      },
      "source": [
        "## 5. Tidying the Dataset"
      ]
    },
    {
      "cell_type": "markdown",
      "metadata": {
        "id": "A8eU5EUxfcRX"
      },
      "source": [
        "To make it easier to read and analyse the data, we rename the columns."
      ]
    },
    {
      "cell_type": "code",
      "execution_count": 7,
      "metadata": {
        "colab": {
          "base_uri": "https://localhost:8080/",
          "height": 206
        },
        "id": "kDwMtP8SfVE6",
        "outputId": "3f31e73d-e0c3-4c55-c04b-3a5c6cf051f9"
      },
      "outputs": [
        {
          "data": {
            "text/html": [
              "<div>\n",
              "<style scoped>\n",
              "    .dataframe tbody tr th:only-of-type {\n",
              "        vertical-align: middle;\n",
              "    }\n",
              "\n",
              "    .dataframe tbody tr th {\n",
              "        vertical-align: top;\n",
              "    }\n",
              "\n",
              "    .dataframe thead th {\n",
              "        text-align: right;\n",
              "    }\n",
              "</style>\n",
              "<table border=\"1\" class=\"dataframe\">\n",
              "  <thead>\n",
              "    <tr style=\"text-align: right;\">\n",
              "      <th></th>\n",
              "      <th>Tweet</th>\n",
              "      <th>Product</th>\n",
              "      <th>Sentiment</th>\n",
              "    </tr>\n",
              "  </thead>\n",
              "  <tbody>\n",
              "    <tr>\n",
              "      <th>0</th>\n",
              "      <td>.@wesley83 I have a 3G iPhone. After 3 hrs twe...</td>\n",
              "      <td>iPhone</td>\n",
              "      <td>Negative emotion</td>\n",
              "    </tr>\n",
              "    <tr>\n",
              "      <th>1</th>\n",
              "      <td>@jessedee Know about @fludapp ? Awesome iPad/i...</td>\n",
              "      <td>iPad or iPhone App</td>\n",
              "      <td>Positive emotion</td>\n",
              "    </tr>\n",
              "    <tr>\n",
              "      <th>2</th>\n",
              "      <td>@swonderlin Can not wait for #iPad 2 also. The...</td>\n",
              "      <td>iPad</td>\n",
              "      <td>Positive emotion</td>\n",
              "    </tr>\n",
              "    <tr>\n",
              "      <th>3</th>\n",
              "      <td>@sxsw I hope this year's festival isn't as cra...</td>\n",
              "      <td>iPad or iPhone App</td>\n",
              "      <td>Negative emotion</td>\n",
              "    </tr>\n",
              "    <tr>\n",
              "      <th>4</th>\n",
              "      <td>@sxtxstate great stuff on Fri #SXSW: Marissa M...</td>\n",
              "      <td>Google</td>\n",
              "      <td>Positive emotion</td>\n",
              "    </tr>\n",
              "  </tbody>\n",
              "</table>\n",
              "</div>"
            ],
            "text/plain": [
              "                                               Tweet             Product  \\\n",
              "0  .@wesley83 I have a 3G iPhone. After 3 hrs twe...              iPhone   \n",
              "1  @jessedee Know about @fludapp ? Awesome iPad/i...  iPad or iPhone App   \n",
              "2  @swonderlin Can not wait for #iPad 2 also. The...                iPad   \n",
              "3  @sxsw I hope this year's festival isn't as cra...  iPad or iPhone App   \n",
              "4  @sxtxstate great stuff on Fri #SXSW: Marissa M...              Google   \n",
              "\n",
              "          Sentiment  \n",
              "0  Negative emotion  \n",
              "1  Positive emotion  \n",
              "2  Positive emotion  \n",
              "3  Negative emotion  \n",
              "4  Positive emotion  "
            ]
          },
          "execution_count": 7,
          "metadata": {},
          "output_type": "execute_result"
        }
      ],
      "source": [
        "#rename columns for readability\n",
        "data = data.rename(columns = {'tweet_text': 'Tweet', \n",
        "                         'emotion_in_tweet_is_directed_at': 'Product', \n",
        "                         'is_there_an_emotion_directed_at_a_brand_or_product': 'Sentiment'})\n",
        "data.head()"
=======
        "id": "OqhuxS1bf4Wc"
      },
      "source": [
        "Before doing our analysis, we check for missing data or duplicated rows "
      ]
    },
    {
      "cell_type": "code",
      "execution_count": 8,
      "metadata": {
        "colab": {
          "base_uri": "https://localhost:8080/"
        },
        "id": "xWFU12vkfroM",
        "outputId": "89e2cbc4-0c73-427d-d844-52a58a3a9d19"
      },
      "outputs": [
        {
          "name": "stdout",
          "output_type": "stream",
          "text": [
            "<class 'pandas.core.frame.DataFrame'>\n",
            "RangeIndex: 8721 entries, 0 to 8720\n",
            "Data columns (total 3 columns):\n",
            " #   Column     Non-Null Count  Dtype \n",
            "---  ------     --------------  ----- \n",
            " 0   Tweet      8720 non-null   object\n",
            " 1   Product    3169 non-null   object\n",
            " 2   Sentiment  8721 non-null   object\n",
            "dtypes: object(3)\n",
            "memory usage: 204.5+ KB\n",
            "None\n",
            "--------------------\n",
            "Total duplicated rows\n",
            "22\n",
            "--------------------\n",
            "Total null values\n",
            "Tweet           1\n",
            "Product      5552\n",
            "Sentiment       0\n",
            "dtype: int64\n"
          ]
        }
      ],
      "source": [
        "#looking at data, duplicates and null values\n",
        "print(data.info())\n",
        "print((\"-\"*20))\n",
        "\n",
        "# Check for duplicated rows\n",
        "print('Total duplicated rows')\n",
        "print(data.duplicated().sum())\n",
        "print((\"-\"*20))\n",
        "\n",
        "# Check for null values\n",
        "print('Total null values')\n",
        "print(data.isna().sum())"
>>>>>>> bdbde03013a90270db4542412210ebdc20951927
      ]
    },
    {
      "cell_type": "markdown",
      "metadata": {
<<<<<<< HEAD
        "id": "OqhuxS1bf4Wc"
      },
      "source": [
        "Before doing our analysis, we check for missing data or duplicated rows "
=======
        "id": "v3cT3e4Jmq6N"
      },
      "source": [
        "Checking the contents in the product and sentiment columns "
>>>>>>> bdbde03013a90270db4542412210ebdc20951927
      ]
    },
    {
      "cell_type": "code",
<<<<<<< HEAD
      "execution_count": 8,
=======
      "execution_count": 9,
>>>>>>> bdbde03013a90270db4542412210ebdc20951927
      "metadata": {
        "colab": {
          "base_uri": "https://localhost:8080/"
        },
<<<<<<< HEAD
        "id": "xWFU12vkfroM",
        "outputId": "315132e1-c76c-425a-b650-6e19d5e6fb37"
=======
        "id": "Vv5FBD-PizLC",
        "outputId": "d5ee1f53-16a2-475c-bfeb-771462f934fb"
>>>>>>> bdbde03013a90270db4542412210ebdc20951927
      },
      "outputs": [
        {
          "name": "stdout",
          "output_type": "stream",
          "text": [
<<<<<<< HEAD
            "<class 'pandas.core.frame.DataFrame'>\n",
            "RangeIndex: 8721 entries, 0 to 8720\n",
            "Data columns (total 3 columns):\n",
            " #   Column     Non-Null Count  Dtype \n",
            "---  ------     --------------  ----- \n",
            " 0   Tweet      8720 non-null   object\n",
            " 1   Product    3169 non-null   object\n",
            " 2   Sentiment  8721 non-null   object\n",
            "dtypes: object(3)\n",
            "memory usage: 204.5+ KB\n",
            "None\n",
            "--------------------\n",
            "Total duplicated rows\n",
            "22\n",
            "--------------------\n",
            "Total null values\n",
            "Tweet           1\n",
            "Product      5552\n",
            "Sentiment       0\n",
            "dtype: int64\n"
=======
            "iPad                               910\n",
            "Apple                              640\n",
            "iPad or iPhone App                 451\n",
            "Google                             412\n",
            "iPhone                             288\n",
            "Other Google product or service    282\n",
            "Android App                         78\n",
            "Android                             74\n",
            "Other Apple product or service      34\n",
            "Name: Product, dtype: int64\n",
            "--------------------\n",
            "No emotion toward brand or product    5156\n",
            "Positive emotion                      2869\n",
            "Negative emotion                       545\n",
            "I can't tell                           151\n",
            "Name: Sentiment, dtype: int64\n"
>>>>>>> bdbde03013a90270db4542412210ebdc20951927
          ]
        }
      ],
      "source": [
<<<<<<< HEAD
        "#looking at data, duplicates and null values\n",
        "print(data.info())\n",
        "print((\"-\"*20))\n",
        "\n",
        "# Check for duplicated rows\n",
        "print('Total duplicated rows')\n",
        "print(data.duplicated().sum())\n",
        "print((\"-\"*20))\n",
        "\n",
        "# Check for null values\n",
        "print('Total null values')\n",
        "print(data.isna().sum())"
      ]
    },
    {
      "cell_type": "markdown",
      "metadata": {
        "id": "v3cT3e4Jmq6N"
      },
      "source": [
        "Checking the contents in the product and sentiment columns "
      ]
    },
    {
      "cell_type": "code",
      "execution_count": 9,
      "metadata": {
        "colab": {
          "base_uri": "https://localhost:8080/"
        },
        "id": "Vv5FBD-PizLC",
        "outputId": "5a3dd323-ea24-4f98-dc8c-57c19d30f5e7"
      },
      "outputs": [
        {
          "name": "stdout",
          "output_type": "stream",
          "text": [
            "iPad                               910\n",
            "Apple                              640\n",
            "iPad or iPhone App                 451\n",
            "Google                             412\n",
            "iPhone                             288\n",
            "Other Google product or service    282\n",
            "Android App                         78\n",
            "Android                             74\n",
            "Other Apple product or service      34\n",
            "Name: Product, dtype: int64\n",
            "--------------------\n",
            "No emotion toward brand or product    5156\n",
            "Positive emotion                      2869\n",
            "Negative emotion                       545\n",
            "I can't tell                           151\n",
            "Name: Sentiment, dtype: int64\n"
          ]
        }
      ],
      "source": [
        "# Print the value count of product and sentiment column\n",
        "print(data['Product'].value_counts())\n",
        "print((\"-\"*20))\n",
        "print(data['Sentiment'].value_counts())"
      ]
    },
    {
=======
        "# Print the value count of product and sentiment column\n",
        "print(data['Product'].value_counts())\n",
        "print((\"-\"*20))\n",
        "print(data['Sentiment'].value_counts())"
      ]
    },
    {
>>>>>>> bdbde03013a90270db4542412210ebdc20951927
      "cell_type": "code",
      "execution_count": 10,
      "metadata": {
        "id": "O50NW7IaiW9z"
      },
      "outputs": [],
      "source": [
        "#Simplify sentiment labels for visualizations\n",
        "dict_sent = {'No emotion toward brand or product':\"No emotion\", \n",
        "             'Positive emotion':'Positive emotion',\n",
        "             'Negative emotion':'Negative emotion',\n",
        "             \"I can't tell\": \"I can't tell\"}\n",
        "data['Sentiment'] = data['Sentiment'].map(dict_sent)"
      ]
    },
    {
      "cell_type": "markdown",
      "metadata": {
        "id": "lSPsI1qIpSAm"
      },
      "source": [
        "**Handling duplicates**"
      ]
    },
    {
      "cell_type": "code",
      "execution_count": 11,
      "metadata": {
        "colab": {
          "base_uri": "https://localhost:8080/",
<<<<<<< HEAD
          "height": 423
        },
        "id": "Z6aH4BG5zDos",
        "outputId": "c819aa1d-5bb1-4f0a-e546-dd3c73de9e17"
=======
          "height": 468
        },
        "id": "Z6aH4BG5zDos",
        "outputId": "dcd953d9-f9e7-43a1-c41a-16a966dcfdd5"
>>>>>>> bdbde03013a90270db4542412210ebdc20951927
      },
      "outputs": [
        {
          "data": {
            "text/html": [
              "<div>\n",
              "<style scoped>\n",
              "    .dataframe tbody tr th:only-of-type {\n",
              "        vertical-align: middle;\n",
              "    }\n",
              "\n",
              "    .dataframe tbody tr th {\n",
              "        vertical-align: top;\n",
              "    }\n",
              "\n",
              "    .dataframe thead th {\n",
              "        text-align: right;\n",
              "    }\n",
              "</style>\n",
              "<table border=\"1\" class=\"dataframe\">\n",
              "  <thead>\n",
              "    <tr style=\"text-align: right;\">\n",
              "      <th></th>\n",
              "      <th>Tweet</th>\n",
              "      <th>Product</th>\n",
              "      <th>Sentiment</th>\n",
              "    </tr>\n",
              "  </thead>\n",
              "  <tbody>\n",
              "    <tr>\n",
              "      <th>0</th>\n",
<<<<<<< HEAD
              "      <td>.@wesley83 I have a 3G iPhone. After 3 hrs twe...</td>\n",
=======
              "      <td>.@wesley83 I have a 3G iPhone. After 3 hrs tweeting at #RISE_Austin, it was dead!  I need to upgrade. Plugin stations at #SXSW.</td>\n",
>>>>>>> bdbde03013a90270db4542412210ebdc20951927
              "      <td>iPhone</td>\n",
              "      <td>Negative emotion</td>\n",
              "    </tr>\n",
              "    <tr>\n",
              "      <th>1</th>\n",
<<<<<<< HEAD
              "      <td>@jessedee Know about @fludapp ? Awesome iPad/i...</td>\n",
=======
              "      <td>@jessedee Know about @fludapp ? Awesome iPad/iPhone app that you'll likely appreciate for its design. Also, they're giving free Ts at #SXSW</td>\n",
>>>>>>> bdbde03013a90270db4542412210ebdc20951927
              "      <td>iPad or iPhone App</td>\n",
              "      <td>Positive emotion</td>\n",
              "    </tr>\n",
              "    <tr>\n",
              "      <th>2</th>\n",
<<<<<<< HEAD
              "      <td>@swonderlin Can not wait for #iPad 2 also. The...</td>\n",
=======
              "      <td>@swonderlin Can not wait for #iPad 2 also. They should sale them down at #SXSW.</td>\n",
>>>>>>> bdbde03013a90270db4542412210ebdc20951927
              "      <td>iPad</td>\n",
              "      <td>Positive emotion</td>\n",
              "    </tr>\n",
              "    <tr>\n",
              "      <th>3</th>\n",
<<<<<<< HEAD
              "      <td>@sxsw I hope this year's festival isn't as cra...</td>\n",
=======
              "      <td>@sxsw I hope this year's festival isn't as crashy as this year's iPhone app. #sxsw</td>\n",
>>>>>>> bdbde03013a90270db4542412210ebdc20951927
              "      <td>iPad or iPhone App</td>\n",
              "      <td>Negative emotion</td>\n",
              "    </tr>\n",
              "    <tr>\n",
              "      <th>4</th>\n",
<<<<<<< HEAD
              "      <td>@sxtxstate great stuff on Fri #SXSW: Marissa M...</td>\n",
=======
              "      <td>@sxtxstate great stuff on Fri #SXSW: Marissa Mayer (Google), Tim O'Reilly (tech books/conferences) &amp;amp; Matt Mullenweg (Wordpress)</td>\n",
>>>>>>> bdbde03013a90270db4542412210ebdc20951927
              "      <td>Google</td>\n",
              "      <td>Positive emotion</td>\n",
              "    </tr>\n",
              "    <tr>\n",
              "      <th>...</th>\n",
              "      <td>...</td>\n",
              "      <td>...</td>\n",
              "      <td>...</td>\n",
              "    </tr>\n",
              "    <tr>\n",
              "      <th>8716</th>\n",
              "      <td>Ipad everywhere. #SXSW {link}</td>\n",
              "      <td>iPad</td>\n",
              "      <td>Positive emotion</td>\n",
              "    </tr>\n",
              "    <tr>\n",
              "      <th>8717</th>\n",
<<<<<<< HEAD
              "      <td>Wave, buzz... RT @mention We interrupt your re...</td>\n",
=======
              "      <td>Wave, buzz... RT @mention We interrupt your regularly scheduled #sxsw geek programming with big news {link}  #google #circles</td>\n",
>>>>>>> bdbde03013a90270db4542412210ebdc20951927
              "      <td>NaN</td>\n",
              "      <td>No emotion</td>\n",
              "    </tr>\n",
              "    <tr>\n",
              "      <th>8718</th>\n",
<<<<<<< HEAD
              "      <td>Google's Zeiger, a physician never reported po...</td>\n",
=======
              "      <td>Google's Zeiger, a physician never reported potential AE. Yet FDA relies on physicians. &amp;quot;We're operating w/out data.&amp;quot; #sxsw #health2dev</td>\n",
>>>>>>> bdbde03013a90270db4542412210ebdc20951927
              "      <td>NaN</td>\n",
              "      <td>No emotion</td>\n",
              "    </tr>\n",
              "    <tr>\n",
              "      <th>8719</th>\n",
<<<<<<< HEAD
              "      <td>Some Verizon iPhone customers complained their...</td>\n",
=======
              "      <td>Some Verizon iPhone customers complained their time fell back an hour this weekend.  Of course they were the New Yorkers who attended #SXSW.</td>\n",
>>>>>>> bdbde03013a90270db4542412210ebdc20951927
              "      <td>NaN</td>\n",
              "      <td>No emotion</td>\n",
              "    </tr>\n",
              "    <tr>\n",
              "      <th>8720</th>\n",
<<<<<<< HEAD
              "      <td>�ϡ�����_��ʋ�΋�ҋ�������⋁_��������_���RT @mentio...</td>\n",
=======
              "      <td>�ϡ�����_��ʋ�΋�ҋ�������⋁_��������_���RT @mention Google Tests ���Check-in Offers�۝ At #SXSW {link}</td>\n",
>>>>>>> bdbde03013a90270db4542412210ebdc20951927
              "      <td>NaN</td>\n",
              "      <td>No emotion</td>\n",
              "    </tr>\n",
              "  </tbody>\n",
              "</table>\n",
              "<p>8721 rows × 3 columns</p>\n",
              "</div>"
            ],
            "text/plain": [
<<<<<<< HEAD
              "                                                  Tweet             Product  \\\n",
              "0     .@wesley83 I have a 3G iPhone. After 3 hrs twe...              iPhone   \n",
              "1     @jessedee Know about @fludapp ? Awesome iPad/i...  iPad or iPhone App   \n",
              "2     @swonderlin Can not wait for #iPad 2 also. The...                iPad   \n",
              "3     @sxsw I hope this year's festival isn't as cra...  iPad or iPhone App   \n",
              "4     @sxtxstate great stuff on Fri #SXSW: Marissa M...              Google   \n",
              "...                                                 ...                 ...   \n",
              "8716                      Ipad everywhere. #SXSW {link}                iPad   \n",
              "8717  Wave, buzz... RT @mention We interrupt your re...                 NaN   \n",
              "8718  Google's Zeiger, a physician never reported po...                 NaN   \n",
              "8719  Some Verizon iPhone customers complained their...                 NaN   \n",
              "8720  �ϡ�����_��ʋ�΋�ҋ�������⋁_��������_���RT @mentio...                 NaN   \n",
              "\n",
              "             Sentiment  \n",
              "0     Negative emotion  \n",
              "1     Positive emotion  \n",
              "2     Positive emotion  \n",
              "3     Negative emotion  \n",
              "4     Positive emotion  \n",
              "...                ...  \n",
              "8716  Positive emotion  \n",
              "8717        No emotion  \n",
              "8718        No emotion  \n",
              "8719        No emotion  \n",
              "8720        No emotion  \n",
=======
              "                                                                                                                                                  Tweet  \\\n",
              "0                       .@wesley83 I have a 3G iPhone. After 3 hrs tweeting at #RISE_Austin, it was dead!  I need to upgrade. Plugin stations at #SXSW.   \n",
              "1           @jessedee Know about @fludapp ? Awesome iPad/iPhone app that you'll likely appreciate for its design. Also, they're giving free Ts at #SXSW   \n",
              "2                                                                       @swonderlin Can not wait for #iPad 2 also. They should sale them down at #SXSW.   \n",
              "3                                                                    @sxsw I hope this year's festival isn't as crashy as this year's iPhone app. #sxsw   \n",
              "4                   @sxtxstate great stuff on Fri #SXSW: Marissa Mayer (Google), Tim O'Reilly (tech books/conferences) &amp; Matt Mullenweg (Wordpress)   \n",
              "...                                                                                                                                                 ...   \n",
              "8716                                                                                                                      Ipad everywhere. #SXSW {link}   \n",
              "8717                      Wave, buzz... RT @mention We interrupt your regularly scheduled #sxsw geek programming with big news {link}  #google #circles   \n",
              "8718  Google's Zeiger, a physician never reported potential AE. Yet FDA relies on physicians. &quot;We're operating w/out data.&quot; #sxsw #health2dev   \n",
              "8719       Some Verizon iPhone customers complained their time fell back an hour this weekend.  Of course they were the New Yorkers who attended #SXSW.   \n",
              "8720                                                  �ϡ�����_��ʋ�΋�ҋ�������⋁_��������_���RT @mention Google Tests ���Check-in Offers�۝ At #SXSW {link}   \n",
              "\n",
              "                 Product         Sentiment  \n",
              "0                 iPhone  Negative emotion  \n",
              "1     iPad or iPhone App  Positive emotion  \n",
              "2                   iPad  Positive emotion  \n",
              "3     iPad or iPhone App  Negative emotion  \n",
              "4                 Google  Positive emotion  \n",
              "...                  ...               ...  \n",
              "8716                iPad  Positive emotion  \n",
              "8717                 NaN        No emotion  \n",
              "8718                 NaN        No emotion  \n",
              "8719                 NaN        No emotion  \n",
              "8720                 NaN        No emotion  \n",
>>>>>>> bdbde03013a90270db4542412210ebdc20951927
              "\n",
              "[8721 rows x 3 columns]"
            ]
          },
          "execution_count": 11,
          "metadata": {},
          "output_type": "execute_result"
        }
      ],
      "source": [
        "#drop any NaN in the Tweet column\n",
        "data['Tweet'].dropna(inplace=True)\n",
        "data"
      ]
    },
    {
      "cell_type": "code",
      "execution_count": 12,
      "metadata": {
        "colab": {
          "base_uri": "https://localhost:8080/",
<<<<<<< HEAD
          "height": 423
        },
        "id": "bgSZrgoGpYHq",
        "outputId": "7dceb8a7-2f48-4ee1-e31a-b0b49f22c48d"
=======
          "height": 468
        },
        "id": "bgSZrgoGpYHq",
        "outputId": "99056222-698a-4eea-a61f-da45ef2b2ad5"
>>>>>>> bdbde03013a90270db4542412210ebdc20951927
      },
      "outputs": [
        {
          "data": {
            "text/html": [
              "<div>\n",
              "<style scoped>\n",
              "    .dataframe tbody tr th:only-of-type {\n",
              "        vertical-align: middle;\n",
              "    }\n",
              "\n",
              "    .dataframe tbody tr th {\n",
              "        vertical-align: top;\n",
              "    }\n",
              "\n",
              "    .dataframe thead th {\n",
              "        text-align: right;\n",
              "    }\n",
              "</style>\n",
              "<table border=\"1\" class=\"dataframe\">\n",
              "  <thead>\n",
              "    <tr style=\"text-align: right;\">\n",
              "      <th></th>\n",
              "      <th>Tweet</th>\n",
              "      <th>Product</th>\n",
              "      <th>Sentiment</th>\n",
              "    </tr>\n",
              "  </thead>\n",
              "  <tbody>\n",
              "    <tr>\n",
              "      <th>0</th>\n",
<<<<<<< HEAD
              "      <td>.@wesley83 I have a 3G iPhone. After 3 hrs twe...</td>\n",
=======
              "      <td>.@wesley83 I have a 3G iPhone. After 3 hrs tweeting at #RISE_Austin, it was dead!  I need to upgrade. Plugin stations at #SXSW.</td>\n",
>>>>>>> bdbde03013a90270db4542412210ebdc20951927
              "      <td>iPhone</td>\n",
              "      <td>Negative emotion</td>\n",
              "    </tr>\n",
              "    <tr>\n",
              "      <th>1</th>\n",
<<<<<<< HEAD
              "      <td>@jessedee Know about @fludapp ? Awesome iPad/i...</td>\n",
=======
              "      <td>@jessedee Know about @fludapp ? Awesome iPad/iPhone app that you'll likely appreciate for its design. Also, they're giving free Ts at #SXSW</td>\n",
>>>>>>> bdbde03013a90270db4542412210ebdc20951927
              "      <td>iPad or iPhone App</td>\n",
              "      <td>Positive emotion</td>\n",
              "    </tr>\n",
              "    <tr>\n",
              "      <th>2</th>\n",
<<<<<<< HEAD
              "      <td>@swonderlin Can not wait for #iPad 2 also. The...</td>\n",
=======
              "      <td>@swonderlin Can not wait for #iPad 2 also. They should sale them down at #SXSW.</td>\n",
>>>>>>> bdbde03013a90270db4542412210ebdc20951927
              "      <td>iPad</td>\n",
              "      <td>Positive emotion</td>\n",
              "    </tr>\n",
              "    <tr>\n",
              "      <th>3</th>\n",
<<<<<<< HEAD
              "      <td>@sxsw I hope this year's festival isn't as cra...</td>\n",
=======
              "      <td>@sxsw I hope this year's festival isn't as crashy as this year's iPhone app. #sxsw</td>\n",
>>>>>>> bdbde03013a90270db4542412210ebdc20951927
              "      <td>iPad or iPhone App</td>\n",
              "      <td>Negative emotion</td>\n",
              "    </tr>\n",
              "    <tr>\n",
              "      <th>4</th>\n",
<<<<<<< HEAD
              "      <td>@sxtxstate great stuff on Fri #SXSW: Marissa M...</td>\n",
=======
              "      <td>@sxtxstate great stuff on Fri #SXSW: Marissa Mayer (Google), Tim O'Reilly (tech books/conferences) &amp;amp; Matt Mullenweg (Wordpress)</td>\n",
>>>>>>> bdbde03013a90270db4542412210ebdc20951927
              "      <td>Google</td>\n",
              "      <td>Positive emotion</td>\n",
              "    </tr>\n",
              "    <tr>\n",
              "      <th>...</th>\n",
              "      <td>...</td>\n",
              "      <td>...</td>\n",
              "      <td>...</td>\n",
              "    </tr>\n",
              "    <tr>\n",
              "      <th>8716</th>\n",
              "      <td>Ipad everywhere. #SXSW {link}</td>\n",
              "      <td>iPad</td>\n",
              "      <td>Positive emotion</td>\n",
              "    </tr>\n",
              "    <tr>\n",
              "      <th>8717</th>\n",
<<<<<<< HEAD
              "      <td>Wave, buzz... RT @mention We interrupt your re...</td>\n",
=======
              "      <td>Wave, buzz... RT @mention We interrupt your regularly scheduled #sxsw geek programming with big news {link}  #google #circles</td>\n",
>>>>>>> bdbde03013a90270db4542412210ebdc20951927
              "      <td>NaN</td>\n",
              "      <td>No emotion</td>\n",
              "    </tr>\n",
              "    <tr>\n",
              "      <th>8718</th>\n",
<<<<<<< HEAD
              "      <td>Google's Zeiger, a physician never reported po...</td>\n",
=======
              "      <td>Google's Zeiger, a physician never reported potential AE. Yet FDA relies on physicians. &amp;quot;We're operating w/out data.&amp;quot; #sxsw #health2dev</td>\n",
>>>>>>> bdbde03013a90270db4542412210ebdc20951927
              "      <td>NaN</td>\n",
              "      <td>No emotion</td>\n",
              "    </tr>\n",
              "    <tr>\n",
              "      <th>8719</th>\n",
<<<<<<< HEAD
              "      <td>Some Verizon iPhone customers complained their...</td>\n",
=======
              "      <td>Some Verizon iPhone customers complained their time fell back an hour this weekend.  Of course they were the New Yorkers who attended #SXSW.</td>\n",
>>>>>>> bdbde03013a90270db4542412210ebdc20951927
              "      <td>NaN</td>\n",
              "      <td>No emotion</td>\n",
              "    </tr>\n",
              "    <tr>\n",
              "      <th>8720</th>\n",
<<<<<<< HEAD
              "      <td>�ϡ�����_��ʋ�΋�ҋ�������⋁_��������_���RT @mentio...</td>\n",
=======
              "      <td>�ϡ�����_��ʋ�΋�ҋ�������⋁_��������_���RT @mention Google Tests ���Check-in Offers�۝ At #SXSW {link}</td>\n",
>>>>>>> bdbde03013a90270db4542412210ebdc20951927
              "      <td>NaN</td>\n",
              "      <td>No emotion</td>\n",
              "    </tr>\n",
              "  </tbody>\n",
              "</table>\n",
              "<p>8699 rows × 3 columns</p>\n",
              "</div>"
            ],
            "text/plain": [
<<<<<<< HEAD
              "                                                  Tweet             Product  \\\n",
              "0     .@wesley83 I have a 3G iPhone. After 3 hrs twe...              iPhone   \n",
              "1     @jessedee Know about @fludapp ? Awesome iPad/i...  iPad or iPhone App   \n",
              "2     @swonderlin Can not wait for #iPad 2 also. The...                iPad   \n",
              "3     @sxsw I hope this year's festival isn't as cra...  iPad or iPhone App   \n",
              "4     @sxtxstate great stuff on Fri #SXSW: Marissa M...              Google   \n",
              "...                                                 ...                 ...   \n",
              "8716                      Ipad everywhere. #SXSW {link}                iPad   \n",
              "8717  Wave, buzz... RT @mention We interrupt your re...                 NaN   \n",
              "8718  Google's Zeiger, a physician never reported po...                 NaN   \n",
              "8719  Some Verizon iPhone customers complained their...                 NaN   \n",
              "8720  �ϡ�����_��ʋ�΋�ҋ�������⋁_��������_���RT @mentio...                 NaN   \n",
              "\n",
              "             Sentiment  \n",
              "0     Negative emotion  \n",
              "1     Positive emotion  \n",
              "2     Positive emotion  \n",
              "3     Negative emotion  \n",
              "4     Positive emotion  \n",
              "...                ...  \n",
              "8716  Positive emotion  \n",
              "8717        No emotion  \n",
              "8718        No emotion  \n",
              "8719        No emotion  \n",
              "8720        No emotion  \n",
=======
              "                                                                                                                                                  Tweet  \\\n",
              "0                       .@wesley83 I have a 3G iPhone. After 3 hrs tweeting at #RISE_Austin, it was dead!  I need to upgrade. Plugin stations at #SXSW.   \n",
              "1           @jessedee Know about @fludapp ? Awesome iPad/iPhone app that you'll likely appreciate for its design. Also, they're giving free Ts at #SXSW   \n",
              "2                                                                       @swonderlin Can not wait for #iPad 2 also. They should sale them down at #SXSW.   \n",
              "3                                                                    @sxsw I hope this year's festival isn't as crashy as this year's iPhone app. #sxsw   \n",
              "4                   @sxtxstate great stuff on Fri #SXSW: Marissa Mayer (Google), Tim O'Reilly (tech books/conferences) &amp; Matt Mullenweg (Wordpress)   \n",
              "...                                                                                                                                                 ...   \n",
              "8716                                                                                                                      Ipad everywhere. #SXSW {link}   \n",
              "8717                      Wave, buzz... RT @mention We interrupt your regularly scheduled #sxsw geek programming with big news {link}  #google #circles   \n",
              "8718  Google's Zeiger, a physician never reported potential AE. Yet FDA relies on physicians. &quot;We're operating w/out data.&quot; #sxsw #health2dev   \n",
              "8719       Some Verizon iPhone customers complained their time fell back an hour this weekend.  Of course they were the New Yorkers who attended #SXSW.   \n",
              "8720                                                  �ϡ�����_��ʋ�΋�ҋ�������⋁_��������_���RT @mention Google Tests ���Check-in Offers�۝ At #SXSW {link}   \n",
              "\n",
              "                 Product         Sentiment  \n",
              "0                 iPhone  Negative emotion  \n",
              "1     iPad or iPhone App  Positive emotion  \n",
              "2                   iPad  Positive emotion  \n",
              "3     iPad or iPhone App  Negative emotion  \n",
              "4                 Google  Positive emotion  \n",
              "...                  ...               ...  \n",
              "8716                iPad  Positive emotion  \n",
              "8717                 NaN        No emotion  \n",
              "8718                 NaN        No emotion  \n",
              "8719                 NaN        No emotion  \n",
              "8720                 NaN        No emotion  \n",
>>>>>>> bdbde03013a90270db4542412210ebdc20951927
              "\n",
              "[8699 rows x 3 columns]"
            ]
          },
          "execution_count": 12,
          "metadata": {},
          "output_type": "execute_result"
        }
      ],
      "source": [
        "#More data cleaning procedures\n",
        "#drop duplicates\n",
        "data.drop_duplicates(inplace=True)\n",
        "data"
      ]
    },
    {
      "cell_type": "markdown",
      "metadata": {
        "id": "Uc_QQ2RUsokl"
      },
      "source": [
        "As noted above, the tweet column has key words that show the product example `row 8719` has a customer complaining about an iphone and the prodcut is not identified. We can solve this by creating a function that find the product and tweet and combines to form the brand column."
      ]
    },
    {
      "cell_type": "code",
      "execution_count": 13,
      "metadata": {
        "id": "L9havvC2yej1"
      },
      "outputs": [],
      "source": [
        "# Checking for anomalies in the data\n",
        "#drops Tweets with nonsensical characters\n",
        "data.drop([6, 8720], inplace=True)"
      ]
    },
    {
      "cell_type": "code",
      "execution_count": 14,
      "metadata": {
        "id": "kQHWcFPezRhB"
      },
      "outputs": [],
      "source": [
        "#reset the index after cleaning\n",
        "data.reset_index(inplace=True)\n",
        "data.drop(columns=\"index\", inplace = True)"
      ]
    },
    {
      "cell_type": "code",
      "execution_count": 15,
      "metadata": {
        "colab": {
          "base_uri": "https://localhost:8080/"
        },
        "id": "5UMA0tyCzd4V",
<<<<<<< HEAD
        "outputId": "3dd2ee14-0d1d-47a9-f453-f217dac8da14"
=======
        "outputId": "f191817f-660f-41a5-f6a9-0b249d0c31f9"
>>>>>>> bdbde03013a90270db4542412210ebdc20951927
      },
      "outputs": [
        {
          "name": "stdout",
          "output_type": "stream",
          "text": [
            "Tweet           0\n",
            "Product      5537\n",
            "Sentiment       0\n",
            "dtype: int64\n"
          ]
        }
      ],
      "source": [
        "#looks at remaining NaN's\n",
        "print(data.isna().sum())"
      ]
    },
    {
      "cell_type": "code",
      "execution_count": 16,
      "metadata": {
        "colab": {
          "base_uri": "https://localhost:8080/",
<<<<<<< HEAD
          "height": 423
        },
        "id": "stDMpPk_zjy4",
        "outputId": "c8e2e7c6-16a6-4e2c-acc6-cd907b190ae8"
=======
          "height": 468
        },
        "id": "stDMpPk_zjy4",
        "outputId": "0cb9426c-ebc7-4959-86d0-7ccc19cd0b0a"
>>>>>>> bdbde03013a90270db4542412210ebdc20951927
      },
      "outputs": [
        {
          "data": {
            "text/html": [
              "<div>\n",
              "<style scoped>\n",
              "    .dataframe tbody tr th:only-of-type {\n",
              "        vertical-align: middle;\n",
              "    }\n",
              "\n",
              "    .dataframe tbody tr th {\n",
              "        vertical-align: top;\n",
              "    }\n",
              "\n",
              "    .dataframe thead th {\n",
              "        text-align: right;\n",
              "    }\n",
              "</style>\n",
              "<table border=\"1\" class=\"dataframe\">\n",
              "  <thead>\n",
              "    <tr style=\"text-align: right;\">\n",
              "      <th></th>\n",
              "      <th>Tweet</th>\n",
              "      <th>Product</th>\n",
              "      <th>Sentiment</th>\n",
              "    </tr>\n",
              "  </thead>\n",
              "  <tbody>\n",
              "    <tr>\n",
              "      <th>0</th>\n",
<<<<<<< HEAD
              "      <td>.@wesley83 I have a 3G iPhone. After 3 hrs twe...</td>\n",
=======
              "      <td>.@wesley83 I have a 3G iPhone. After 3 hrs tweeting at #RISE_Austin, it was dead!  I need to upgrade. Plugin stations at #SXSW.</td>\n",
>>>>>>> bdbde03013a90270db4542412210ebdc20951927
              "      <td>iPhone</td>\n",
              "      <td>Negative emotion</td>\n",
              "    </tr>\n",
              "    <tr>\n",
              "      <th>1</th>\n",
<<<<<<< HEAD
              "      <td>@jessedee Know about @fludapp ? Awesome iPad/i...</td>\n",
=======
              "      <td>@jessedee Know about @fludapp ? Awesome iPad/iPhone app that you'll likely appreciate for its design. Also, they're giving free Ts at #SXSW</td>\n",
>>>>>>> bdbde03013a90270db4542412210ebdc20951927
              "      <td>iPad or iPhone App</td>\n",
              "      <td>Positive emotion</td>\n",
              "    </tr>\n",
              "    <tr>\n",
              "      <th>2</th>\n",
<<<<<<< HEAD
              "      <td>@swonderlin Can not wait for #iPad 2 also. The...</td>\n",
=======
              "      <td>@swonderlin Can not wait for #iPad 2 also. They should sale them down at #SXSW.</td>\n",
>>>>>>> bdbde03013a90270db4542412210ebdc20951927
              "      <td>iPad</td>\n",
              "      <td>Positive emotion</td>\n",
              "    </tr>\n",
              "    <tr>\n",
              "      <th>3</th>\n",
<<<<<<< HEAD
              "      <td>@sxsw I hope this year's festival isn't as cra...</td>\n",
=======
              "      <td>@sxsw I hope this year's festival isn't as crashy as this year's iPhone app. #sxsw</td>\n",
>>>>>>> bdbde03013a90270db4542412210ebdc20951927
              "      <td>iPad or iPhone App</td>\n",
              "      <td>Negative emotion</td>\n",
              "    </tr>\n",
              "    <tr>\n",
              "      <th>4</th>\n",
<<<<<<< HEAD
              "      <td>@sxtxstate great stuff on Fri #SXSW: Marissa M...</td>\n",
=======
              "      <td>@sxtxstate great stuff on Fri #SXSW: Marissa Mayer (Google), Tim O'Reilly (tech books/conferences) &amp;amp; Matt Mullenweg (Wordpress)</td>\n",
>>>>>>> bdbde03013a90270db4542412210ebdc20951927
              "      <td>Google</td>\n",
              "      <td>Positive emotion</td>\n",
              "    </tr>\n",
              "    <tr>\n",
              "      <th>...</th>\n",
              "      <td>...</td>\n",
              "      <td>...</td>\n",
              "      <td>...</td>\n",
              "    </tr>\n",
              "    <tr>\n",
              "      <th>8692</th>\n",
<<<<<<< HEAD
              "      <td>@mention Yup, but I don't have a third app yet...</td>\n",
=======
              "      <td>@mention Yup, but I don't have a third app yet. I'm on Android, any suggestions? #SXSW CC: @mention</td>\n",
>>>>>>> bdbde03013a90270db4542412210ebdc20951927
              "      <td>Undefined</td>\n",
              "      <td>No emotion</td>\n",
              "    </tr>\n",
              "    <tr>\n",
              "      <th>8693</th>\n",
              "      <td>Ipad everywhere. #SXSW {link}</td>\n",
              "      <td>iPad</td>\n",
              "      <td>Positive emotion</td>\n",
              "    </tr>\n",
              "    <tr>\n",
              "      <th>8694</th>\n",
<<<<<<< HEAD
              "      <td>Wave, buzz... RT @mention We interrupt your re...</td>\n",
=======
              "      <td>Wave, buzz... RT @mention We interrupt your regularly scheduled #sxsw geek programming with big news {link}  #google #circles</td>\n",
>>>>>>> bdbde03013a90270db4542412210ebdc20951927
              "      <td>Undefined</td>\n",
              "      <td>No emotion</td>\n",
              "    </tr>\n",
              "    <tr>\n",
              "      <th>8695</th>\n",
<<<<<<< HEAD
              "      <td>Google's Zeiger, a physician never reported po...</td>\n",
=======
              "      <td>Google's Zeiger, a physician never reported potential AE. Yet FDA relies on physicians. &amp;quot;We're operating w/out data.&amp;quot; #sxsw #health2dev</td>\n",
>>>>>>> bdbde03013a90270db4542412210ebdc20951927
              "      <td>Undefined</td>\n",
              "      <td>No emotion</td>\n",
              "    </tr>\n",
              "    <tr>\n",
              "      <th>8696</th>\n",
<<<<<<< HEAD
              "      <td>Some Verizon iPhone customers complained their...</td>\n",
=======
              "      <td>Some Verizon iPhone customers complained their time fell back an hour this weekend.  Of course they were the New Yorkers who attended #SXSW.</td>\n",
>>>>>>> bdbde03013a90270db4542412210ebdc20951927
              "      <td>Undefined</td>\n",
              "      <td>No emotion</td>\n",
              "    </tr>\n",
              "  </tbody>\n",
              "</table>\n",
              "<p>8697 rows × 3 columns</p>\n",
              "</div>"
            ],
            "text/plain": [
<<<<<<< HEAD
              "                                                  Tweet             Product  \\\n",
              "0     .@wesley83 I have a 3G iPhone. After 3 hrs twe...              iPhone   \n",
              "1     @jessedee Know about @fludapp ? Awesome iPad/i...  iPad or iPhone App   \n",
              "2     @swonderlin Can not wait for #iPad 2 also. The...                iPad   \n",
              "3     @sxsw I hope this year's festival isn't as cra...  iPad or iPhone App   \n",
              "4     @sxtxstate great stuff on Fri #SXSW: Marissa M...              Google   \n",
              "...                                                 ...                 ...   \n",
              "8692  @mention Yup, but I don't have a third app yet...           Undefined   \n",
              "8693                      Ipad everywhere. #SXSW {link}                iPad   \n",
              "8694  Wave, buzz... RT @mention We interrupt your re...           Undefined   \n",
              "8695  Google's Zeiger, a physician never reported po...           Undefined   \n",
              "8696  Some Verizon iPhone customers complained their...           Undefined   \n",
              "\n",
              "             Sentiment  \n",
              "0     Negative emotion  \n",
              "1     Positive emotion  \n",
              "2     Positive emotion  \n",
              "3     Negative emotion  \n",
              "4     Positive emotion  \n",
              "...                ...  \n",
              "8692        No emotion  \n",
              "8693  Positive emotion  \n",
              "8694        No emotion  \n",
              "8695        No emotion  \n",
              "8696        No emotion  \n",
=======
              "                                                                                                                                                  Tweet  \\\n",
              "0                       .@wesley83 I have a 3G iPhone. After 3 hrs tweeting at #RISE_Austin, it was dead!  I need to upgrade. Plugin stations at #SXSW.   \n",
              "1           @jessedee Know about @fludapp ? Awesome iPad/iPhone app that you'll likely appreciate for its design. Also, they're giving free Ts at #SXSW   \n",
              "2                                                                       @swonderlin Can not wait for #iPad 2 also. They should sale them down at #SXSW.   \n",
              "3                                                                    @sxsw I hope this year's festival isn't as crashy as this year's iPhone app. #sxsw   \n",
              "4                   @sxtxstate great stuff on Fri #SXSW: Marissa Mayer (Google), Tim O'Reilly (tech books/conferences) &amp; Matt Mullenweg (Wordpress)   \n",
              "...                                                                                                                                                 ...   \n",
              "8692                                                @mention Yup, but I don't have a third app yet. I'm on Android, any suggestions? #SXSW CC: @mention   \n",
              "8693                                                                                                                      Ipad everywhere. #SXSW {link}   \n",
              "8694                      Wave, buzz... RT @mention We interrupt your regularly scheduled #sxsw geek programming with big news {link}  #google #circles   \n",
              "8695  Google's Zeiger, a physician never reported potential AE. Yet FDA relies on physicians. &quot;We're operating w/out data.&quot; #sxsw #health2dev   \n",
              "8696       Some Verizon iPhone customers complained their time fell back an hour this weekend.  Of course they were the New Yorkers who attended #SXSW.   \n",
              "\n",
              "                 Product         Sentiment  \n",
              "0                 iPhone  Negative emotion  \n",
              "1     iPad or iPhone App  Positive emotion  \n",
              "2                   iPad  Positive emotion  \n",
              "3     iPad or iPhone App  Negative emotion  \n",
              "4                 Google  Positive emotion  \n",
              "...                  ...               ...  \n",
              "8692           Undefined        No emotion  \n",
              "8693                iPad  Positive emotion  \n",
              "8694           Undefined        No emotion  \n",
              "8695           Undefined        No emotion  \n",
              "8696           Undefined        No emotion  \n",
>>>>>>> bdbde03013a90270db4542412210ebdc20951927
              "\n",
              "[8697 rows x 3 columns]"
            ]
          },
          "execution_count": 16,
          "metadata": {},
          "output_type": "execute_result"
        }
      ],
      "source": [
        "#Fills NaN's with \"Undefined\" to help with data visualizations\n",
        "data['Product'].fillna(\"Undefined\", inplace = True)\n",
        "data"
      ]
    },
    {
      "cell_type": "code",
      "execution_count": 17,
      "metadata": {
        "colab": {
          "base_uri": "https://localhost:8080/",
          "height": 970
        },
        "id": "FJygErdbzy1Q",
<<<<<<< HEAD
        "outputId": "6bd3c93d-7ac0-4620-c710-83dff8b3c96c"
=======
        "outputId": "29d720a7-d950-4d48-d33a-b33b8489ee31"
>>>>>>> bdbde03013a90270db4542412210ebdc20951927
      },
      "outputs": [
        {
          "data": {
            "image/png": "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",
            "text/plain": [
              "<Figure size 864x1008 with 1 Axes>"
            ]
          },
          "metadata": {
            "needs_background": "light"
          },
          "output_type": "display_data"
        }
      ],
      "source": [
        "#Plot to check the distribution\n",
        "fig, ax = plt.subplots(figsize=(12,14))\n",
        "sns.histplot(data[\"Product\"] )\n",
        "plt.xticks(rotation = 75)\n",
        "plt.show()"
      ]
    },
    {
      "cell_type": "markdown",
      "metadata": {
        "id": "uY66aIHZ1WlM"
      },
      "source": [
        "Although the imbalance between the unidentified products may make it difficult to analyze product sentiment, we can still use this column to identify the brand that the tweets are primarily focused on."
      ]
    },
    {
      "cell_type": "code",
      "execution_count": 18,
      "metadata": {
        "colab": {
          "base_uri": "https://localhost:8080/"
        },
        "id": "fQ9q0gD1sjIi",
<<<<<<< HEAD
        "outputId": "72102b0e-fb40-4e66-f046-c5ddc73d1dc4"
=======
        "outputId": "8675c27d-3bfa-4e9c-9dca-8dc516d6937a"
>>>>>>> bdbde03013a90270db4542412210ebdc20951927
      },
      "outputs": [
        {
          "data": {
            "text/plain": [
              "0                   iPhone\n",
              "1       iPad or iPhone App\n",
              "2                     iPad\n",
              "3       iPad or iPhone App\n",
              "4                   Google\n",
              "               ...        \n",
              "8692             Undefined\n",
              "8693                  iPad\n",
              "8694             Undefined\n",
              "8695             Undefined\n",
              "8696             Undefined\n",
              "Name: Product, Length: 8697, dtype: object"
            ]
          },
          "execution_count": 18,
          "metadata": {},
          "output_type": "execute_result"
        }
      ],
      "source": [
        "#we are going to set the Product type as a string for our function below.\n",
        "data[\"Product\"].astype(str)"
      ]
    },
    {
      "cell_type": "markdown",
      "metadata": {
        "id": "tj3L4COe1uD0"
      },
      "source": [
        "A brand's sentiment is being measured by the model. As a result, we need to examine how the dataset is divided up among the various companies. Two of the biggest tech brands in the world are represented by the two brands in this data set. Google and Apple. To assign each tweet to a brand, we will therefore create a new column."
      ]
    },
    {
      "cell_type": "code",
      "execution_count": 19,
      "metadata": {
        "colab": {
          "base_uri": "https://localhost:8080/"
        },
        "id": "59qUeCBRrF7E",
<<<<<<< HEAD
        "outputId": "163576de-6082-451e-d6f7-70c950f4ba4f"
=======
        "outputId": "f5dcb104-1de0-42d6-bbc4-0a7ff54da891"
>>>>>>> bdbde03013a90270db4542412210ebdc20951927
      },
      "outputs": [
        {
          "data": {
            "text/plain": [
              "Apple           5140\n",
              "Google          2637\n",
              "Undetermined     715\n",
              "Both             205\n",
              "Name: Brand, dtype: int64"
            ]
          },
          "execution_count": 19,
          "metadata": {},
          "output_type": "execute_result"
        }
      ],
      "source": [
        "# Function that finds a brand\n",
        "def find_brand(Product, Tweet):\n",
        "    \"\"\"\n",
        "    This function is designed to take build a brand column based on the Product description. \n",
        "    After, the function will look at the Tweets and determine a brand for rows with no brand determined.\n",
        "    \n",
        "    Product -  a column the function is working on\n",
        "    Tweet - a column the function is working on\n",
        "    \"\"\"\n",
        "    brand = 'Undetermined' #Labeling brand as Undetermined\n",
        "    if ((Product.lower().__contains__('google')) or (Product.lower().__contains__('android'))): #Labeling Google\n",
        "        brand = 'Google' #Unless tweet contains google or android\n",
        "    elif ((Product.lower().__contains__('apple')) or (Product.lower().__contains__('ip'))): #Labeling Apple\n",
        "        brand = 'Apple' #Unless tweet contains apple or ip\n",
        "    \n",
        "    if (brand == 'Undetermined'): \n",
        "        lower_tweet = Tweet.lower() #Making tweet lowercase\n",
        "        is_google = (lower_tweet.__contains__('google')) or (lower_tweet.__contains__('android')) #Undetermined google\n",
        "        is_apple = (lower_tweet.__contains__('apple')) or (lower_tweet.__contains__('ip')) #Undetermined apple\n",
        "        \n",
        "        if (is_google and is_apple): #if it has both identifiers in the tweet\n",
        "            brand = 'Both' #Labeling brand as both\n",
        "        elif (is_google):\n",
        "            brand = 'Google' #Labeling brand as Google\n",
        "        elif (is_apple):\n",
        "            brand = 'Apple' #Labeling brand as Apple\n",
        "    \n",
        "    return brand\n",
        "\n",
        "data['Brand'] = data.apply(lambda x: find_brand(x['Product'], x['Tweet']), axis = 1) #Applying function to column\n",
        "data['Brand'].value_counts() #Reviewing value counts of each class within brand\n"
      ]
    },
    {
      "cell_type": "markdown",
      "metadata": {
        "id": "p1uGW4UO1yLV"
      },
      "source": [
        "We can now analyze sentiment across brands without losing data thanks to the creation of a brand column. To help our models be trained on real-world scenarios, we continue to use the Undertermined and Both Brands."
      ]
    },
    {
      "cell_type": "markdown",
      "metadata": {
        "id": "rF2ABPsHUtbZ"
      },
      "source": [
<<<<<<< HEAD
        "## 6. Exploratory Analysis"
=======
        "## 3. EXPLORATORY DATA ANALYSIS"
>>>>>>> bdbde03013a90270db4542412210ebdc20951927
      ]
    },
    {
      "cell_type": "markdown",
      "metadata": {
        "id": "tO3Cqd1k4lIU"
      },
      "source": [
        "Ploting the bivariate summaries and recording our observations"
      ]
    },
    {
      "cell_type": "code",
      "execution_count": 20,
      "metadata": {
        "id": "5nnRToniXGDK"
      },
      "outputs": [],
      "source": [
        "# This function builds a Seaborn countplot and allows the user to set certain parameters to customize the graph.\n",
        "def countplot(df, col, hue=None, rotation=None):\n",
        "    fig, ax = plt.subplots(figsize=(12,8))\n",
        "    sns.countplot(data = df, x = col, hue = hue, order = df[col].value_counts().index)\n",
        "    ax.set_xticklabels(labels = ax.get_xticklabels(), rotation= rotation, fontsize = 15)\n",
        "    ax.set_xlabel(xlabel = col, fontsize = 20)\n",
        "    ax.tick_params(axis='y', which='major', labelsize=15)\n",
        "    ax.set_ylabel(ylabel = \"Number of Tweets\", fontsize = 20)\n",
        "    ax.set_title(f\"Number of Tweets per {col}\", fontsize = 30)\n",
        "    plt.show()\n"
      ]
    },
    {
      "cell_type": "code",
      "execution_count": 21,
      "metadata": {
        "colab": {
          "base_uri": "https://localhost:8080/",
          "height": 540
        },
        "id": "LF_Ag6GGqZr9",
<<<<<<< HEAD
        "outputId": "a2aea956-6cf9-4515-e319-f3a17359a6db"
=======
        "outputId": "655f6a66-2e31-4857-b3d8-28af2904cf84"
>>>>>>> bdbde03013a90270db4542412210ebdc20951927
      },
      "outputs": [
        {
          "data": {
            "image/png": "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",
            "text/plain": [
              "<Figure size 864x576 with 1 Axes>"
            ]
          },
          "metadata": {
            "needs_background": "light"
          },
          "output_type": "display_data"
        }
      ],
      "source": [
        "#countplot for Brand\n",
        "countplot(data, \"Brand\")"
      ]
    },
    {
      "cell_type": "code",
      "execution_count": 22,
      "metadata": {
        "colab": {
          "base_uri": "https://localhost:8080/",
          "height": 763
        },
        "id": "uOKgTzsS4tv5",
<<<<<<< HEAD
        "outputId": "26ddaa8c-8f8a-447f-db3c-9a00016bf319"
=======
        "outputId": "db630c24-10f8-4315-d420-3629c973f342"
>>>>>>> bdbde03013a90270db4542412210ebdc20951927
      },
      "outputs": [
        {
          "data": {
            "image/png": "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",
            "text/plain": [
              "<Figure size 864x576 with 1 Axes>"
            ]
          },
          "metadata": {
            "needs_background": "light"
          },
          "output_type": "display_data"
        }
      ],
      "source": [
        "#countplot for Product\n",
        "countplot(data, \"Product\", hue=None, rotation=75)"
      ]
    },
    {
      "cell_type": "code",
      "execution_count": 23,
      "metadata": {
        "colab": {
          "base_uri": "https://localhost:8080/",
          "height": 540
        },
        "id": "0jMwqhKg4ylu",
<<<<<<< HEAD
        "outputId": "16d97e9d-8d73-4e8d-84b5-677681278fa8"
=======
        "outputId": "1ddaa692-6a67-472e-cd41-ffe4b89ff04e"
>>>>>>> bdbde03013a90270db4542412210ebdc20951927
      },
      "outputs": [
        {
          "data": {
            "image/png": "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",
            "text/plain": [
              "<Figure size 864x576 with 1 Axes>"
            ]
          },
          "metadata": {
            "needs_background": "light"
          },
          "output_type": "display_data"
        }
      ],
      "source": [
        "# Count plot for sentiment\n",
        "countplot(data, \"Sentiment\")"
      ]
    },
    {
      "cell_type": "code",
      "execution_count": 24,
      "metadata": {
        "colab": {
          "base_uri": "https://localhost:8080/",
          "height": 540
        },
        "id": "ygNohEgA5CoH",
<<<<<<< HEAD
        "outputId": "379895d0-2ce4-4fb5-a53b-65c232f1b1ea"
=======
        "outputId": "c2b69129-fd15-4e23-91e8-84fe9126a5a5"
>>>>>>> bdbde03013a90270db4542412210ebdc20951927
      },
      "outputs": [
        {
          "data": {
            "image/png": "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",
            "text/plain": [
              "<Figure size 864x576 with 1 Axes>"
            ]
          },
          "metadata": {
            "needs_background": "light"
          },
          "output_type": "display_data"
        }
      ],
      "source": [
        "#count plot for Sentiment across brands\n",
        "countplot(data, \"Brand\", hue = \"Sentiment\")"
      ]
    },
    {
      "cell_type": "code",
      "execution_count": 25,
      "metadata": {
        "colab": {
          "base_uri": "https://localhost:8080/",
          "height": 540
        },
        "id": "5nrZynZ45JJK",
<<<<<<< HEAD
        "outputId": "d13a0a02-a823-4aa8-e758-7995f27e38fd"
=======
        "outputId": "2763328e-f945-4dbf-8653-9df8d89df392"
>>>>>>> bdbde03013a90270db4542412210ebdc20951927
      },
      "outputs": [
        {
          "data": {
            "image/png": "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",
            "text/plain": [
              "<Figure size 864x576 with 1 Axes>"
            ]
          },
          "metadata": {
            "needs_background": "light"
          },
          "output_type": "display_data"
        }
      ],
      "source": [
        "#countplot for brand make of sentiment\n",
        "countplot(data, \"Sentiment\", hue=\"Brand\")"
      ]
    },
    {
      "cell_type": "code",
      "execution_count": 26,
      "metadata": {
        "colab": {
          "base_uri": "https://localhost:8080/",
          "height": 582
        },
        "id": "JE4ziJXY5Wvz",
<<<<<<< HEAD
        "outputId": "fb0c3c2c-3e96-4283-9212-21dce1ffef37"
=======
        "outputId": "dbb9a71d-74f2-43ee-8284-b910e1c26309"
>>>>>>> bdbde03013a90270db4542412210ebdc20951927
      },
      "outputs": [
        {
          "data": {
            "text/html": [
              "<div>\n",
              "<style scoped>\n",
              "    .dataframe tbody tr th:only-of-type {\n",
              "        vertical-align: middle;\n",
              "    }\n",
              "\n",
              "    .dataframe tbody tr th {\n",
              "        vertical-align: top;\n",
              "    }\n",
              "\n",
              "    .dataframe thead th {\n",
              "        text-align: right;\n",
              "    }\n",
              "</style>\n",
              "<table border=\"1\" class=\"dataframe\">\n",
              "  <thead>\n",
              "    <tr style=\"text-align: right;\">\n",
              "      <th></th>\n",
              "      <th></th>\n",
              "      <th>Tweet</th>\n",
              "      <th>Product</th>\n",
              "    </tr>\n",
              "    <tr>\n",
              "      <th>Brand</th>\n",
              "      <th>Sentiment</th>\n",
              "      <th></th>\n",
              "      <th></th>\n",
              "    </tr>\n",
              "  </thead>\n",
              "  <tbody>\n",
              "    <tr>\n",
              "      <th rowspan=\"4\" valign=\"top\">Apple</th>\n",
              "      <th>I can't tell</th>\n",
              "      <td>90</td>\n",
              "      <td>90</td>\n",
              "    </tr>\n",
              "    <tr>\n",
              "      <th>Negative emotion</th>\n",
              "      <td>398</td>\n",
              "      <td>398</td>\n",
              "    </tr>\n",
              "    <tr>\n",
              "      <th>No emotion</th>\n",
              "      <td>2604</td>\n",
              "      <td>2604</td>\n",
              "    </tr>\n",
              "    <tr>\n",
              "      <th>Positive emotion</th>\n",
              "      <td>2048</td>\n",
              "      <td>2048</td>\n",
              "    </tr>\n",
              "    <tr>\n",
              "      <th rowspan=\"4\" valign=\"top\">Both</th>\n",
              "      <th>I can't tell</th>\n",
              "      <td>7</td>\n",
              "      <td>7</td>\n",
              "    </tr>\n",
              "    <tr>\n",
              "      <th>Negative emotion</th>\n",
              "      <td>3</td>\n",
              "      <td>3</td>\n",
              "    </tr>\n",
              "    <tr>\n",
              "      <th>No emotion</th>\n",
              "      <td>185</td>\n",
              "      <td>185</td>\n",
              "    </tr>\n",
              "    <tr>\n",
              "      <th>Positive emotion</th>\n",
              "      <td>10</td>\n",
              "      <td>10</td>\n",
              "    </tr>\n",
              "    <tr>\n",
              "      <th rowspan=\"4\" valign=\"top\">Google</th>\n",
              "      <th>I can't tell</th>\n",
              "      <td>49</td>\n",
              "      <td>49</td>\n",
              "    </tr>\n",
              "    <tr>\n",
              "      <th>Negative emotion</th>\n",
              "      <td>142</td>\n",
              "      <td>142</td>\n",
              "    </tr>\n",
              "    <tr>\n",
              "      <th>No emotion</th>\n",
              "      <td>1656</td>\n",
              "      <td>1656</td>\n",
              "    </tr>\n",
              "    <tr>\n",
              "      <th>Positive emotion</th>\n",
              "      <td>790</td>\n",
              "      <td>790</td>\n",
              "    </tr>\n",
              "    <tr>\n",
              "      <th rowspan=\"4\" valign=\"top\">Undetermined</th>\n",
              "      <th>I can't tell</th>\n",
              "      <td>5</td>\n",
              "      <td>5</td>\n",
              "    </tr>\n",
              "    <tr>\n",
              "      <th>Negative emotion</th>\n",
              "      <td>1</td>\n",
              "      <td>1</td>\n",
              "    </tr>\n",
              "    <tr>\n",
              "      <th>No emotion</th>\n",
              "      <td>696</td>\n",
              "      <td>696</td>\n",
              "    </tr>\n",
              "    <tr>\n",
              "      <th>Positive emotion</th>\n",
              "      <td>13</td>\n",
              "      <td>13</td>\n",
              "    </tr>\n",
              "  </tbody>\n",
              "</table>\n",
              "</div>"
            ],
            "text/plain": [
              "                               Tweet  Product\n",
              "Brand        Sentiment                       \n",
              "Apple        I can't tell         90       90\n",
              "             Negative emotion    398      398\n",
              "             No emotion         2604     2604\n",
              "             Positive emotion   2048     2048\n",
              "Both         I can't tell          7        7\n",
              "             Negative emotion      3        3\n",
              "             No emotion          185      185\n",
              "             Positive emotion     10       10\n",
              "Google       I can't tell         49       49\n",
              "             Negative emotion    142      142\n",
              "             No emotion         1656     1656\n",
              "             Positive emotion    790      790\n",
              "Undetermined I can't tell          5        5\n",
              "             Negative emotion      1        1\n",
              "             No emotion          696      696\n",
              "             Positive emotion     13       13"
            ]
          },
          "execution_count": 26,
          "metadata": {},
          "output_type": "execute_result"
        }
      ],
      "source": [
        "#looking at the number of tweets per brand per sentiment\n",
        "grouped = data.groupby([\"Brand\", \"Sentiment\"]).count()\n",
        "grouped"
      ]
    },
    {
      "cell_type": "code",
      "execution_count": 27,
      "metadata": {
        "colab": {
          "base_uri": "https://localhost:8080/",
<<<<<<< HEAD
          "height": 700
        },
        "id": "0PC0sRsN5hg6",
        "outputId": "f14c6bc8-8547-4d42-9d5e-760211a19aef"
=======
          "height": 659
        },
        "id": "0PC0sRsN5hg6",
        "outputId": "f4f3e4ab-6358-43b8-fa89-12ac1b7be946"
>>>>>>> bdbde03013a90270db4542412210ebdc20951927
      },
      "outputs": [
        {
          "data": {
            "text/plain": [
              "Sentiment         Brand       \n",
              "I can't tell      Apple           0.596026\n",
              "                  Google          0.324503\n",
              "                  Both            0.046358\n",
              "                  Undetermined    0.033113\n",
              "Negative emotion  Apple           0.731618\n",
              "                  Google          0.261029\n",
              "                  Both            0.005515\n",
              "                  Undetermined    0.001838\n",
              "No emotion        Apple           0.506516\n",
              "                  Google          0.322116\n",
              "                  Undetermined    0.135382\n",
              "                  Both            0.035985\n",
              "Positive emotion  Apple           0.715834\n",
              "                  Google          0.276127\n",
              "                  Undetermined    0.004544\n",
              "                  Both            0.003495\n",
              "Name: Brand, dtype: float64"
            ]
          },
          "metadata": {},
          "output_type": "display_data"
        },
        {
          "name": "stdout",
          "output_type": "stream",
          "text": [
            "------------------------------------------------------------\n"
          ]
        },
        {
          "data": {
            "text/plain": [
              "Brand         Sentiment       \n",
              "Apple         No emotion          0.506615\n",
              "              Positive emotion    0.398444\n",
              "              Negative emotion    0.077432\n",
              "              I can't tell        0.017510\n",
              "Both          No emotion          0.902439\n",
              "              Positive emotion    0.048780\n",
              "              I can't tell        0.034146\n",
              "              Negative emotion    0.014634\n",
              "Google        No emotion          0.627986\n",
              "              Positive emotion    0.299583\n",
              "              Negative emotion    0.053849\n",
              "              I can't tell        0.018582\n",
              "Undetermined  No emotion          0.973427\n",
              "              Positive emotion    0.018182\n",
              "              I can't tell        0.006993\n",
              "              Negative emotion    0.001399\n",
              "Name: Sentiment, dtype: float64"
            ]
          },
          "metadata": {},
          "output_type": "display_data"
        }
      ],
      "source": [
        "#looking at sentitmental breakdown of brands\n",
        "display(data.groupby(['Sentiment'])['Brand'].value_counts(normalize = True))\n",
        "print(\"-\"*60)\n",
        "display(data.groupby(['Brand'])['Sentiment'].value_counts(normalize = True))"
      ]
    },
    {
      "cell_type": "code",
      "execution_count": 28,
      "metadata": {
        "colab": {
          "base_uri": "https://localhost:8080/"
        },
        "id": "xi9HtVqy64iu",
<<<<<<< HEAD
        "outputId": "d786fae9-ca43-48d8-a35e-567f2f69c682"
=======
        "outputId": "865d3bcf-faa2-468d-ad1a-9948b2dd48a5"
>>>>>>> bdbde03013a90270db4542412210ebdc20951927
      },
      "outputs": [
        {
          "name": "stdout",
          "output_type": "stream",
          "text": [
            "Undefined                          5537\n",
            "iPad                                909\n",
            "Apple                               638\n",
            "iPad or iPhone App                  450\n",
            "Google                              410\n",
            "iPhone                              287\n",
            "Other Google product or service     282\n",
            "Android App                          77\n",
            "Android                              73\n",
            "Other Apple product or service       34\n",
            "Name: Product, dtype: int64\n",
            "------------------------------------------------------------\n",
            "No emotion          5141\n",
            "Positive emotion    2861\n",
            "Negative emotion     544\n",
            "I can't tell         151\n",
            "Name: Sentiment, dtype: int64\n",
            "------------------------------------------------------------\n",
            "Apple           5140\n",
            "Google          2637\n",
            "Undetermined     715\n",
            "Both             205\n",
            "Name: Brand, dtype: int64\n",
            "------------------------------------------------------------\n"
          ]
        }
      ],
      "source": [
        "#Number of Tweets per product\n",
        "print(data[\"Product\"].value_counts())\n",
        "print(\"-\"*60)\n",
        "#Number of Tweets per Sentiment\n",
        "print(data[\"Sentiment\"].value_counts())\n",
        "print(\"-\"*60)\n",
        "#Number of Tweet per Brand\n",
        "print(data[\"Brand\"].value_counts())\n",
        "print(\"-\"*60)"
      ]
    },
    {
      "cell_type": "code",
      "execution_count": 29,
      "metadata": {
        "colab": {
          "base_uri": "https://localhost:8080/",
<<<<<<< HEAD
          "height": 423
        },
        "id": "K2UoxLg27fY4",
        "outputId": "6b677334-afa7-4816-e4ab-1ec3ff6ddf33"
=======
          "height": 554
        },
        "id": "K2UoxLg27fY4",
        "outputId": "6e0cc516-7e68-4573-8373-e953b4f451b2"
>>>>>>> bdbde03013a90270db4542412210ebdc20951927
      },
      "outputs": [
        {
          "data": {
            "text/html": [
              "<div>\n",
              "<style scoped>\n",
              "    .dataframe tbody tr th:only-of-type {\n",
              "        vertical-align: middle;\n",
              "    }\n",
              "\n",
              "    .dataframe tbody tr th {\n",
              "        vertical-align: top;\n",
              "    }\n",
              "\n",
              "    .dataframe thead th {\n",
              "        text-align: right;\n",
              "    }\n",
              "</style>\n",
              "<table border=\"1\" class=\"dataframe\">\n",
              "  <thead>\n",
              "    <tr style=\"text-align: right;\">\n",
              "      <th></th>\n",
              "      <th>Tweet</th>\n",
              "      <th>Product</th>\n",
              "      <th>Sentiment</th>\n",
              "      <th>Brand</th>\n",
              "    </tr>\n",
              "  </thead>\n",
              "  <tbody>\n",
              "    <tr>\n",
              "      <th>0</th>\n",
<<<<<<< HEAD
              "      <td>.@wesley83 I have a 3G iPhone. After 3 hrs twe...</td>\n",
=======
              "      <td>.@wesley83 I have a 3G iPhone. After 3 hrs tweeting at #RISE_Austin, it was dead!  I need to upgrade. Plugin stations at #SXSW.</td>\n",
>>>>>>> bdbde03013a90270db4542412210ebdc20951927
              "      <td>iPhone</td>\n",
              "      <td>Negative emotion</td>\n",
              "      <td>Apple</td>\n",
              "    </tr>\n",
              "    <tr>\n",
              "      <th>1</th>\n",
<<<<<<< HEAD
              "      <td>@jessedee Know about @fludapp ? Awesome iPad/i...</td>\n",
=======
              "      <td>@jessedee Know about @fludapp ? Awesome iPad/iPhone app that you'll likely appreciate for its design. Also, they're giving free Ts at #SXSW</td>\n",
>>>>>>> bdbde03013a90270db4542412210ebdc20951927
              "      <td>iPad or iPhone App</td>\n",
              "      <td>Positive emotion</td>\n",
              "      <td>Apple</td>\n",
              "    </tr>\n",
              "    <tr>\n",
              "      <th>2</th>\n",
<<<<<<< HEAD
              "      <td>@swonderlin Can not wait for #iPad 2 also. The...</td>\n",
=======
              "      <td>@swonderlin Can not wait for #iPad 2 also. They should sale them down at #SXSW.</td>\n",
>>>>>>> bdbde03013a90270db4542412210ebdc20951927
              "      <td>iPad</td>\n",
              "      <td>Positive emotion</td>\n",
              "      <td>Apple</td>\n",
              "    </tr>\n",
              "    <tr>\n",
              "      <th>3</th>\n",
<<<<<<< HEAD
              "      <td>@sxsw I hope this year's festival isn't as cra...</td>\n",
=======
              "      <td>@sxsw I hope this year's festival isn't as crashy as this year's iPhone app. #sxsw</td>\n",
>>>>>>> bdbde03013a90270db4542412210ebdc20951927
              "      <td>iPad or iPhone App</td>\n",
              "      <td>Negative emotion</td>\n",
              "      <td>Apple</td>\n",
              "    </tr>\n",
              "    <tr>\n",
              "      <th>4</th>\n",
<<<<<<< HEAD
              "      <td>@sxtxstate great stuff on Fri #SXSW: Marissa M...</td>\n",
=======
              "      <td>@sxtxstate great stuff on Fri #SXSW: Marissa Mayer (Google), Tim O'Reilly (tech books/conferences) &amp;amp; Matt Mullenweg (Wordpress)</td>\n",
>>>>>>> bdbde03013a90270db4542412210ebdc20951927
              "      <td>Google</td>\n",
              "      <td>Positive emotion</td>\n",
              "      <td>Google</td>\n",
              "    </tr>\n",
              "    <tr>\n",
              "      <th>...</th>\n",
              "      <td>...</td>\n",
              "      <td>...</td>\n",
              "      <td>...</td>\n",
              "      <td>...</td>\n",
              "    </tr>\n",
              "    <tr>\n",
              "      <th>8692</th>\n",
<<<<<<< HEAD
              "      <td>@mention Yup, but I don't have a third app yet...</td>\n",
=======
              "      <td>@mention Yup, but I don't have a third app yet. I'm on Android, any suggestions? #SXSW CC: @mention</td>\n",
>>>>>>> bdbde03013a90270db4542412210ebdc20951927
              "      <td>Undefined</td>\n",
              "      <td>No emotion</td>\n",
              "      <td>Google</td>\n",
              "    </tr>\n",
              "    <tr>\n",
              "      <th>8693</th>\n",
              "      <td>Ipad everywhere. #SXSW {link}</td>\n",
              "      <td>iPad</td>\n",
              "      <td>Positive emotion</td>\n",
              "      <td>Apple</td>\n",
              "    </tr>\n",
              "    <tr>\n",
              "      <th>8694</th>\n",
<<<<<<< HEAD
              "      <td>Wave, buzz... RT @mention We interrupt your re...</td>\n",
=======
              "      <td>Wave, buzz... RT @mention We interrupt your regularly scheduled #sxsw geek programming with big news {link}  #google #circles</td>\n",
>>>>>>> bdbde03013a90270db4542412210ebdc20951927
              "      <td>Undefined</td>\n",
              "      <td>No emotion</td>\n",
              "      <td>Google</td>\n",
              "    </tr>\n",
              "    <tr>\n",
              "      <th>8695</th>\n",
<<<<<<< HEAD
              "      <td>Google's Zeiger, a physician never reported po...</td>\n",
=======
              "      <td>Google's Zeiger, a physician never reported potential AE. Yet FDA relies on physicians. &amp;quot;We're operating w/out data.&amp;quot; #sxsw #health2dev</td>\n",
>>>>>>> bdbde03013a90270db4542412210ebdc20951927
              "      <td>Undefined</td>\n",
              "      <td>No emotion</td>\n",
              "      <td>Google</td>\n",
              "    </tr>\n",
              "    <tr>\n",
              "      <th>8696</th>\n",
<<<<<<< HEAD
              "      <td>Some Verizon iPhone customers complained their...</td>\n",
=======
              "      <td>Some Verizon iPhone customers complained their time fell back an hour this weekend.  Of course they were the New Yorkers who attended #SXSW.</td>\n",
>>>>>>> bdbde03013a90270db4542412210ebdc20951927
              "      <td>Undefined</td>\n",
              "      <td>No emotion</td>\n",
              "      <td>Apple</td>\n",
              "    </tr>\n",
              "  </tbody>\n",
              "</table>\n",
              "<p>8697 rows × 4 columns</p>\n",
              "</div>"
            ],
            "text/plain": [
<<<<<<< HEAD
              "                                                  Tweet             Product  \\\n",
              "0     .@wesley83 I have a 3G iPhone. After 3 hrs twe...              iPhone   \n",
              "1     @jessedee Know about @fludapp ? Awesome iPad/i...  iPad or iPhone App   \n",
              "2     @swonderlin Can not wait for #iPad 2 also. The...                iPad   \n",
              "3     @sxsw I hope this year's festival isn't as cra...  iPad or iPhone App   \n",
              "4     @sxtxstate great stuff on Fri #SXSW: Marissa M...              Google   \n",
              "...                                                 ...                 ...   \n",
              "8692  @mention Yup, but I don't have a third app yet...           Undefined   \n",
              "8693                      Ipad everywhere. #SXSW {link}                iPad   \n",
              "8694  Wave, buzz... RT @mention We interrupt your re...           Undefined   \n",
              "8695  Google's Zeiger, a physician never reported po...           Undefined   \n",
              "8696  Some Verizon iPhone customers complained their...           Undefined   \n",
              "\n",
              "             Sentiment   Brand  \n",
              "0     Negative emotion   Apple  \n",
              "1     Positive emotion   Apple  \n",
              "2     Positive emotion   Apple  \n",
              "3     Negative emotion   Apple  \n",
              "4     Positive emotion  Google  \n",
              "...                ...     ...  \n",
              "8692        No emotion  Google  \n",
              "8693  Positive emotion   Apple  \n",
              "8694        No emotion  Google  \n",
              "8695        No emotion  Google  \n",
              "8696        No emotion   Apple  \n",
=======
              "                                                                                                                                                  Tweet  \\\n",
              "0                       .@wesley83 I have a 3G iPhone. After 3 hrs tweeting at #RISE_Austin, it was dead!  I need to upgrade. Plugin stations at #SXSW.   \n",
              "1           @jessedee Know about @fludapp ? Awesome iPad/iPhone app that you'll likely appreciate for its design. Also, they're giving free Ts at #SXSW   \n",
              "2                                                                       @swonderlin Can not wait for #iPad 2 also. They should sale them down at #SXSW.   \n",
              "3                                                                    @sxsw I hope this year's festival isn't as crashy as this year's iPhone app. #sxsw   \n",
              "4                   @sxtxstate great stuff on Fri #SXSW: Marissa Mayer (Google), Tim O'Reilly (tech books/conferences) &amp; Matt Mullenweg (Wordpress)   \n",
              "...                                                                                                                                                 ...   \n",
              "8692                                                @mention Yup, but I don't have a third app yet. I'm on Android, any suggestions? #SXSW CC: @mention   \n",
              "8693                                                                                                                      Ipad everywhere. #SXSW {link}   \n",
              "8694                      Wave, buzz... RT @mention We interrupt your regularly scheduled #sxsw geek programming with big news {link}  #google #circles   \n",
              "8695  Google's Zeiger, a physician never reported potential AE. Yet FDA relies on physicians. &quot;We're operating w/out data.&quot; #sxsw #health2dev   \n",
              "8696       Some Verizon iPhone customers complained their time fell back an hour this weekend.  Of course they were the New Yorkers who attended #SXSW.   \n",
              "\n",
              "                 Product         Sentiment   Brand  \n",
              "0                 iPhone  Negative emotion   Apple  \n",
              "1     iPad or iPhone App  Positive emotion   Apple  \n",
              "2                   iPad  Positive emotion   Apple  \n",
              "3     iPad or iPhone App  Negative emotion   Apple  \n",
              "4                 Google  Positive emotion  Google  \n",
              "...                  ...               ...     ...  \n",
              "8692           Undefined        No emotion  Google  \n",
              "8693                iPad  Positive emotion   Apple  \n",
              "8694           Undefined        No emotion  Google  \n",
              "8695           Undefined        No emotion  Google  \n",
              "8696           Undefined        No emotion   Apple  \n",
>>>>>>> bdbde03013a90270db4542412210ebdc20951927
              "\n",
              "[8697 rows x 4 columns]"
            ]
          },
          "execution_count": 29,
          "metadata": {},
          "output_type": "execute_result"
        }
      ],
      "source": [
        "#Final DataFrame before Preprocessing\n",
        "data"
      ]
    },
    {
      "cell_type": "markdown",
<<<<<<< HEAD
      "metadata": {},
      "source": [
        "## DATA PREPROCESSING"
      ]
    },
    {
      "cell_type": "markdown",
      "metadata": {},
      "source": [
=======
      "metadata": {
        "id": "-si4CJp6ayTF"
      },
      "source": [
        "## 4. DATA PREPROCESSING AND FEATURE ENGINEERING\n",
        "\n",
        "In this phase of the project, we will get to preprocess our data and prepare the text data for modeling by performing the tasks below.\n",
        "\n",
>>>>>>> bdbde03013a90270db4542412210ebdc20951927
        "use regular expression to remove:\n",
        "- twitter handle\n",
        "- links\n",
        "- hash tags\n",
        "- RT\n",
        "- punctuations\n",
        "\n",
        "remove\n",
        "- stopwords\n",
        "- lowercase\n",
        "- numbers\n",
        "\n",
<<<<<<< HEAD
        "tokenize\n",
        "lemmatization\n",
        "\n",
        "vectorize\n",
        "- tf-idf vectorizatio\n",
        "\n",
        "visualization\n",
        "- frequency distribution(FreqDist)\n",
        "- Word Cloud\n"
=======
        "tokenization\n",
        "\n",
        "lemmatization\n",
        "\n",
        "vectorization\n",
        "- count\n",
        "\n",
        "visualization\n",
        "- frequency distribution(FreqDist)\n",
        "- Word Cloud"
>>>>>>> bdbde03013a90270db4542412210ebdc20951927
      ]
    },
    {
      "cell_type": "markdown",
<<<<<<< HEAD
      "metadata": {},
      "source": []
=======
      "metadata": {
        "id": "_wVfDg2JayTG"
      },
      "source": [
        "First we will start by using regular expression in cleaning the text data stored in 'tweets' column by removing punctuations, links, retweets etc."
      ]
>>>>>>> bdbde03013a90270db4542412210ebdc20951927
    },
    {
      "cell_type": "code",
      "execution_count": 30,
<<<<<<< HEAD
      "metadata": {},
      "outputs": [],
      "source": [
        "# Use regular expression to clean out the hash tags, links and punctuations from our tweets\n",
        "import re,string\n",
=======
      "metadata": {
        "id": "RKWAqBc5ayTH"
      },
      "outputs": [],
      "source": [
        "# Use regular expression to clean out the hash tags, links and punctuations from our tweet\n",
>>>>>>> bdbde03013a90270db4542412210ebdc20951927
        "\n",
        "def strip_links(text):\n",
        "    \"\"\"\n",
        "    Remove links from our text\n",
        "    \"\"\"\n",
        "    link_regex = re.compile('((https?):((//)|(\\\\\\\\))+([\\w\\d:#@%/;$()~_?\\+-=\\\\\\.&](#!)?)*)', re.DOTALL)\n",
        "    links = re.findall(link_regex, text)\n",
        "    for link in links:\n",
        "        text = text.replace(link[0], ', ')    \n",
        "    return text\n",
        "\n",
        "    \n",
        "\n",
        "def strip_all_entities(text):\n",
        "    \"\"\"\n",
        "    Remove user handles, hashtags and punctuations from our text\n",
        "    \"\"\"\n",
        "    entity_prefixes = ['@','#']\n",
        "    for separator in  string.punctuation:\n",
        "        if separator not in entity_prefixes :\n",
        "            text = text.replace(separator,' ')\n",
        "    words = []\n",
        "    for word in text.split():\n",
        "        word = word.strip()\n",
        "        if word:\n",
        "            if word[0] not in entity_prefixes:\n",
        "                words.append(word)\n",
        "    return ' '.join(words)"
      ]
    },
    {
      "cell_type": "markdown",
<<<<<<< HEAD
      "metadata": {},
=======
      "metadata": {
        "id": "MUz9kyGxayTH"
      },
>>>>>>> bdbde03013a90270db4542412210ebdc20951927
      "source": [
        "we will use the our two functions together  with the map() function to remove the links, tags and user handles from the tweets"
      ]
    },
    {
      "cell_type": "code",
      "execution_count": 31,
<<<<<<< HEAD
      "metadata": {},
=======
      "metadata": {
        "id": "6Lw_ZYkCayTH"
      },
>>>>>>> bdbde03013a90270db4542412210ebdc20951927
      "outputs": [],
      "source": [
        "# map the functions onto the data set\n",
        "data['Tweet'] = data.Tweet.map(lambda x: strip_all_entities(strip_links(x)))"
      ]
    },
    {
      "cell_type": "code",
      "execution_count": 32,
<<<<<<< HEAD
      "metadata": {},
=======
      "metadata": {
        "colab": {
          "base_uri": "https://localhost:8080/"
        },
        "id": "wVDbg0WVayTI",
        "outputId": "9a41d1e0-2a2f-40e1-cae0-c70b42a552a8"
      },
>>>>>>> bdbde03013a90270db4542412210ebdc20951927
      "outputs": [
        {
          "data": {
            "text/plain": [
<<<<<<< HEAD
              "0       I have a 3G iPhone After 3 hrs tweeting at Aus...\n",
              "1       Know about Awesome iPad iPhone app that you ll...\n",
              "2       Can not wait for 2 also They should sale them ...\n",
              "3       I hope this year s festival isn t as crashy as...\n",
              "4       great stuff on Fri Marissa Mayer Google Tim O ...\n",
              "                              ...                        \n",
              "8692    Yup but I don t have a third app yet I m on An...\n",
              "8693                                 Ipad everywhere link\n",
              "8694    Wave buzz RT We interrupt your regularly sched...\n",
              "8695    Google s Zeiger a physician never reported pot...\n",
              "8696    Some Verizon iPhone customers complained their...\n",
=======
              "0                                        I have a 3G iPhone After 3 hrs tweeting at Austin it was dead I need to upgrade Plugin stations at\n",
              "1                            Know about Awesome iPad iPhone app that you ll likely appreciate for its design Also they re giving free Ts at\n",
              "2                                                                                     Can not wait for 2 also They should sale them down at\n",
              "3                                                                     I hope this year s festival isn t as crashy as this year s iPhone app\n",
              "4                                  great stuff on Fri Marissa Mayer Google Tim O Reilly tech books conferences amp Matt Mullenweg Wordpress\n",
              "                                                                       ...                                                                 \n",
              "8692                                                                 Yup but I don t have a third app yet I m on Android any suggestions CC\n",
              "8693                                                                                                                   Ipad everywhere link\n",
              "8694                                                 Wave buzz RT We interrupt your regularly scheduled geek programming with big news link\n",
              "8695              Google s Zeiger a physician never reported potential AE Yet FDA relies on physicians quot We re operating w out data quot\n",
              "8696    Some Verizon iPhone customers complained their time fell back an hour this weekend Of course they were the New Yorkers who attended\n",
>>>>>>> bdbde03013a90270db4542412210ebdc20951927
              "Name: Tweet, Length: 8697, dtype: object"
            ]
          },
          "execution_count": 32,
          "metadata": {},
          "output_type": "execute_result"
        }
      ],
      "source": [
<<<<<<< HEAD
=======
        "# load the data set\n",
>>>>>>> bdbde03013a90270db4542412210ebdc20951927
        "data.Tweet"
      ]
    },
    {
      "cell_type": "markdown",
<<<<<<< HEAD
      "metadata": {},
      "source": [
        "Our function has been able to remove the handle, links and hashtags, but from row 8694, we can still see retweets present in our data, represented by the word RT. Because this is a major feature on twitter, it is bound to appear a lot, and thus should be removed as well.\n",
        "\n",
        "Below, we will write a regular xpression to get rid of the RT from oue data."
=======
      "metadata": {
        "id": "KNtl-Y4RayTI"
      },
      "source": [
        "Our function has been able to remove the handle, links and hashtags, but from row 8694, we can still see retweets present in our data, represented by the word RT. Because this is a major feature on twitter, it is bound to appear a lot, and thus should be removed as well.\n",
        "\n",
        "Below, we will write a regular xpression to get rid of the RT from our data as well as the term ' link' that were used as placeholders for the links url. We'll also remove the @  and � characters that were still present in the text column together with mention."
>>>>>>> bdbde03013a90270db4542412210ebdc20951927
      ]
    },
    {
      "cell_type": "code",
      "execution_count": 33,
<<<<<<< HEAD
      "metadata": {},
=======
      "metadata": {
        "colab": {
          "base_uri": "https://localhost:8080/"
        },
        "id": "AS0wv7oUayTI",
        "outputId": "9eaec527-7437-49ca-f6b9-bc848683cbb8"
      },
>>>>>>> bdbde03013a90270db4542412210ebdc20951927
      "outputs": [
        {
          "data": {
            "text/plain": [
<<<<<<< HEAD
              "0       I have a 3G iPhone After 3 hrs tweeting at Aus...\n",
              "1       Know about Awesome iPad iPhone app that you ll...\n",
              "2       Can not wait for 2 also They should sale them ...\n",
              "3       I hope this year s festival isn t as crashy as...\n",
              "4       great stuff on Fri Marissa Mayer Google Tim O ...\n",
              "                              ...                        \n",
              "8692    Yup but I don t have a third app yet I m on An...\n",
              "8693                                    Ipad everywhere  \n",
              "8694    Wave buzz   We interrupt your regularly schedu...\n",
              "8695    Google s Zeiger a physician never reported pot...\n",
              "8696    Some Verizon iPhone customers complained their...\n",
=======
              "0                                        I have a 3G iPhone After 3 hrs tweeting at Austin it was dead I need to upgrade Plugin stations at\n",
              "1                            Know about Awesome iPad iPhone app that you ll likely appreciate for its design Also they re giving free Ts at\n",
              "2                                                                                     Can not wait for 2 also They should sale them down at\n",
              "3                                                                     I hope this year s festival isn t as crashy as this year s iPhone app\n",
              "4                                  great stuff on Fri Marissa Mayer Google Tim O Reilly tech books conferences amp Matt Mullenweg Wordpress\n",
              "                                                                       ...                                                                 \n",
              "8692                                                                 Yup but I don t have a third app yet I m on Android any suggestions CC\n",
              "8693                                                                                                                      Ipad everywhere  \n",
              "8694                                                     Wave buzz   We interrupt your regularly scheduled geek programming with big news  \n",
              "8695              Google s Zeiger a physician never reported potential AE Yet FDA relies on physicians quot We re operating w out data quot\n",
              "8696    Some Verizon iPhone customers complained their time fell back an hour this weekend Of course they were the New Yorkers who attended\n",
>>>>>>> bdbde03013a90270db4542412210ebdc20951927
              "Name: Tweet, Length: 8697, dtype: object"
            ]
          },
          "execution_count": 33,
          "metadata": {},
          "output_type": "execute_result"
        }
      ],
      "source": [
<<<<<<< HEAD
        "data['Tweet'] = data.Tweet.map(lambda x: re.sub('RT', \" \", x)) # Remove RT (retweet)\n",
        "data['Tweet'] = data.Tweet.map(lambda x: re.sub('link', \" \", x)) # Remove link\n",
=======
        "# Remove the remaining characters and punctuations\n",
        "data['Tweet'] = data.Tweet.map(lambda x: re.sub('RT', \" \", x)) # Remove RT (retweet)\n",
        "data['Tweet'] = data.Tweet.map(lambda x: re.sub('link', \" \", x))# Remove link\n",
        "data['Tweet'] = data.Tweet.map(lambda x: re.sub('@', \" \", x)) # remove @\n",
        "data['Tweet'] = data.Tweet.map(lambda x: re.sub('mention', \" \", x)) # remove mention\n",
        "data['Tweet'] = data.Tweet.map(lambda x: re.sub('�+', \" \", x)) # remove � character\n",
        "\n",
        "# load the cleaned text colum\n",
>>>>>>> bdbde03013a90270db4542412210ebdc20951927
        "data.Tweet"
      ]
    },
    {
      "cell_type": "markdown",
<<<<<<< HEAD
      "metadata": {},
=======
      "metadata": {
        "id": "tOzWoiULayTJ"
      },
>>>>>>> bdbde03013a90270db4542412210ebdc20951927
      "source": [
        "Now that we have that done and dusted. Let's remove the stopwords from our data set, ensure the words are in lower case, and then tokenize our dataset."
      ]
    },
    {
      "cell_type": "code",
<<<<<<< HEAD
      "execution_count": 46,
      "metadata": {},
=======
      "execution_count": 34,
      "metadata": {
        "id": "CakIIw4HayTJ"
      },
>>>>>>> bdbde03013a90270db4542412210ebdc20951927
      "outputs": [],
      "source": [
        "# create a word tokenize\n",
        "def tokenize_data(text):\n",
        "    \"\"\"\n",
        "    A function responsible for tokenizing our sentences\n",
        "    \"\"\"\n",
        "    # tokenize the data\n",
        "    tokens = word_tokenize(text)\n",
        "\n",
        "    # create our stopwords\n",
        "    stopwords_list = stopwords.words('english')\n",
<<<<<<< HEAD
        "    stopwords_list += [str(x) for x in range(10)]\n",
=======
        "    stopwords_list += [str(x) for x in range(100)]\n",
>>>>>>> bdbde03013a90270db4542412210ebdc20951927
        "\n",
        "    # convert everything to lowercase\n",
        "    clean_list = [word.lower() for word in tokens if word.lower() not in stopwords_list]\n",
        "\n",
        "    return clean_list"
      ]
    },
    {
<<<<<<< HEAD
      "cell_type": "code",
      "execution_count": 48,
      "metadata": {},
=======
      "cell_type": "markdown",
      "metadata": {},
      "source": [
        "Next, map the function above onto our text column."
      ]
    },
    {
      "cell_type": "code",
      "execution_count": 35,
      "metadata": {
        "colab": {
          "base_uri": "https://localhost:8080/"
        },
        "id": "5h2J7lS-ayTJ",
        "outputId": "b8708862-b25b-4ed3-b21d-cf5b6747fadc"
      },
>>>>>>> bdbde03013a90270db4542412210ebdc20951927
      "outputs": [
        {
          "data": {
            "text/plain": [
<<<<<<< HEAD
              "0       [3g, iphone, hrs, tweeting, austin, dead, need...\n",
              "1       [know, awesome, ipad, iphone, app, likely, app...\n",
              "2                                      [wait, also, sale]\n",
              "3       [hope, year, festival, crashy, year, iphone, app]\n",
              "4       [great, stuff, fri, marissa, mayer, google, ti...\n",
              "                              ...                        \n",
              "8692     [yup, third, app, yet, android, suggestions, cc]\n",
              "8693                                   [ipad, everywhere]\n",
              "8694    [wave, buzz, interrupt, regularly, scheduled, ...\n",
              "8695    [google, zeiger, physician, never, reported, p...\n",
              "8696    [verizon, iphone, customers, complained, time,...\n",
              "Name: Tweet, Length: 8697, dtype: object"
            ]
          },
          "execution_count": 48,
=======
              "0                                                      [3g, iphone, hrs, tweeting, austin, dead, need, upgrade, plugin, stations]\n",
              "1                                          [know, awesome, ipad, iphone, app, likely, appreciate, design, also, giving, free, ts]\n",
              "2                                                                                                              [wait, also, sale]\n",
              "3                                                                               [hope, year, festival, crashy, year, iphone, app]\n",
              "4             [great, stuff, fri, marissa, mayer, google, tim, reilly, tech, books, conferences, amp, matt, mullenweg, wordpress]\n",
              "                                                                  ...                                                            \n",
              "8692                                                                             [yup, third, app, yet, android, suggestions, cc]\n",
              "8693                                                                                                           [ipad, everywhere]\n",
              "8694                                                  [wave, buzz, interrupt, regularly, scheduled, geek, programming, big, news]\n",
              "8695    [google, zeiger, physician, never, reported, potential, ae, yet, fda, relies, physicians, quot, operating, w, data, quot]\n",
              "8696                    [verizon, iphone, customers, complained, time, fell, back, hour, weekend, course, new, yorkers, attended]\n",
              "Name: Tweet, Length: 8697, dtype: object"
            ]
          },
          "execution_count": 35,
>>>>>>> bdbde03013a90270db4542412210ebdc20951927
          "metadata": {},
          "output_type": "execute_result"
        }
      ],
      "source": [
<<<<<<< HEAD
        "data['Tweet'] = data.Tweet.map(lambda x: tokenize_data(x))\n",
=======
        "# map the function above onto the tweet column\n",
        "data['Tweet'] = data.Tweet.map(lambda x: tokenize_data(x))\n",
        "\n",
        "# load the tokenized column\n",
>>>>>>> bdbde03013a90270db4542412210ebdc20951927
        "data.Tweet"
      ]
    },
    {
<<<<<<< HEAD
=======
      "cell_type": "markdown",
      "metadata": {
        "id": "ZMM4z_brayTJ"
      },
      "source": [
        "Below, load the dataset after cleaning and tokenizing."
      ]
    },
    {
      "cell_type": "code",
      "execution_count": 36,
      "metadata": {
        "colab": {
          "base_uri": "https://localhost:8080/",
          "height": 424
        },
        "id": "uasBQj3CayTK",
        "outputId": "f3da229b-fce6-43e7-f6f4-5fa590b62484"
      },
      "outputs": [
        {
          "data": {
            "text/html": [
              "<div>\n",
              "<style scoped>\n",
              "    .dataframe tbody tr th:only-of-type {\n",
              "        vertical-align: middle;\n",
              "    }\n",
              "\n",
              "    .dataframe tbody tr th {\n",
              "        vertical-align: top;\n",
              "    }\n",
              "\n",
              "    .dataframe thead th {\n",
              "        text-align: right;\n",
              "    }\n",
              "</style>\n",
              "<table border=\"1\" class=\"dataframe\">\n",
              "  <thead>\n",
              "    <tr style=\"text-align: right;\">\n",
              "      <th></th>\n",
              "      <th>Tweet</th>\n",
              "      <th>Product</th>\n",
              "      <th>Sentiment</th>\n",
              "      <th>Brand</th>\n",
              "    </tr>\n",
              "  </thead>\n",
              "  <tbody>\n",
              "    <tr>\n",
              "      <th>0</th>\n",
              "      <td>[3g, iphone, hrs, tweeting, austin, dead, need, upgrade, plugin, stations]</td>\n",
              "      <td>iPhone</td>\n",
              "      <td>Negative emotion</td>\n",
              "      <td>Apple</td>\n",
              "    </tr>\n",
              "    <tr>\n",
              "      <th>1</th>\n",
              "      <td>[know, awesome, ipad, iphone, app, likely, appreciate, design, also, giving, free, ts]</td>\n",
              "      <td>iPad or iPhone App</td>\n",
              "      <td>Positive emotion</td>\n",
              "      <td>Apple</td>\n",
              "    </tr>\n",
              "    <tr>\n",
              "      <th>2</th>\n",
              "      <td>[wait, also, sale]</td>\n",
              "      <td>iPad</td>\n",
              "      <td>Positive emotion</td>\n",
              "      <td>Apple</td>\n",
              "    </tr>\n",
              "    <tr>\n",
              "      <th>3</th>\n",
              "      <td>[hope, year, festival, crashy, year, iphone, app]</td>\n",
              "      <td>iPad or iPhone App</td>\n",
              "      <td>Negative emotion</td>\n",
              "      <td>Apple</td>\n",
              "    </tr>\n",
              "    <tr>\n",
              "      <th>4</th>\n",
              "      <td>[great, stuff, fri, marissa, mayer, google, tim, reilly, tech, books, conferences, amp, matt, mullenweg, wordpress]</td>\n",
              "      <td>Google</td>\n",
              "      <td>Positive emotion</td>\n",
              "      <td>Google</td>\n",
              "    </tr>\n",
              "    <tr>\n",
              "      <th>...</th>\n",
              "      <td>...</td>\n",
              "      <td>...</td>\n",
              "      <td>...</td>\n",
              "      <td>...</td>\n",
              "    </tr>\n",
              "    <tr>\n",
              "      <th>8692</th>\n",
              "      <td>[yup, third, app, yet, android, suggestions, cc]</td>\n",
              "      <td>Undefined</td>\n",
              "      <td>No emotion</td>\n",
              "      <td>Google</td>\n",
              "    </tr>\n",
              "    <tr>\n",
              "      <th>8693</th>\n",
              "      <td>[ipad, everywhere]</td>\n",
              "      <td>iPad</td>\n",
              "      <td>Positive emotion</td>\n",
              "      <td>Apple</td>\n",
              "    </tr>\n",
              "    <tr>\n",
              "      <th>8694</th>\n",
              "      <td>[wave, buzz, interrupt, regularly, scheduled, geek, programming, big, news]</td>\n",
              "      <td>Undefined</td>\n",
              "      <td>No emotion</td>\n",
              "      <td>Google</td>\n",
              "    </tr>\n",
              "    <tr>\n",
              "      <th>8695</th>\n",
              "      <td>[google, zeiger, physician, never, reported, potential, ae, yet, fda, relies, physicians, quot, operating, w, data, quot]</td>\n",
              "      <td>Undefined</td>\n",
              "      <td>No emotion</td>\n",
              "      <td>Google</td>\n",
              "    </tr>\n",
              "    <tr>\n",
              "      <th>8696</th>\n",
              "      <td>[verizon, iphone, customers, complained, time, fell, back, hour, weekend, course, new, yorkers, attended]</td>\n",
              "      <td>Undefined</td>\n",
              "      <td>No emotion</td>\n",
              "      <td>Apple</td>\n",
              "    </tr>\n",
              "  </tbody>\n",
              "</table>\n",
              "<p>8697 rows × 4 columns</p>\n",
              "</div>"
            ],
            "text/plain": [
              "                                                                                                                          Tweet  \\\n",
              "0                                                    [3g, iphone, hrs, tweeting, austin, dead, need, upgrade, plugin, stations]   \n",
              "1                                        [know, awesome, ipad, iphone, app, likely, appreciate, design, also, giving, free, ts]   \n",
              "2                                                                                                            [wait, also, sale]   \n",
              "3                                                                             [hope, year, festival, crashy, year, iphone, app]   \n",
              "4           [great, stuff, fri, marissa, mayer, google, tim, reilly, tech, books, conferences, amp, matt, mullenweg, wordpress]   \n",
              "...                                                                                                                         ...   \n",
              "8692                                                                           [yup, third, app, yet, android, suggestions, cc]   \n",
              "8693                                                                                                         [ipad, everywhere]   \n",
              "8694                                                [wave, buzz, interrupt, regularly, scheduled, geek, programming, big, news]   \n",
              "8695  [google, zeiger, physician, never, reported, potential, ae, yet, fda, relies, physicians, quot, operating, w, data, quot]   \n",
              "8696                  [verizon, iphone, customers, complained, time, fell, back, hour, weekend, course, new, yorkers, attended]   \n",
              "\n",
              "                 Product         Sentiment   Brand  \n",
              "0                 iPhone  Negative emotion   Apple  \n",
              "1     iPad or iPhone App  Positive emotion   Apple  \n",
              "2                   iPad  Positive emotion   Apple  \n",
              "3     iPad or iPhone App  Negative emotion   Apple  \n",
              "4                 Google  Positive emotion  Google  \n",
              "...                  ...               ...     ...  \n",
              "8692           Undefined        No emotion  Google  \n",
              "8693                iPad  Positive emotion   Apple  \n",
              "8694           Undefined        No emotion  Google  \n",
              "8695           Undefined        No emotion  Google  \n",
              "8696           Undefined        No emotion   Apple  \n",
              "\n",
              "[8697 rows x 4 columns]"
            ]
          },
          "execution_count": 36,
          "metadata": {},
          "output_type": "execute_result"
        }
      ],
      "source": [
        "# load the cleaned data\n",
        "data"
      ]
    },
    {
      "cell_type": "markdown",
      "metadata": {
        "id": "wuS_vE17ayTK"
      },
      "source": [
        "After cleaning and tokenizing our data, the next step in our text preparation will be lemmatization. Lemmatization helps in transforming the text data by removing the suffixes of our data. Since lemmatizing uses part-of-speech tagging to determine how to transform a word, we'll need to incoperate word net in the lammetization."
      ]
    },
    {
      "cell_type": "markdown",
      "metadata": {
        "id": "pkJdAQNxayTK"
      },
      "source": [
        "Based on this below, we will create a function that converts the nltk parts-of-speech to wordnet tags, basically inputs the nltk pos tags and outputs the wordnet lemmatizer tags that can be interpretted by out lemmatizier"
      ]
    },
    {
      "cell_type": "code",
      "execution_count": 37,
      "metadata": {
        "colab": {
          "base_uri": "https://localhost:8080/"
        },
        "id": "X2n9K9rZayTK",
        "outputId": "11041c33-47f0-476f-9556-ca2447bf84b3"
      },
      "outputs": [
        {
          "data": {
            "text/plain": [
              "True"
            ]
          },
          "execution_count": 37,
          "metadata": {},
          "output_type": "execute_result"
        }
      ],
      "source": [
        "# from nltk download averaged_perceptron_tagger\n",
        "nltk.download('averaged_perceptron_tagger', quiet=True)"
      ]
    },
    {
      "cell_type": "code",
      "execution_count": 38,
      "metadata": {
        "colab": {
          "base_uri": "https://localhost:8080/"
        },
        "id": "tEAMRIFoayTL",
        "outputId": "88df49e3-803c-41f7-fbde-f39549042280"
      },
      "outputs": [
        {
          "data": {
            "text/plain": [
              "True"
            ]
          },
          "execution_count": 38,
          "metadata": {},
          "output_type": "execute_result"
        }
      ],
      "source": [
        "# from nltk download tagsets\n",
        "nltk.download('tagsets', quiet=True)"
      ]
    },
    {
      "cell_type": "code",
      "execution_count": 39,
      "metadata": {
        "id": "eY5sIBH_ayTL"
      },
      "outputs": [],
      "source": [
        "# create a function that takes in the nltk POS tags and transforms them to wordnet tags\n",
        "def wordnet_pos(word_tag):\n",
        "    '''\n",
        "    Translate nltk POS to wordnet tags\n",
        "    '''\n",
        "    if word_tag.startswith('J'):\n",
        "        return wordnet.ADJ\n",
        "    elif word_tag.startswith('V'):\n",
        "        return wordnet.VERB\n",
        "    elif word_tag.startswith('N'):\n",
        "        return wordnet.NOUN\n",
        "    elif word_tag.startswith('R'):\n",
        "        return wordnet.ADV\n",
        "    else:\n",
        "        return wordnet.NOUN"
      ]
    },
    {
      "cell_type": "markdown",
      "metadata": {},
      "source": [
        "Below i will index out the first tweet, then perform POS tagging on the indexed tweet."
      ]
    },
    {
      "cell_type": "code",
      "execution_count": 40,
      "metadata": {
        "colab": {
          "base_uri": "https://localhost:8080/"
        },
        "id": "Nqic5JDtayTL",
        "outputId": "4b86812e-fa42-4172-c671-e07523976604"
      },
      "outputs": [
        {
          "data": {
            "text/plain": [
              "['3g',\n",
              " 'iphone',\n",
              " 'hrs',\n",
              " 'tweeting',\n",
              " 'austin',\n",
              " 'dead',\n",
              " 'need',\n",
              " 'upgrade',\n",
              " 'plugin',\n",
              " 'stations']"
            ]
          },
          "execution_count": 40,
          "metadata": {},
          "output_type": "execute_result"
        }
      ],
      "source": [
        "# Index the first tweet in the tweet column\n",
        "first_tweet = data['Tweet'][0]\n",
        "first_tweet"
      ]
    },
    {
      "cell_type": "code",
      "execution_count": 41,
      "metadata": {
        "colab": {
          "base_uri": "https://localhost:8080/"
        },
        "id": "1VjuPXQtayTM",
        "outputId": "9ce527bc-0f94-47a4-e0c6-2537cc29875f"
      },
      "outputs": [
        {
          "data": {
            "text/plain": [
              "[('3g', 'CD'),\n",
              " ('iphone', 'NN'),\n",
              " ('hrs', 'NN'),\n",
              " ('tweeting', 'VBG'),\n",
              " ('austin', 'NNS'),\n",
              " ('dead', 'JJ'),\n",
              " ('need', 'VBP'),\n",
              " ('upgrade', 'JJ'),\n",
              " ('plugin', 'NN'),\n",
              " ('stations', 'NNS')]"
            ]
          },
          "execution_count": 41,
          "metadata": {},
          "output_type": "execute_result"
        }
      ],
      "source": [
        "# Get the POS tags for the words in first_tweet\n",
        "first_tweet = pos_tag(first_tweet)\n",
        "first_tweet"
      ]
    },
    {
      "cell_type": "markdown",
      "metadata": {},
      "source": [
        "Based on the output above, we have have successfully gotten the the pos tags where the terms starting with N represent the nouns, J represents the adjective, V represents the verbs"
      ]
    },
    {
      "cell_type": "markdown",
      "metadata": {},
      "source": [
        "Next, we will instantiate the lemmatizer and create a variable X that contains the data from  the tweet column."
      ]
    },
    {
      "cell_type": "code",
      "execution_count": 42,
      "metadata": {
        "id": "_92FXkQvayTM"
      },
      "outputs": [],
      "source": [
        " # inastantiate the lemmatizer\n",
        "lemmatizer = WordNetLemmatizer() "
      ]
    },
    {
      "cell_type": "code",
      "execution_count": 43,
      "metadata": {
        "colab": {
          "base_uri": "https://localhost:8080/"
        },
        "id": "yUahZpP1ayTM",
        "outputId": "c08c0c03-8874-460e-814e-7005ac8a5b42"
      },
      "outputs": [
        {
          "data": {
            "text/plain": [
              "0                                                      [3g, iphone, hrs, tweeting, austin, dead, need, upgrade, plugin, stations]\n",
              "1                                          [know, awesome, ipad, iphone, app, likely, appreciate, design, also, giving, free, ts]\n",
              "2                                                                                                              [wait, also, sale]\n",
              "3                                                                               [hope, year, festival, crashy, year, iphone, app]\n",
              "4             [great, stuff, fri, marissa, mayer, google, tim, reilly, tech, books, conferences, amp, matt, mullenweg, wordpress]\n",
              "                                                                  ...                                                            \n",
              "8692                                                                             [yup, third, app, yet, android, suggestions, cc]\n",
              "8693                                                                                                           [ipad, everywhere]\n",
              "8694                                                  [wave, buzz, interrupt, regularly, scheduled, geek, programming, big, news]\n",
              "8695    [google, zeiger, physician, never, reported, potential, ae, yet, fda, relies, physicians, quot, operating, w, data, quot]\n",
              "8696                    [verizon, iphone, customers, complained, time, fell, back, hour, weekend, course, new, yorkers, attended]\n",
              "Name: Tweet, Length: 8697, dtype: object"
            ]
          },
          "execution_count": 43,
          "metadata": {},
          "output_type": "execute_result"
        }
      ],
      "source": [
        "# create a variable X containing data from tweet column\n",
        "X = data['Tweet']\n",
        "X"
      ]
    },
    {
      "cell_type": "markdown",
      "metadata": {},
      "source": [
        "In the code cell below, we will create a function that takes in the text from the variable X, gets the Pos tags of the text, then uses the wordnet_pos function above to get the wordnet tags that are then passed on to our lemmatizer."
      ]
    },
    {
      "cell_type": "code",
      "execution_count": 44,
      "metadata": {
        "id": "l4cjXVbqayTN"
      },
      "outputs": [],
      "source": [
        "def word_lemma(text):\n",
        "    '''\n",
        "    Translate the text POS tags to Word net tags then pass it to the lemmatizer\n",
        "    \n",
        "    '''\n",
        "    # get the pos tags for the text\n",
        "    word_pos_tags = pos_tag(text)\n",
        "    \n",
        "    # translate the pos tags to word net tags\n",
        "    word_net_tag = [(text[0], wordnet_pos(text[1])) for text in word_pos_tags]\n",
        "    \n",
        "    # Pass the text with the wordnet tags to the lemmatizer\n",
        "    lemma_word = [lemmatizer.lemmatize(text[0], text[1]) for text in word_net_tag]\n",
        "    \n",
        "    return lemma_word\n",
        "    \n",
        "    \n"
      ]
    },
    {
      "cell_type": "markdown",
      "metadata": {},
      "source": [
        "Map the function created above onto the X variable created above."
      ]
    },
    {
      "cell_type": "code",
      "execution_count": 45,
      "metadata": {
        "id": "RUHgNG2xayTN"
      },
      "outputs": [],
      "source": [
        "# map the function above\n",
        "data['Tweet'] = X.map(lambda x: word_lemma(x))\n"
      ]
    },
    {
      "cell_type": "code",
      "execution_count": 46,
      "metadata": {
        "colab": {
          "base_uri": "https://localhost:8080/"
        },
        "id": "7gpEWP6XayTN",
        "outputId": "39e59b86-2acc-4a6a-9abc-e1922258a820"
      },
      "outputs": [
        {
          "data": {
            "text/plain": [
              "0                                                       [3g, iphone, hr, tweet, austin, dead, need, upgrade, plugin, station]\n",
              "1                                         [know, awesome, ipad, iphone, app, likely, appreciate, design, also, give, free, t]\n",
              "2                                                                                                          [wait, also, sale]\n",
              "3                                                                           [hope, year, festival, crashy, year, iphone, app]\n",
              "4           [great, stuff, fri, marissa, mayer, google, tim, reilly, tech, book, conference, amp, matt, mullenweg, wordpress]\n",
              "                                                                ...                                                          \n",
              "8692                                                                          [yup, third, app, yet, android, suggestion, cc]\n",
              "8693                                                                                                       [ipad, everywhere]\n",
              "8694                                                   [wave, buzz, interrupt, regularly, schedule, geek, program, big, news]\n",
              "8695    [google, zeiger, physician, never, report, potential, ae, yet, fda, relies, physicians, quot, operate, w, data, quot]\n",
              "8696                     [verizon, iphone, customer, complain, time, fell, back, hour, weekend, course, new, yorkers, attend]\n",
              "Name: Tweet, Length: 8697, dtype: object"
            ]
          },
          "execution_count": 46,
          "metadata": {},
          "output_type": "execute_result"
        }
      ],
      "source": [
        "# load the lemmatized tweet column\n",
        "data['Tweet']"
      ]
    },
    {
      "cell_type": "markdown",
      "metadata": {
        "id": "tm1nqhIbayTN"
      },
      "source": [
        "### Plot a Frequency Distribution \n",
        "\n",
        "We will create a frequency distribution plot that shows the words that appear in the tweet columns together with the count."
      ]
    },
    {
      "cell_type": "code",
      "execution_count": 47,
      "metadata": {
        "colab": {
          "base_uri": "https://localhost:8080/",
          "height": 648
        },
        "id": "vxCb6PMKayTO",
        "outputId": "90efe242-1b1c-42f9-ea24-34218a7d637f",
        "scrolled": false
      },
      "outputs": [
        {
          "data": {
            "image/png": "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",
            "text/plain": [
              "<Figure size 1080x720 with 1 Axes>"
            ]
          },
          "metadata": {
            "needs_background": "light"
          },
          "output_type": "display_data"
        }
      ],
      "source": [
        "# create the frequency distribution plot\n",
        "sample = data['Tweet']\n",
        "freq1_dist = []\n",
        "\n",
        "for tweet in sample:\n",
        "    freq1_dist.extend(tweet)\n",
        "    \n",
        "fdist = FreqDist(freq1_dist)\n",
        "plt.figure(figsize=(15, 10))\n",
        "fdist.plot(50);"
      ]
    },
    {
      "cell_type": "markdown",
      "metadata": {},
      "source": [
        "Based on the output, we can see that google is the word with the highest count within the text data followed by ipad and apple. Below, i wil use the fdist() method to get the actual count of the first 200 words, it will also help in checking if there are any anomalies in the text."
      ]
    },
    {
      "cell_type": "code",
      "execution_count": 51,
      "metadata": {
        "colab": {
          "base_uri": "https://localhost:8080/"
        },
        "id": "cQLsvCfrikKo",
        "outputId": "4869cb68-3973-4365-8aed-3e785ab3925a"
      },
      "outputs": [
        {
          "data": {
            "text/plain": [
              "[('google', 2261),\n",
              " ('ipad', 2200),\n",
              " ('apple', 1861),\n",
              " ('quot', 1621),\n",
              " ('store', 1457),\n",
              " ('iphone', 1273),\n",
              " ('new', 1063),\n",
              " ('austin', 834),\n",
              " ('amp', 798),\n",
              " ('launch', 786),\n",
              " ('app', 776),\n",
              " ('get', 697),\n",
              " ('social', 621),\n",
              " ('circle', 576),\n",
              " ('today', 567),\n",
              " ('pop', 565),\n",
              " ('sxsw', 497),\n",
              " ('go', 479),\n",
              " ('open', 479),\n",
              " ('network', 457),\n",
              " ('android', 449),\n",
              " ('line', 444),\n",
              " ('via', 407),\n",
              " ('call', 391),\n",
              " ('party', 385),\n",
              " ('free', 360),\n",
              " ('come', 340),\n",
              " ('mobile', 308),\n",
              " ('one', 308),\n",
              " ('like', 305)]"
            ]
          },
          "execution_count": 51,
          "metadata": {},
          "output_type": "execute_result"
        }
      ],
      "source": [
        "# display the count of the first 200 texts\n",
        "word_frequency = fdist.most_common(200)\n",
        "word_frequency[:30]"
      ]
    },
    {
      "cell_type": "code",
      "execution_count": 49,
      "metadata": {
        "colab": {
          "base_uri": "https://localhost:8080/",
          "height": 424
        },
        "id": "z4oZ-CIeayTO",
        "outputId": "0cad7b2e-990a-4bb9-a915-d102d2859500",
        "scrolled": true
      },
      "outputs": [
        {
          "data": {
            "text/html": [
              "<div>\n",
              "<style scoped>\n",
              "    .dataframe tbody tr th:only-of-type {\n",
              "        vertical-align: middle;\n",
              "    }\n",
              "\n",
              "    .dataframe tbody tr th {\n",
              "        vertical-align: top;\n",
              "    }\n",
              "\n",
              "    .dataframe thead th {\n",
              "        text-align: right;\n",
              "    }\n",
              "</style>\n",
              "<table border=\"1\" class=\"dataframe\">\n",
              "  <thead>\n",
              "    <tr style=\"text-align: right;\">\n",
              "      <th></th>\n",
              "      <th>Tweet</th>\n",
              "      <th>Product</th>\n",
              "      <th>Sentiment</th>\n",
              "      <th>Brand</th>\n",
              "    </tr>\n",
              "  </thead>\n",
              "  <tbody>\n",
              "    <tr>\n",
              "      <th>0</th>\n",
              "      <td>[3g, iphone, hr, tweet, austin, dead, need, upgrade, plugin, station]</td>\n",
              "      <td>iPhone</td>\n",
              "      <td>Negative emotion</td>\n",
              "      <td>Apple</td>\n",
              "    </tr>\n",
              "    <tr>\n",
              "      <th>1</th>\n",
              "      <td>[know, awesome, ipad, iphone, app, likely, appreciate, design, also, give, free, t]</td>\n",
              "      <td>iPad or iPhone App</td>\n",
              "      <td>Positive emotion</td>\n",
              "      <td>Apple</td>\n",
              "    </tr>\n",
              "    <tr>\n",
              "      <th>2</th>\n",
              "      <td>[wait, also, sale]</td>\n",
              "      <td>iPad</td>\n",
              "      <td>Positive emotion</td>\n",
              "      <td>Apple</td>\n",
              "    </tr>\n",
              "    <tr>\n",
              "      <th>3</th>\n",
              "      <td>[hope, year, festival, crashy, year, iphone, app]</td>\n",
              "      <td>iPad or iPhone App</td>\n",
              "      <td>Negative emotion</td>\n",
              "      <td>Apple</td>\n",
              "    </tr>\n",
              "    <tr>\n",
              "      <th>4</th>\n",
              "      <td>[great, stuff, fri, marissa, mayer, google, tim, reilly, tech, book, conference, amp, matt, mullenweg, wordpress]</td>\n",
              "      <td>Google</td>\n",
              "      <td>Positive emotion</td>\n",
              "      <td>Google</td>\n",
              "    </tr>\n",
              "    <tr>\n",
              "      <th>...</th>\n",
              "      <td>...</td>\n",
              "      <td>...</td>\n",
              "      <td>...</td>\n",
              "      <td>...</td>\n",
              "    </tr>\n",
              "    <tr>\n",
              "      <th>8692</th>\n",
              "      <td>[yup, third, app, yet, android, suggestion, cc]</td>\n",
              "      <td>Undefined</td>\n",
              "      <td>No emotion</td>\n",
              "      <td>Google</td>\n",
              "    </tr>\n",
              "    <tr>\n",
              "      <th>8693</th>\n",
              "      <td>[ipad, everywhere]</td>\n",
              "      <td>iPad</td>\n",
              "      <td>Positive emotion</td>\n",
              "      <td>Apple</td>\n",
              "    </tr>\n",
              "    <tr>\n",
              "      <th>8694</th>\n",
              "      <td>[wave, buzz, interrupt, regularly, schedule, geek, program, big, news]</td>\n",
              "      <td>Undefined</td>\n",
              "      <td>No emotion</td>\n",
              "      <td>Google</td>\n",
              "    </tr>\n",
              "    <tr>\n",
              "      <th>8695</th>\n",
              "      <td>[google, zeiger, physician, never, report, potential, ae, yet, fda, relies, physicians, quot, operate, w, data, quot]</td>\n",
              "      <td>Undefined</td>\n",
              "      <td>No emotion</td>\n",
              "      <td>Google</td>\n",
              "    </tr>\n",
              "    <tr>\n",
              "      <th>8696</th>\n",
              "      <td>[verizon, iphone, customer, complain, time, fell, back, hour, weekend, course, new, yorkers, attend]</td>\n",
              "      <td>Undefined</td>\n",
              "      <td>No emotion</td>\n",
              "      <td>Apple</td>\n",
              "    </tr>\n",
              "  </tbody>\n",
              "</table>\n",
              "<p>8697 rows × 4 columns</p>\n",
              "</div>"
            ],
            "text/plain": [
              "                                                                                                                      Tweet  \\\n",
              "0                                                     [3g, iphone, hr, tweet, austin, dead, need, upgrade, plugin, station]   \n",
              "1                                       [know, awesome, ipad, iphone, app, likely, appreciate, design, also, give, free, t]   \n",
              "2                                                                                                        [wait, also, sale]   \n",
              "3                                                                         [hope, year, festival, crashy, year, iphone, app]   \n",
              "4         [great, stuff, fri, marissa, mayer, google, tim, reilly, tech, book, conference, amp, matt, mullenweg, wordpress]   \n",
              "...                                                                                                                     ...   \n",
              "8692                                                                        [yup, third, app, yet, android, suggestion, cc]   \n",
              "8693                                                                                                     [ipad, everywhere]   \n",
              "8694                                                 [wave, buzz, interrupt, regularly, schedule, geek, program, big, news]   \n",
              "8695  [google, zeiger, physician, never, report, potential, ae, yet, fda, relies, physicians, quot, operate, w, data, quot]   \n",
              "8696                   [verizon, iphone, customer, complain, time, fell, back, hour, weekend, course, new, yorkers, attend]   \n",
              "\n",
              "                 Product         Sentiment   Brand  \n",
              "0                 iPhone  Negative emotion   Apple  \n",
              "1     iPad or iPhone App  Positive emotion   Apple  \n",
              "2                   iPad  Positive emotion   Apple  \n",
              "3     iPad or iPhone App  Negative emotion   Apple  \n",
              "4                 Google  Positive emotion  Google  \n",
              "...                  ...               ...     ...  \n",
              "8692           Undefined        No emotion  Google  \n",
              "8693                iPad  Positive emotion   Apple  \n",
              "8694           Undefined        No emotion  Google  \n",
              "8695           Undefined        No emotion  Google  \n",
              "8696           Undefined        No emotion   Apple  \n",
              "\n",
              "[8697 rows x 4 columns]"
            ]
          },
          "execution_count": 49,
          "metadata": {},
          "output_type": "execute_result"
        }
      ],
      "source": [
        "# The preprocessed data set\n",
        "data"
      ]
    },
    {
      "cell_type": "markdown",
      "metadata": {},
      "source": [
        "In the code cell below, we will convert the lists in the tweet column into a string."
      ]
    },
    {
      "cell_type": "code",
      "execution_count": 50,
      "metadata": {
        "colab": {
          "base_uri": "https://localhost:8080/",
          "height": 424
        },
        "id": "QmLM1aXMayTP",
        "outputId": "226be994-e31b-47fd-d859-5be9c7543312"
      },
      "outputs": [
        {
          "data": {
            "text/html": [
              "<div>\n",
              "<style scoped>\n",
              "    .dataframe tbody tr th:only-of-type {\n",
              "        vertical-align: middle;\n",
              "    }\n",
              "\n",
              "    .dataframe tbody tr th {\n",
              "        vertical-align: top;\n",
              "    }\n",
              "\n",
              "    .dataframe thead th {\n",
              "        text-align: right;\n",
              "    }\n",
              "</style>\n",
              "<table border=\"1\" class=\"dataframe\">\n",
              "  <thead>\n",
              "    <tr style=\"text-align: right;\">\n",
              "      <th></th>\n",
              "      <th>Tweet</th>\n",
              "      <th>Product</th>\n",
              "      <th>Sentiment</th>\n",
              "      <th>Brand</th>\n",
              "    </tr>\n",
              "  </thead>\n",
              "  <tbody>\n",
              "    <tr>\n",
              "      <th>0</th>\n",
              "      <td>3g iphone hr tweet austin dead need upgrade plugin station</td>\n",
              "      <td>iPhone</td>\n",
              "      <td>Negative emotion</td>\n",
              "      <td>Apple</td>\n",
              "    </tr>\n",
              "    <tr>\n",
              "      <th>1</th>\n",
              "      <td>know awesome ipad iphone app likely appreciate design also give free t</td>\n",
              "      <td>iPad or iPhone App</td>\n",
              "      <td>Positive emotion</td>\n",
              "      <td>Apple</td>\n",
              "    </tr>\n",
              "    <tr>\n",
              "      <th>2</th>\n",
              "      <td>wait also sale</td>\n",
              "      <td>iPad</td>\n",
              "      <td>Positive emotion</td>\n",
              "      <td>Apple</td>\n",
              "    </tr>\n",
              "    <tr>\n",
              "      <th>3</th>\n",
              "      <td>hope year festival crashy year iphone app</td>\n",
              "      <td>iPad or iPhone App</td>\n",
              "      <td>Negative emotion</td>\n",
              "      <td>Apple</td>\n",
              "    </tr>\n",
              "    <tr>\n",
              "      <th>4</th>\n",
              "      <td>great stuff fri marissa mayer google tim reilly tech book conference amp matt mullenweg wordpress</td>\n",
              "      <td>Google</td>\n",
              "      <td>Positive emotion</td>\n",
              "      <td>Google</td>\n",
              "    </tr>\n",
              "    <tr>\n",
              "      <th>...</th>\n",
              "      <td>...</td>\n",
              "      <td>...</td>\n",
              "      <td>...</td>\n",
              "      <td>...</td>\n",
              "    </tr>\n",
              "    <tr>\n",
              "      <th>8692</th>\n",
              "      <td>yup third app yet android suggestion cc</td>\n",
              "      <td>Undefined</td>\n",
              "      <td>No emotion</td>\n",
              "      <td>Google</td>\n",
              "    </tr>\n",
              "    <tr>\n",
              "      <th>8693</th>\n",
              "      <td>ipad everywhere</td>\n",
              "      <td>iPad</td>\n",
              "      <td>Positive emotion</td>\n",
              "      <td>Apple</td>\n",
              "    </tr>\n",
              "    <tr>\n",
              "      <th>8694</th>\n",
              "      <td>wave buzz interrupt regularly schedule geek program big news</td>\n",
              "      <td>Undefined</td>\n",
              "      <td>No emotion</td>\n",
              "      <td>Google</td>\n",
              "    </tr>\n",
              "    <tr>\n",
              "      <th>8695</th>\n",
              "      <td>google zeiger physician never report potential ae yet fda relies physicians quot operate w data quot</td>\n",
              "      <td>Undefined</td>\n",
              "      <td>No emotion</td>\n",
              "      <td>Google</td>\n",
              "    </tr>\n",
              "    <tr>\n",
              "      <th>8696</th>\n",
              "      <td>verizon iphone customer complain time fell back hour weekend course new yorkers attend</td>\n",
              "      <td>Undefined</td>\n",
              "      <td>No emotion</td>\n",
              "      <td>Apple</td>\n",
              "    </tr>\n",
              "  </tbody>\n",
              "</table>\n",
              "<p>8697 rows × 4 columns</p>\n",
              "</div>"
            ],
            "text/plain": [
              "                                                                                                     Tweet  \\\n",
              "0                                               3g iphone hr tweet austin dead need upgrade plugin station   \n",
              "1                                   know awesome ipad iphone app likely appreciate design also give free t   \n",
              "2                                                                                           wait also sale   \n",
              "3                                                                hope year festival crashy year iphone app   \n",
              "4        great stuff fri marissa mayer google tim reilly tech book conference amp matt mullenweg wordpress   \n",
              "...                                                                                                    ...   \n",
              "8692                                                               yup third app yet android suggestion cc   \n",
              "8693                                                                                       ipad everywhere   \n",
              "8694                                          wave buzz interrupt regularly schedule geek program big news   \n",
              "8695  google zeiger physician never report potential ae yet fda relies physicians quot operate w data quot   \n",
              "8696                verizon iphone customer complain time fell back hour weekend course new yorkers attend   \n",
              "\n",
              "                 Product         Sentiment   Brand  \n",
              "0                 iPhone  Negative emotion   Apple  \n",
              "1     iPad or iPhone App  Positive emotion   Apple  \n",
              "2                   iPad  Positive emotion   Apple  \n",
              "3     iPad or iPhone App  Negative emotion   Apple  \n",
              "4                 Google  Positive emotion  Google  \n",
              "...                  ...               ...     ...  \n",
              "8692           Undefined        No emotion  Google  \n",
              "8693                iPad  Positive emotion   Apple  \n",
              "8694           Undefined        No emotion  Google  \n",
              "8695           Undefined        No emotion  Google  \n",
              "8696           Undefined        No emotion   Apple  \n",
              "\n",
              "[8697 rows x 4 columns]"
            ]
          },
          "execution_count": 50,
          "metadata": {},
          "output_type": "execute_result"
        }
      ],
      "source": [
        "# convert the list into a string\n",
        "data['Tweet'] = data.Tweet.map(lambda x: ' '.join(map(str, x)))\n",
        "data"
      ]
    },
    {
      "cell_type": "markdown",
      "metadata": {
        "id": "8bl54GttayTP"
      },
      "source": [
        "## 5. MODELING AND EVALUATION\n",
        "\n",
        "The step of the project will include the following steps:\n",
        "1. Specifying our X and y.\n",
        "2. Spliting our data into training and testing data\n",
        "3. Vectorizing our data using TF-IDF vectorizer\n",
        "4. Choosing a baseline model\n",
        "5. Tuning the selected baseline model"
      ]
    },
    {
>>>>>>> bdbde03013a90270db4542412210ebdc20951927
      "cell_type": "code",
      "execution_count": null,
      "metadata": {},
      "outputs": [],
      "source": []
    },
    {
      "cell_type": "code",
<<<<<<< HEAD
      "execution_count": null,
      "metadata": {},
      "outputs": [],
=======
      "execution_count": 51,
      "metadata": {
        "id": "kxhEmCnwayTP"
      },
      "outputs": [],
      "source": [
        "#Specifying X and y\n",
        "X = data['Tweet']\n",
        "y = data['Sentiment']"
      ]
    },
    {
      "cell_type": "code",
      "execution_count": 52,
      "metadata": {
        "id": "2aO312SaayTQ"
      },
      "outputs": [],
      "source": [
        "#Spliting the data into train and test\n",
        "X_train, X_test, y_train, y_test = train_test_split(X, y, test_size=0.2, random_state=42)"
      ]
    },
    {
      "cell_type": "code",
      "execution_count": 53,
      "metadata": {
        "id": "knfFMdg7ayTQ"
      },
      "outputs": [],
      "source": [
        "#Instantiate the TfidfVectorizer\n",
        "vectorizer = TfidfVectorizer(max_df=400)\n",
        "\n",
        "#Fitting and transforming the training data\n",
        "X_train_vec = vectorizer.fit_transform(X_train).toarray()\n",
        "\n",
        "#Fitting on test data\n",
        "X_test_vec = vectorizer.transform(X_test).toarray()"
      ]
    },
    {
      "cell_type": "code",
      "execution_count": 54,
      "metadata": {
        "colab": {
          "base_uri": "https://localhost:8080/"
        },
        "id": "6IC8Q_QuayTQ",
        "outputId": "bf557b78-1243-43bc-8187-daffe4b5d511"
      },
      "outputs": [
        {
          "data": {
            "text/plain": [
              "((6957, 6269), (1740, 6269))"
            ]
          },
          "execution_count": 54,
          "metadata": {},
          "output_type": "execute_result"
        }
      ],
      "source": [
        "#Checking dimensions of vectorized data\n",
        "X_train_vec.shape, X_test_vec.shape\n"
      ]
    },
    {
      "cell_type": "code",
      "execution_count": 55,
      "metadata": {
        "colab": {
          "base_uri": "https://localhost:8080/"
        },
        "id": "NbW7WfbzayTU",
        "outputId": "12e3e56c-4452-47f0-89de-058a409dda51"
      },
      "outputs": [
        {
          "data": {
            "text/plain": [
              "MultinomialNB()"
            ]
          },
          "execution_count": 55,
          "metadata": {},
          "output_type": "execute_result"
        }
      ],
      "source": [
        "from sklearn.naive_bayes import MultinomialNB\n",
        "#Instantiate Multinomial\n",
        "model_NB = MultinomialNB()\n",
        "model_NB.fit(X_train_vec, y_train)"
      ]
    },
    {
      "cell_type": "code",
      "execution_count": 139,
      "metadata": {
        "id": "awoH8Rs7ayTV"
      },
      "outputs": [],
      "source": [
        "def get_prediction(model, X_train, X_test, y_train, y_test):\n",
        "    y_train_pred = model.predict(X_train)\n",
        "    y_test_pred = model.predict(X_test)\n",
        "    \n",
        "    print('Training Prediction')\n",
        "    print('--------------------')\n",
        "    print(classification_report(y_train, y_train_pred))\n",
        "    print('Test Prediction')\n",
        "    print('--------------------')\n",
        "    print(classification_report(y_test, y_test_pred))\n",
        "    \n",
        "    return y_train_pred, y_test_pred"
      ]
    },
    {
      "cell_type": "code",
      "execution_count": 140,
      "metadata": {
        "colab": {
          "base_uri": "https://localhost:8080/"
        },
        "id": "ncHVyFE_ayTV",
        "outputId": "16178379-ad57-405c-8e3f-c1fca0a9421d"
      },
      "outputs": [
        {
          "name": "stdout",
          "output_type": "stream",
          "text": [
            "Training Prediction\n",
            "--------------------\n",
            "                  precision    recall  f1-score   support\n",
            "\n",
            "    I can't tell       0.00      0.00      0.00       120\n",
            "Negative emotion       1.00      0.04      0.08       415\n",
            "      No emotion       0.71      0.98      0.82      4139\n",
            "Positive emotion       0.88      0.46      0.60      2283\n",
            "\n",
            "        accuracy                           0.74      6957\n",
            "       macro avg       0.65      0.37      0.38      6957\n",
            "    weighted avg       0.77      0.74      0.69      6957\n",
            "\n",
            "Test Prediction\n",
            "--------------------\n",
            "                  precision    recall  f1-score   support\n",
            "\n",
            "    I can't tell       0.00      0.00      0.00        31\n",
            "Negative emotion       0.50      0.01      0.02       129\n",
            "      No emotion       0.63      0.95      0.75      1002\n",
            "Positive emotion       0.69      0.26      0.38       578\n",
            "\n",
            "        accuracy                           0.63      1740\n",
            "       macro avg       0.45      0.30      0.29      1740\n",
            "    weighted avg       0.63      0.63      0.56      1740\n",
            "\n"
          ]
        }
      ],
      "source": [
        "_, _ = get_prediction(model_NB, X_train_vec, X_test_vec, y_train, y_test)"
      ]
    },
    {
      "cell_type": "code",
      "execution_count": 141,
      "metadata": {
        "colab": {
          "base_uri": "https://localhost:8080/"
        },
        "id": "g_NInhiRayTW",
        "outputId": "a813d34f-0835-4df0-d518-31e4a2d219c9"
      },
      "outputs": [
        {
          "data": {
            "text/plain": [
              "RandomForestClassifier(random_state=0)"
            ]
          },
          "execution_count": 141,
          "metadata": {},
          "output_type": "execute_result"
        }
      ],
      "source": [
        "#Import Random Forest Classifier\n",
        "from sklearn.ensemble import RandomForestClassifier\n",
        "# Instantiate a Random Forest Classifier\n",
        "model_rf = RandomForestClassifier(n_estimators=100, random_state=0)\n",
        "model_rf.fit(X_train_vec, y_train)"
      ]
    },
    {
      "cell_type": "code",
      "execution_count": 142,
      "metadata": {
        "colab": {
          "base_uri": "https://localhost:8080/"
        },
        "id": "vmlfXsy2ayTW",
        "outputId": "1dc2be35-f11d-4fe6-c4ad-db2b718fe08c"
      },
      "outputs": [
        {
          "name": "stdout",
          "output_type": "stream",
          "text": [
            "Training Prediction\n",
            "--------------------\n",
            "                  precision    recall  f1-score   support\n",
            "\n",
            "    I can't tell       0.95      0.87      0.91       120\n",
            "Negative emotion       0.98      0.92      0.95       415\n",
            "      No emotion       0.95      0.98      0.97      4139\n",
            "Positive emotion       0.96      0.93      0.95      2283\n",
            "\n",
            "        accuracy                           0.96      6957\n",
            "       macro avg       0.96      0.92      0.94      6957\n",
            "    weighted avg       0.96      0.96      0.96      6957\n",
            "\n",
            "Test Prediction\n",
            "--------------------\n",
            "                  precision    recall  f1-score   support\n",
            "\n",
            "    I can't tell       0.00      0.00      0.00        31\n",
            "Negative emotion       0.76      0.15      0.25       129\n",
            "      No emotion       0.67      0.85      0.75      1002\n",
            "Positive emotion       0.61      0.46      0.52       578\n",
            "\n",
            "        accuracy                           0.65      1740\n",
            "       macro avg       0.51      0.36      0.38      1740\n",
            "    weighted avg       0.65      0.65      0.62      1740\n",
            "\n"
          ]
        }
      ],
      "source": [
        "_, _ = get_prediction(model_rf, X_train_vec, X_test_vec, y_train, y_test)"
      ]
    },
    {
      "cell_type": "code",
      "execution_count": 143,
      "metadata": {
        "colab": {
          "base_uri": "https://localhost:8080/"
        },
        "id": "F194249CayTW",
        "outputId": "df49425b-51cd-48f1-b65d-5604863f84a6"
      },
      "outputs": [
        {
          "data": {
            "text/plain": [
              "LogisticRegression()"
            ]
          },
          "execution_count": 143,
          "metadata": {},
          "output_type": "execute_result"
        }
      ],
      "source": [
        "from sklearn.linear_model import LogisticRegression\n",
        "model_lr =LogisticRegression()\n",
        "model_lr.fit(X_train_vec, y_train)"
      ]
    },
    {
      "cell_type": "code",
      "execution_count": 144,
      "metadata": {
        "colab": {
          "base_uri": "https://localhost:8080/"
        },
        "id": "uD4Q6zIMayTW",
        "outputId": "1d5a66c9-0357-4e51-a350-ce2cf66bbf10"
      },
      "outputs": [
        {
          "name": "stdout",
          "output_type": "stream",
          "text": [
            "Training Prediction\n",
            "--------------------\n",
            "                  precision    recall  f1-score   support\n",
            "\n",
            "    I can't tell       0.00      0.00      0.00       120\n",
            "Negative emotion       0.91      0.16      0.27       415\n",
            "      No emotion       0.77      0.95      0.85      4139\n",
            "Positive emotion       0.83      0.64      0.73      2283\n",
            "\n",
            "        accuracy                           0.78      6957\n",
            "       macro avg       0.63      0.44      0.46      6957\n",
            "    weighted avg       0.78      0.78      0.76      6957\n",
            "\n",
            "Test Prediction\n",
            "--------------------\n",
            "                  precision    recall  f1-score   support\n",
            "\n",
            "    I can't tell       0.00      0.00      0.00        31\n",
            "Negative emotion       0.69      0.07      0.13       129\n",
            "      No emotion       0.68      0.87      0.76      1002\n",
            "Positive emotion       0.62      0.47      0.54       578\n",
            "\n",
            "        accuracy                           0.66      1740\n",
            "       macro avg       0.50      0.35      0.36      1740\n",
            "    weighted avg       0.65      0.66      0.63      1740\n",
            "\n"
          ]
        }
      ],
      "source": [
        "_, _ = get_prediction(model_lr, X_train_vec, X_test_vec, y_train, y_test)"
      ]
    },
    {
      "cell_type": "markdown",
      "metadata": {
        "id": "EQ1d8BWuayTX"
      },
      "source": [
        "## Hyperparameters tuning"
      ]
    },
    {
      "cell_type": "markdown",
      "metadata": {
        "id": "iKeAP9oxayTX"
      },
>>>>>>> bdbde03013a90270db4542412210ebdc20951927
      "source": []
    },
    {
      "cell_type": "code",
<<<<<<< HEAD
      "execution_count": null,
      "metadata": {},
      "outputs": [],
      "source": []
    },
    {
      "cell_type": "code",
      "execution_count": null,
      "metadata": {},
=======
      "execution_count": 202,
      "metadata": {
        "id": "uzfBEmbaayTX"
      },
      "outputs": [],
      "source": [
        "param_grid = [    \n",
        "    {'penalty' : ['l1', 'l2', 'elasticnet'],\n",
        "    'solver' : ['saga'],\n",
        "     'random_state':[0]\n",
        "    }\n",
        "]"
      ]
    },
    {
      "cell_type": "code",
      "execution_count": 203,
      "metadata": {
        "id": "J8SPdVRaayTY"
      },
      "outputs": [],
      "source": [
        "lr = GridSearchCV(model_lr, param_grid = param_grid, cv = 3)"
      ]
    },
    {
      "cell_type": "code",
      "execution_count": 204,
      "metadata": {
        "id": "S7G3ExXAayTY"
      },
      "outputs": [],
      "source": [
        "lr_grid = lr.fit(X_train_vec, y_train)"
      ]
    },
    {
      "cell_type": "code",
      "execution_count": 205,
      "metadata": {
        "colab": {
          "base_uri": "https://localhost:8080/"
        },
        "id": "ONVYc1AyayTY",
        "outputId": "722d843c-93cd-4e4e-d6ed-7f91ff0e60e3"
      },
      "outputs": [
        {
          "name": "stdout",
          "output_type": "stream",
          "text": [
            "Training Prediction\n",
            "--------------------\n",
            "                  precision    recall  f1-score   support\n",
            "\n",
            "    I can't tell       0.00      0.00      0.00       120\n",
            "Negative emotion       0.91      0.16      0.27       415\n",
            "      No emotion       0.77      0.95      0.85      4139\n",
            "Positive emotion       0.83      0.64      0.72      2283\n",
            "\n",
            "        accuracy                           0.78      6957\n",
            "       macro avg       0.63      0.44      0.46      6957\n",
            "    weighted avg       0.78      0.78      0.76      6957\n",
            "\n",
            "Test Prediction\n",
            "--------------------\n",
            "                  precision    recall  f1-score   support\n",
            "\n",
            "    I can't tell       0.00      0.00      0.00        31\n",
            "Negative emotion       0.69      0.07      0.13       129\n",
            "      No emotion       0.68      0.87      0.76      1002\n",
            "Positive emotion       0.62      0.47      0.54       578\n",
            "\n",
            "        accuracy                           0.66      1740\n",
            "       macro avg       0.50      0.35      0.36      1740\n",
            "    weighted avg       0.65      0.66      0.63      1740\n",
            "\n"
          ]
        }
      ],
      "source": [
        "_, _ = get_prediction(lr_grid, X_train_vec, X_test_vec, y_train, y_test)"
      ]
    },
    {
      "cell_type": "code",
      "execution_count": 201,
      "metadata": {
        "id": "01JHcIHHayTY"
      },
>>>>>>> bdbde03013a90270db4542412210ebdc20951927
      "outputs": [],
      "source": []
    }
  ],
  "metadata": {
    "colab": {
      "collapsed_sections": [],
      "include_colab_link": true,
      "name": "Copy of Tweets sentiment analysis",
      "provenance": []
    },
    "kernelspec": {
<<<<<<< HEAD
      "display_name": "Python 3.8.5 ('learn-env')",
=======
      "display_name": "Python 3",
>>>>>>> bdbde03013a90270db4542412210ebdc20951927
      "language": "python",
      "name": "python3"
    },
    "language_info": {
      "codemirror_mode": {
        "name": "ipython",
        "version": 3
      },
      "file_extension": ".py",
      "mimetype": "text/x-python",
      "name": "python",
      "nbconvert_exporter": "python",
      "pygments_lexer": "ipython3",
      "version": "3.8.5"
    },
    "vscode": {
      "interpreter": {
<<<<<<< HEAD
        "hash": "2f6755944dd586306f6b4f95278b517ddf3bf95bd70c3d0c3190eb84811895db"
=======
        "hash": "ff5bd1ff2aaa6effda844bcf32cfa8c584329848a0ac5a2267b934b310743680"
>>>>>>> bdbde03013a90270db4542412210ebdc20951927
      }
    }
  },
  "nbformat": 4,
  "nbformat_minor": 0
}
