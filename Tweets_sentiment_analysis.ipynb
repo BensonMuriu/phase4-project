{
  "nbformat": 4,
  "nbformat_minor": 0,
  "metadata": {
    "colab": {
      "name": "Tweets sentiment analysis",
      "provenance": [],
      "authorship_tag": "ABX9TyP2EEW7wn1dzVLwHVoux/9h",
      "include_colab_link": true
    },
    "kernelspec": {
      "name": "python3",
      "display_name": "Python 3"
    },
    "language_info": {
      "name": "python"
    }
  },
  "cells": [
    {
      "cell_type": "markdown",
      "metadata": {
        "id": "view-in-github",
        "colab_type": "text"
      },
      "source": [
        "<a href=\"https://colab.research.google.com/github/danieloselu3/phase4-project/blob/main/Tweets_sentiment_analysis.ipynb\" target=\"_parent\"><img src=\"https://colab.research.google.com/assets/colab-badge.svg\" alt=\"Open In Colab\"/></a>"
      ]
    },
    {
      "cell_type": "markdown",
      "source": [],
      "metadata": {
        "id": "PYimMtu_B3LQ"
      }
    },
    {
      "cell_type": "markdown",
      "source": [
        "# **Tweets Sentiment Analysis** "
      ],
      "metadata": {
        "id": "mfB1nU0uCVyY"
      }
    },
    {
      "cell_type": "code",
      "source": [
        "In a world where technology startups are common, consumer perception of a brand can provide us with valuable information about their purchasing \n",
        "behavior and, in turn, the financial performance of the business that produces them. Safaricoma, a technology investment firm, has hired us to help\n",
        " them develop a predictive model that keeps track of recent tweets about tech products so they can make smart investment choices. In order to \n",
        " determine which brands to research further for potential investment, Safaricom wants a generalizable model to measure sentiment across various brands. Because people only purchase items they like, WhiteOre is only interested in whether consumers feel positively about the brand."
      ],
      "metadata": {
        "id": "dNfITiKLCFgB"
      },
      "execution_count": null,
      "outputs": []
    }
  ]
}