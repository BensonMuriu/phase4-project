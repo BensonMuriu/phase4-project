{
  "cells": [
    {
      "cell_type": "markdown",
      "metadata": {
        "id": "view-in-github",
        "colab_type": "text"
      },
      "source": [
        "<a href=\"https://colab.research.google.com/github/danieloselu3/phase4-project/blob/main/Tweets_sentiment_analysis.ipynb\" target=\"_parent\"><img src=\"https://colab.research.google.com/assets/colab-badge.svg\" alt=\"Open In Colab\"/></a>"
      ]
    },
    {
      "cell_type": "markdown",
      "metadata": {
        "id": "nv5K0ShC_0K6"
      },
      "source": [
        "# **Tweets Sentiment Analysis** "
      ]
    },
    {
      "cell_type": "markdown",
      "metadata": {
        "id": "kLG2VTrnTvYL"
      },
      "source": [
        "## 1. Defining the Question"
      ]
    },
    {
      "cell_type": "markdown",
      "metadata": {
        "id": "XecOwPNorl2W"
      },
      "source": [
        "### a) Specifying the Data Analytic Question"
      ]
    },
    {
      "cell_type": "markdown",
      "metadata": {
        "id": "9ozBnKfehSAw"
      },
      "source": [
        "> In a world where technology startups are common, consumer perception of a brand can provide us with valuable information about their purchasing behavior and, in turn, the financial performance of the business that produces them. . In order to determine which brands to research further for potential investment, Longview techventures wants a generalizable model to measure sentiment across various brands. Because people only purchase items they like, Longview techventures is only interested in whether consumers feel positively about the brand.\n",
        "\n",
        "> **Problem Statement:** Longview techventures, a technology investment firm, has hired us to help them develop a predictive model that keeps track of recent tweets about tech products so they can make smart investment choices."
      ]
    },
    {
      "cell_type": "markdown",
      "metadata": {
        "id": "J4wfHZwQrs-t"
      },
      "source": [
        "### b) Defining the Metric for Success"
      ]
    },
    {
      "cell_type": "markdown",
      "metadata": {
        "id": "iH0hgPO0AFKF"
      },
      "source": [
        "We don't want to overvalue or undervalue a company, however, in the current market condition where labor cost and shortage is prominent, spending human resources to evaluate a company and finding out it's not worth investing in is more costly. Therefore, we care about maximizing accuracy as well as precision."
      ]
    },
    {
      "cell_type": "markdown",
      "metadata": {
        "id": "a9BPYqunry97"
      },
      "source": [
        "### c) Understanding the context "
      ]
    },
    {
      "cell_type": "markdown",
      "metadata": {
        "id": "x39kNBAP_j9N"
      },
      "source": [
        "[Data.world](https://data.world/crowdflower/brands-and-product-emotions) through CrowdFlower, provided the dataset. Over 9,000 Tweets were rated as either positive, negative, or neither by human raters. The tweets are from the South by South West conference, and the majority of them are about Apple and Google products. The information was assembled in 2013.\n",
        "Tweets are typically brief and emotional. They do a great job of capturing consumers' reactions to brands in real time. South by Southwest features the most recent technology and enables customers to contrast products from leading tech companies side by side, which can somewhat lessen their biases.\n",
        "The tweets with positive sentiment and the tweets without positive sentiment, which include neutral, negative, and indistinguishable sentiments, are the two categories into which we engineered our target.Only the sentiment of the tweet matters to us because it can increase sales and therefore return on investment.\n",
        "\n"
      ]
    },
    {
      "cell_type": "markdown",
      "metadata": {
        "id": "zSGyg6kWsBUl"
      },
      "source": [
        "### d) Data Relevance"
      ]
    },
    {
      "cell_type": "markdown",
      "metadata": {
        "id": "Tb3vVCn8CgbH"
      },
      "source": [
        "Longview Techventures will use the data to determine which products to invest in to increase their profits based on customer satisfaction."
      ]
    },
    {
      "cell_type": "markdown",
      "metadata": {
        "id": "iUNbvIvnT7ep"
      },
      "source": [
        "## 2. Reading the Data"
      ]
    },
    {
      "cell_type": "code",
      "execution_count": 149,
      "metadata": {
        "id": "auciXZ5sTz6N",
        "outputId": "a4f8a630-93c1-4529-e9e6-237948094362",
        "colab": {
          "base_uri": "https://localhost:8080/"
        }
      },
      "outputs": [
        {
          "output_type": "stream",
          "name": "stderr",
          "text": [
            "[nltk_data] Downloading package wordnet to /root/nltk_data...\n",
            "[nltk_data]   Package wordnet is already up-to-date!\n",
            "[nltk_data] Downloading package punkt to /root/nltk_data...\n",
            "[nltk_data]   Package punkt is already up-to-date!\n",
            "[nltk_data] Downloading package stopwords to /root/nltk_data...\n",
            "[nltk_data]   Package stopwords is already up-to-date!\n",
            "[nltk_data] Downloading package omw-1.4 to /root/nltk_data...\n",
            "[nltk_data]   Package omw-1.4 is already up-to-date!\n"
          ]
        }
      ],
      "source": [
        "#import necessary libraries\n",
        "import pandas as pd\n",
        "import numpy as np\n",
        "import matplotlib.pyplot as plt\n",
        "import seaborn as sns\n",
        "\n",
        "import nltk\n",
        "import string\n",
        "import re\n",
        "from nltk import pos_tag\n",
        "from nltk.probability import FreqDist\n",
        "from nltk.stem import WordNetLemmatizer\n",
        "from nltk.corpus import stopwords, wordnet\n",
        "from nltk.tokenize import RegexpTokenizer, word_tokenize\n",
        "nltk.download('wordnet')\n",
        "nltk.download('punkt')\n",
        "nltk.download('stopwords')\n",
        "nltk.download('omw-1.4')\n",
        "#from wordcloud import WordCloud\n",
        "\n",
        "\n",
        "from sklearn.model_selection import train_test_split, cross_validate\n",
        "from numpy import array\n",
        "from sklearn.feature_extraction.text import CountVectorizer, TfidfVectorizer\n",
        "from sklearn.preprocessing import StandardScaler\n",
        "from sklearn.metrics import confusion_matrix, classification_report,accuracy_score\n",
        "from sklearn.model_selection import GridSearchCV\n",
        "\n",
        "import warnings\n",
        "warnings.filterwarnings('ignore')\n",
        "\n",
        "\n",
        "pd.set_option('display.max_colwidth', 10000)"
      ]
    },
    {
      "cell_type": "code",
      "execution_count": 150,
      "metadata": {
        "id": "XJn2KjW-WMlG"
      },
      "outputs": [],
      "source": [
        "# Loading the Data from the source i.e. csv\n",
        "data = pd.read_csv('/judge_tweet_product_company.csv')"
      ]
    },
    {
      "cell_type": "markdown",
      "metadata": {
        "id": "IYeyKrcX-SJK"
      },
      "source": [
        "\n",
        "\n",
        "## 3. Checking the Data"
      ]
    },
    {
      "cell_type": "code",
      "execution_count": 151,
      "metadata": {
        "colab": {
          "base_uri": "https://localhost:8080/"
        },
        "id": "VJRjTlM7-SJK",
        "outputId": "58ff3436-73c0-414c-ac27-715836911d23"
      },
      "outputs": [
        {
          "output_type": "stream",
          "name": "stdout",
          "text": [
            "<class 'pandas.core.frame.DataFrame'>\n",
            "RangeIndex: 8721 entries, 0 to 8720\n",
            "Data columns (total 3 columns):\n",
            " #   Column                                              Non-Null Count  Dtype \n",
            "---  ------                                              --------------  ----- \n",
            " 0   tweet_text                                          8720 non-null   object\n",
            " 1   emotion_in_tweet_is_directed_at                     3169 non-null   object\n",
            " 2   is_there_an_emotion_directed_at_a_brand_or_product  8721 non-null   object\n",
            "dtypes: object(3)\n",
            "memory usage: 204.5+ KB\n"
          ]
        }
      ],
      "source": [
        "# Determining the no. of records in our dataset\n",
        "data.info()"
      ]
    },
    {
      "cell_type": "code",
      "execution_count": 152,
      "metadata": {
        "colab": {
          "base_uri": "https://localhost:8080/",
          "height": 302
        },
        "id": "FoK6ejXU-SJL",
        "outputId": "43bddcae-4c68-4a02-d843-9a8d29a91ffb"
      },
      "outputs": [
        {
          "output_type": "execute_result",
          "data": {
            "text/plain": [
              "                                                                                                                                    tweet_text  \\\n",
              "0              .@wesley83 I have a 3G iPhone. After 3 hrs tweeting at #RISE_Austin, it was dead!  I need to upgrade. Plugin stations at #SXSW.   \n",
              "1  @jessedee Know about @fludapp ? Awesome iPad/iPhone app that you'll likely appreciate for its design. Also, they're giving free Ts at #SXSW   \n",
              "2                                                              @swonderlin Can not wait for #iPad 2 also. They should sale them down at #SXSW.   \n",
              "3                                                           @sxsw I hope this year's festival isn't as crashy as this year's iPhone app. #sxsw   \n",
              "4          @sxtxstate great stuff on Fri #SXSW: Marissa Mayer (Google), Tim O'Reilly (tech books/conferences) &amp; Matt Mullenweg (Wordpress)   \n",
              "\n",
              "  emotion_in_tweet_is_directed_at  \\\n",
              "0                          iPhone   \n",
              "1              iPad or iPhone App   \n",
              "2                            iPad   \n",
              "3              iPad or iPhone App   \n",
              "4                          Google   \n",
              "\n",
              "  is_there_an_emotion_directed_at_a_brand_or_product  \n",
              "0                                   Negative emotion  \n",
              "1                                   Positive emotion  \n",
              "2                                   Positive emotion  \n",
              "3                                   Negative emotion  \n",
              "4                                   Positive emotion  "
            ],
            "text/html": [
              "\n",
              "  <div id=\"df-706f8c10-e43e-4eb9-8fe7-4746267276f7\">\n",
              "    <div class=\"colab-df-container\">\n",
              "      <div>\n",
              "<style scoped>\n",
              "    .dataframe tbody tr th:only-of-type {\n",
              "        vertical-align: middle;\n",
              "    }\n",
              "\n",
              "    .dataframe tbody tr th {\n",
              "        vertical-align: top;\n",
              "    }\n",
              "\n",
              "    .dataframe thead th {\n",
              "        text-align: right;\n",
              "    }\n",
              "</style>\n",
              "<table border=\"1\" class=\"dataframe\">\n",
              "  <thead>\n",
              "    <tr style=\"text-align: right;\">\n",
              "      <th></th>\n",
              "      <th>tweet_text</th>\n",
              "      <th>emotion_in_tweet_is_directed_at</th>\n",
              "      <th>is_there_an_emotion_directed_at_a_brand_or_product</th>\n",
              "    </tr>\n",
              "  </thead>\n",
              "  <tbody>\n",
              "    <tr>\n",
              "      <th>0</th>\n",
              "      <td>.@wesley83 I have a 3G iPhone. After 3 hrs tweeting at #RISE_Austin, it was dead!  I need to upgrade. Plugin stations at #SXSW.</td>\n",
              "      <td>iPhone</td>\n",
              "      <td>Negative emotion</td>\n",
              "    </tr>\n",
              "    <tr>\n",
              "      <th>1</th>\n",
              "      <td>@jessedee Know about @fludapp ? Awesome iPad/iPhone app that you'll likely appreciate for its design. Also, they're giving free Ts at #SXSW</td>\n",
              "      <td>iPad or iPhone App</td>\n",
              "      <td>Positive emotion</td>\n",
              "    </tr>\n",
              "    <tr>\n",
              "      <th>2</th>\n",
              "      <td>@swonderlin Can not wait for #iPad 2 also. They should sale them down at #SXSW.</td>\n",
              "      <td>iPad</td>\n",
              "      <td>Positive emotion</td>\n",
              "    </tr>\n",
              "    <tr>\n",
              "      <th>3</th>\n",
              "      <td>@sxsw I hope this year's festival isn't as crashy as this year's iPhone app. #sxsw</td>\n",
              "      <td>iPad or iPhone App</td>\n",
              "      <td>Negative emotion</td>\n",
              "    </tr>\n",
              "    <tr>\n",
              "      <th>4</th>\n",
              "      <td>@sxtxstate great stuff on Fri #SXSW: Marissa Mayer (Google), Tim O'Reilly (tech books/conferences) &amp;amp; Matt Mullenweg (Wordpress)</td>\n",
              "      <td>Google</td>\n",
              "      <td>Positive emotion</td>\n",
              "    </tr>\n",
              "  </tbody>\n",
              "</table>\n",
              "</div>\n",
              "      <button class=\"colab-df-convert\" onclick=\"convertToInteractive('df-706f8c10-e43e-4eb9-8fe7-4746267276f7')\"\n",
              "              title=\"Convert this dataframe to an interactive table.\"\n",
              "              style=\"display:none;\">\n",
              "        \n",
              "  <svg xmlns=\"http://www.w3.org/2000/svg\" height=\"24px\"viewBox=\"0 0 24 24\"\n",
              "       width=\"24px\">\n",
              "    <path d=\"M0 0h24v24H0V0z\" fill=\"none\"/>\n",
              "    <path d=\"M18.56 5.44l.94 2.06.94-2.06 2.06-.94-2.06-.94-.94-2.06-.94 2.06-2.06.94zm-11 1L8.5 8.5l.94-2.06 2.06-.94-2.06-.94L8.5 2.5l-.94 2.06-2.06.94zm10 10l.94 2.06.94-2.06 2.06-.94-2.06-.94-.94-2.06-.94 2.06-2.06.94z\"/><path d=\"M17.41 7.96l-1.37-1.37c-.4-.4-.92-.59-1.43-.59-.52 0-1.04.2-1.43.59L10.3 9.45l-7.72 7.72c-.78.78-.78 2.05 0 2.83L4 21.41c.39.39.9.59 1.41.59.51 0 1.02-.2 1.41-.59l7.78-7.78 2.81-2.81c.8-.78.8-2.07 0-2.86zM5.41 20L4 18.59l7.72-7.72 1.47 1.35L5.41 20z\"/>\n",
              "  </svg>\n",
              "      </button>\n",
              "      \n",
              "  <style>\n",
              "    .colab-df-container {\n",
              "      display:flex;\n",
              "      flex-wrap:wrap;\n",
              "      gap: 12px;\n",
              "    }\n",
              "\n",
              "    .colab-df-convert {\n",
              "      background-color: #E8F0FE;\n",
              "      border: none;\n",
              "      border-radius: 50%;\n",
              "      cursor: pointer;\n",
              "      display: none;\n",
              "      fill: #1967D2;\n",
              "      height: 32px;\n",
              "      padding: 0 0 0 0;\n",
              "      width: 32px;\n",
              "    }\n",
              "\n",
              "    .colab-df-convert:hover {\n",
              "      background-color: #E2EBFA;\n",
              "      box-shadow: 0px 1px 2px rgba(60, 64, 67, 0.3), 0px 1px 3px 1px rgba(60, 64, 67, 0.15);\n",
              "      fill: #174EA6;\n",
              "    }\n",
              "\n",
              "    [theme=dark] .colab-df-convert {\n",
              "      background-color: #3B4455;\n",
              "      fill: #D2E3FC;\n",
              "    }\n",
              "\n",
              "    [theme=dark] .colab-df-convert:hover {\n",
              "      background-color: #434B5C;\n",
              "      box-shadow: 0px 1px 3px 1px rgba(0, 0, 0, 0.15);\n",
              "      filter: drop-shadow(0px 1px 2px rgba(0, 0, 0, 0.3));\n",
              "      fill: #FFFFFF;\n",
              "    }\n",
              "  </style>\n",
              "\n",
              "      <script>\n",
              "        const buttonEl =\n",
              "          document.querySelector('#df-706f8c10-e43e-4eb9-8fe7-4746267276f7 button.colab-df-convert');\n",
              "        buttonEl.style.display =\n",
              "          google.colab.kernel.accessAllowed ? 'block' : 'none';\n",
              "\n",
              "        async function convertToInteractive(key) {\n",
              "          const element = document.querySelector('#df-706f8c10-e43e-4eb9-8fe7-4746267276f7');\n",
              "          const dataTable =\n",
              "            await google.colab.kernel.invokeFunction('convertToInteractive',\n",
              "                                                     [key], {});\n",
              "          if (!dataTable) return;\n",
              "\n",
              "          const docLinkHtml = 'Like what you see? Visit the ' +\n",
              "            '<a target=\"_blank\" href=https://colab.research.google.com/notebooks/data_table.ipynb>data table notebook</a>'\n",
              "            + ' to learn more about interactive tables.';\n",
              "          element.innerHTML = '';\n",
              "          dataTable['output_type'] = 'display_data';\n",
              "          await google.colab.output.renderOutput(dataTable, element);\n",
              "          const docLink = document.createElement('div');\n",
              "          docLink.innerHTML = docLinkHtml;\n",
              "          element.appendChild(docLink);\n",
              "        }\n",
              "      </script>\n",
              "    </div>\n",
              "  </div>\n",
              "  "
            ]
          },
          "metadata": {},
          "execution_count": 152
        }
      ],
      "source": [
        "# Previewing the top of our dataset\n",
        "data.head()"
      ]
    },
    {
      "cell_type": "code",
      "execution_count": 153,
      "metadata": {
        "colab": {
          "base_uri": "https://localhost:8080/",
          "height": 320
        },
        "id": "kKwcaZXy-SJL",
        "outputId": "a767b2bb-c561-4f97-97b4-ee05e0dd5757"
      },
      "outputs": [
        {
          "output_type": "execute_result",
          "data": {
            "text/plain": [
              "                                                                                                                                             tweet_text  \\\n",
              "8716                                                                                                                      Ipad everywhere. #SXSW {link}   \n",
              "8717                      Wave, buzz... RT @mention We interrupt your regularly scheduled #sxsw geek programming with big news {link}  #google #circles   \n",
              "8718  Google's Zeiger, a physician never reported potential AE. Yet FDA relies on physicians. &quot;We're operating w/out data.&quot; #sxsw #health2dev   \n",
              "8719       Some Verizon iPhone customers complained their time fell back an hour this weekend.  Of course they were the New Yorkers who attended #SXSW.   \n",
              "8720                                                  �ϡ�����_��ʋ�΋�ҋ�������⋁_��������_���RT @mention Google Tests ���Check-in Offers�۝ At #SXSW {link}   \n",
              "\n",
              "     emotion_in_tweet_is_directed_at  \\\n",
              "8716                            iPad   \n",
              "8717                             NaN   \n",
              "8718                             NaN   \n",
              "8719                             NaN   \n",
              "8720                             NaN   \n",
              "\n",
              "     is_there_an_emotion_directed_at_a_brand_or_product  \n",
              "8716                                   Positive emotion  \n",
              "8717                 No emotion toward brand or product  \n",
              "8718                 No emotion toward brand or product  \n",
              "8719                 No emotion toward brand or product  \n",
              "8720                 No emotion toward brand or product  "
            ],
            "text/html": [
              "\n",
              "  <div id=\"df-5a18d2cb-0b57-4922-8f13-0659b580e065\">\n",
              "    <div class=\"colab-df-container\">\n",
              "      <div>\n",
              "<style scoped>\n",
              "    .dataframe tbody tr th:only-of-type {\n",
              "        vertical-align: middle;\n",
              "    }\n",
              "\n",
              "    .dataframe tbody tr th {\n",
              "        vertical-align: top;\n",
              "    }\n",
              "\n",
              "    .dataframe thead th {\n",
              "        text-align: right;\n",
              "    }\n",
              "</style>\n",
              "<table border=\"1\" class=\"dataframe\">\n",
              "  <thead>\n",
              "    <tr style=\"text-align: right;\">\n",
              "      <th></th>\n",
              "      <th>tweet_text</th>\n",
              "      <th>emotion_in_tweet_is_directed_at</th>\n",
              "      <th>is_there_an_emotion_directed_at_a_brand_or_product</th>\n",
              "    </tr>\n",
              "  </thead>\n",
              "  <tbody>\n",
              "    <tr>\n",
              "      <th>8716</th>\n",
              "      <td>Ipad everywhere. #SXSW {link}</td>\n",
              "      <td>iPad</td>\n",
              "      <td>Positive emotion</td>\n",
              "    </tr>\n",
              "    <tr>\n",
              "      <th>8717</th>\n",
              "      <td>Wave, buzz... RT @mention We interrupt your regularly scheduled #sxsw geek programming with big news {link}  #google #circles</td>\n",
              "      <td>NaN</td>\n",
              "      <td>No emotion toward brand or product</td>\n",
              "    </tr>\n",
              "    <tr>\n",
              "      <th>8718</th>\n",
              "      <td>Google's Zeiger, a physician never reported potential AE. Yet FDA relies on physicians. &amp;quot;We're operating w/out data.&amp;quot; #sxsw #health2dev</td>\n",
              "      <td>NaN</td>\n",
              "      <td>No emotion toward brand or product</td>\n",
              "    </tr>\n",
              "    <tr>\n",
              "      <th>8719</th>\n",
              "      <td>Some Verizon iPhone customers complained their time fell back an hour this weekend.  Of course they were the New Yorkers who attended #SXSW.</td>\n",
              "      <td>NaN</td>\n",
              "      <td>No emotion toward brand or product</td>\n",
              "    </tr>\n",
              "    <tr>\n",
              "      <th>8720</th>\n",
              "      <td>�ϡ�����_��ʋ�΋�ҋ�������⋁_��������_���RT @mention Google Tests ���Check-in Offers�۝ At #SXSW {link}</td>\n",
              "      <td>NaN</td>\n",
              "      <td>No emotion toward brand or product</td>\n",
              "    </tr>\n",
              "  </tbody>\n",
              "</table>\n",
              "</div>\n",
              "      <button class=\"colab-df-convert\" onclick=\"convertToInteractive('df-5a18d2cb-0b57-4922-8f13-0659b580e065')\"\n",
              "              title=\"Convert this dataframe to an interactive table.\"\n",
              "              style=\"display:none;\">\n",
              "        \n",
              "  <svg xmlns=\"http://www.w3.org/2000/svg\" height=\"24px\"viewBox=\"0 0 24 24\"\n",
              "       width=\"24px\">\n",
              "    <path d=\"M0 0h24v24H0V0z\" fill=\"none\"/>\n",
              "    <path d=\"M18.56 5.44l.94 2.06.94-2.06 2.06-.94-2.06-.94-.94-2.06-.94 2.06-2.06.94zm-11 1L8.5 8.5l.94-2.06 2.06-.94-2.06-.94L8.5 2.5l-.94 2.06-2.06.94zm10 10l.94 2.06.94-2.06 2.06-.94-2.06-.94-.94-2.06-.94 2.06-2.06.94z\"/><path d=\"M17.41 7.96l-1.37-1.37c-.4-.4-.92-.59-1.43-.59-.52 0-1.04.2-1.43.59L10.3 9.45l-7.72 7.72c-.78.78-.78 2.05 0 2.83L4 21.41c.39.39.9.59 1.41.59.51 0 1.02-.2 1.41-.59l7.78-7.78 2.81-2.81c.8-.78.8-2.07 0-2.86zM5.41 20L4 18.59l7.72-7.72 1.47 1.35L5.41 20z\"/>\n",
              "  </svg>\n",
              "      </button>\n",
              "      \n",
              "  <style>\n",
              "    .colab-df-container {\n",
              "      display:flex;\n",
              "      flex-wrap:wrap;\n",
              "      gap: 12px;\n",
              "    }\n",
              "\n",
              "    .colab-df-convert {\n",
              "      background-color: #E8F0FE;\n",
              "      border: none;\n",
              "      border-radius: 50%;\n",
              "      cursor: pointer;\n",
              "      display: none;\n",
              "      fill: #1967D2;\n",
              "      height: 32px;\n",
              "      padding: 0 0 0 0;\n",
              "      width: 32px;\n",
              "    }\n",
              "\n",
              "    .colab-df-convert:hover {\n",
              "      background-color: #E2EBFA;\n",
              "      box-shadow: 0px 1px 2px rgba(60, 64, 67, 0.3), 0px 1px 3px 1px rgba(60, 64, 67, 0.15);\n",
              "      fill: #174EA6;\n",
              "    }\n",
              "\n",
              "    [theme=dark] .colab-df-convert {\n",
              "      background-color: #3B4455;\n",
              "      fill: #D2E3FC;\n",
              "    }\n",
              "\n",
              "    [theme=dark] .colab-df-convert:hover {\n",
              "      background-color: #434B5C;\n",
              "      box-shadow: 0px 1px 3px 1px rgba(0, 0, 0, 0.15);\n",
              "      filter: drop-shadow(0px 1px 2px rgba(0, 0, 0, 0.3));\n",
              "      fill: #FFFFFF;\n",
              "    }\n",
              "  </style>\n",
              "\n",
              "      <script>\n",
              "        const buttonEl =\n",
              "          document.querySelector('#df-5a18d2cb-0b57-4922-8f13-0659b580e065 button.colab-df-convert');\n",
              "        buttonEl.style.display =\n",
              "          google.colab.kernel.accessAllowed ? 'block' : 'none';\n",
              "\n",
              "        async function convertToInteractive(key) {\n",
              "          const element = document.querySelector('#df-5a18d2cb-0b57-4922-8f13-0659b580e065');\n",
              "          const dataTable =\n",
              "            await google.colab.kernel.invokeFunction('convertToInteractive',\n",
              "                                                     [key], {});\n",
              "          if (!dataTable) return;\n",
              "\n",
              "          const docLinkHtml = 'Like what you see? Visit the ' +\n",
              "            '<a target=\"_blank\" href=https://colab.research.google.com/notebooks/data_table.ipynb>data table notebook</a>'\n",
              "            + ' to learn more about interactive tables.';\n",
              "          element.innerHTML = '';\n",
              "          dataTable['output_type'] = 'display_data';\n",
              "          await google.colab.output.renderOutput(dataTable, element);\n",
              "          const docLink = document.createElement('div');\n",
              "          docLink.innerHTML = docLinkHtml;\n",
              "          element.appendChild(docLink);\n",
              "        }\n",
              "      </script>\n",
              "    </div>\n",
              "  </div>\n",
              "  "
            ]
          },
          "metadata": {},
          "execution_count": 153
        }
      ],
      "source": [
        "# Previewing the bottom of our dataset\n",
        "data.tail()"
      ]
    },
    {
      "cell_type": "code",
      "execution_count": 154,
      "metadata": {
        "colab": {
          "base_uri": "https://localhost:8080/"
        },
        "id": "Br-BKxUWfMKs",
        "outputId": "53653bcb-2011-441e-b4b0-5f97721bc2a5"
      },
      "outputs": [
        {
          "output_type": "execute_result",
          "data": {
            "text/plain": [
              "(8721, 3)"
            ]
          },
          "metadata": {},
          "execution_count": 154
        }
      ],
      "source": [
        "#check the shape of the dataframe\n",
        "data.shape"
      ]
    },
    {
      "cell_type": "markdown",
      "metadata": {
        "id": "o9VTsuci-Bq1"
      },
      "source": []
    },
    {
      "cell_type": "markdown",
      "metadata": {
        "id": "pGkZ1VFd-CIk"
      },
      "source": [
        "## 4. External Data Source Validation"
      ]
    },
    {
      "cell_type": "markdown",
      "metadata": {
        "id": "0xNTG4sL-CIl"
      },
      "source": [
        "Making sure your data matches something outside of the dataset is very important. It allows you to ensure that the measurements are roughly in line with what they should be and it serves as a check on what other things might be wrong in your dataset. External validation can often be as simple as checking your data against a single number, as we will do here."
      ]
    },
    {
      "cell_type": "markdown",
      "metadata": {
        "id": "lh85uCJk-CIl"
      },
      "source": [
        "### a.Validation"
      ]
    },
    {
      "cell_type": "markdown",
      "metadata": {
        "id": "i0m-Nvag6tEi"
      },
      "source": [
        "## 5. Tidying the Dataset"
      ]
    },
    {
      "cell_type": "markdown",
      "metadata": {
        "id": "A8eU5EUxfcRX"
      },
      "source": [
        "To make it easier to read and analyse the data, we rename the columns."
      ]
    },
    {
      "cell_type": "code",
      "execution_count": 155,
      "metadata": {
        "colab": {
          "base_uri": "https://localhost:8080/",
          "height": 206
        },
        "id": "kDwMtP8SfVE6",
        "outputId": "4aebd6a4-1c99-41fb-d1ed-51f0634b7abf"
      },
      "outputs": [
        {
          "output_type": "execute_result",
          "data": {
            "text/plain": [
              "                                                                                                                                         Tweet  \\\n",
              "0              .@wesley83 I have a 3G iPhone. After 3 hrs tweeting at #RISE_Austin, it was dead!  I need to upgrade. Plugin stations at #SXSW.   \n",
              "1  @jessedee Know about @fludapp ? Awesome iPad/iPhone app that you'll likely appreciate for its design. Also, they're giving free Ts at #SXSW   \n",
              "2                                                              @swonderlin Can not wait for #iPad 2 also. They should sale them down at #SXSW.   \n",
              "3                                                           @sxsw I hope this year's festival isn't as crashy as this year's iPhone app. #sxsw   \n",
              "4          @sxtxstate great stuff on Fri #SXSW: Marissa Mayer (Google), Tim O'Reilly (tech books/conferences) &amp; Matt Mullenweg (Wordpress)   \n",
              "\n",
              "              Product         Sentiment  \n",
              "0              iPhone  Negative emotion  \n",
              "1  iPad or iPhone App  Positive emotion  \n",
              "2                iPad  Positive emotion  \n",
              "3  iPad or iPhone App  Negative emotion  \n",
              "4              Google  Positive emotion  "
            ],
            "text/html": [
              "\n",
              "  <div id=\"df-6f520679-422b-414b-bff3-a7366798817e\">\n",
              "    <div class=\"colab-df-container\">\n",
              "      <div>\n",
              "<style scoped>\n",
              "    .dataframe tbody tr th:only-of-type {\n",
              "        vertical-align: middle;\n",
              "    }\n",
              "\n",
              "    .dataframe tbody tr th {\n",
              "        vertical-align: top;\n",
              "    }\n",
              "\n",
              "    .dataframe thead th {\n",
              "        text-align: right;\n",
              "    }\n",
              "</style>\n",
              "<table border=\"1\" class=\"dataframe\">\n",
              "  <thead>\n",
              "    <tr style=\"text-align: right;\">\n",
              "      <th></th>\n",
              "      <th>Tweet</th>\n",
              "      <th>Product</th>\n",
              "      <th>Sentiment</th>\n",
              "    </tr>\n",
              "  </thead>\n",
              "  <tbody>\n",
              "    <tr>\n",
              "      <th>0</th>\n",
              "      <td>.@wesley83 I have a 3G iPhone. After 3 hrs tweeting at #RISE_Austin, it was dead!  I need to upgrade. Plugin stations at #SXSW.</td>\n",
              "      <td>iPhone</td>\n",
              "      <td>Negative emotion</td>\n",
              "    </tr>\n",
              "    <tr>\n",
              "      <th>1</th>\n",
              "      <td>@jessedee Know about @fludapp ? Awesome iPad/iPhone app that you'll likely appreciate for its design. Also, they're giving free Ts at #SXSW</td>\n",
              "      <td>iPad or iPhone App</td>\n",
              "      <td>Positive emotion</td>\n",
              "    </tr>\n",
              "    <tr>\n",
              "      <th>2</th>\n",
              "      <td>@swonderlin Can not wait for #iPad 2 also. They should sale them down at #SXSW.</td>\n",
              "      <td>iPad</td>\n",
              "      <td>Positive emotion</td>\n",
              "    </tr>\n",
              "    <tr>\n",
              "      <th>3</th>\n",
              "      <td>@sxsw I hope this year's festival isn't as crashy as this year's iPhone app. #sxsw</td>\n",
              "      <td>iPad or iPhone App</td>\n",
              "      <td>Negative emotion</td>\n",
              "    </tr>\n",
              "    <tr>\n",
              "      <th>4</th>\n",
              "      <td>@sxtxstate great stuff on Fri #SXSW: Marissa Mayer (Google), Tim O'Reilly (tech books/conferences) &amp;amp; Matt Mullenweg (Wordpress)</td>\n",
              "      <td>Google</td>\n",
              "      <td>Positive emotion</td>\n",
              "    </tr>\n",
              "  </tbody>\n",
              "</table>\n",
              "</div>\n",
              "      <button class=\"colab-df-convert\" onclick=\"convertToInteractive('df-6f520679-422b-414b-bff3-a7366798817e')\"\n",
              "              title=\"Convert this dataframe to an interactive table.\"\n",
              "              style=\"display:none;\">\n",
              "        \n",
              "  <svg xmlns=\"http://www.w3.org/2000/svg\" height=\"24px\"viewBox=\"0 0 24 24\"\n",
              "       width=\"24px\">\n",
              "    <path d=\"M0 0h24v24H0V0z\" fill=\"none\"/>\n",
              "    <path d=\"M18.56 5.44l.94 2.06.94-2.06 2.06-.94-2.06-.94-.94-2.06-.94 2.06-2.06.94zm-11 1L8.5 8.5l.94-2.06 2.06-.94-2.06-.94L8.5 2.5l-.94 2.06-2.06.94zm10 10l.94 2.06.94-2.06 2.06-.94-2.06-.94-.94-2.06-.94 2.06-2.06.94z\"/><path d=\"M17.41 7.96l-1.37-1.37c-.4-.4-.92-.59-1.43-.59-.52 0-1.04.2-1.43.59L10.3 9.45l-7.72 7.72c-.78.78-.78 2.05 0 2.83L4 21.41c.39.39.9.59 1.41.59.51 0 1.02-.2 1.41-.59l7.78-7.78 2.81-2.81c.8-.78.8-2.07 0-2.86zM5.41 20L4 18.59l7.72-7.72 1.47 1.35L5.41 20z\"/>\n",
              "  </svg>\n",
              "      </button>\n",
              "      \n",
              "  <style>\n",
              "    .colab-df-container {\n",
              "      display:flex;\n",
              "      flex-wrap:wrap;\n",
              "      gap: 12px;\n",
              "    }\n",
              "\n",
              "    .colab-df-convert {\n",
              "      background-color: #E8F0FE;\n",
              "      border: none;\n",
              "      border-radius: 50%;\n",
              "      cursor: pointer;\n",
              "      display: none;\n",
              "      fill: #1967D2;\n",
              "      height: 32px;\n",
              "      padding: 0 0 0 0;\n",
              "      width: 32px;\n",
              "    }\n",
              "\n",
              "    .colab-df-convert:hover {\n",
              "      background-color: #E2EBFA;\n",
              "      box-shadow: 0px 1px 2px rgba(60, 64, 67, 0.3), 0px 1px 3px 1px rgba(60, 64, 67, 0.15);\n",
              "      fill: #174EA6;\n",
              "    }\n",
              "\n",
              "    [theme=dark] .colab-df-convert {\n",
              "      background-color: #3B4455;\n",
              "      fill: #D2E3FC;\n",
              "    }\n",
              "\n",
              "    [theme=dark] .colab-df-convert:hover {\n",
              "      background-color: #434B5C;\n",
              "      box-shadow: 0px 1px 3px 1px rgba(0, 0, 0, 0.15);\n",
              "      filter: drop-shadow(0px 1px 2px rgba(0, 0, 0, 0.3));\n",
              "      fill: #FFFFFF;\n",
              "    }\n",
              "  </style>\n",
              "\n",
              "      <script>\n",
              "        const buttonEl =\n",
              "          document.querySelector('#df-6f520679-422b-414b-bff3-a7366798817e button.colab-df-convert');\n",
              "        buttonEl.style.display =\n",
              "          google.colab.kernel.accessAllowed ? 'block' : 'none';\n",
              "\n",
              "        async function convertToInteractive(key) {\n",
              "          const element = document.querySelector('#df-6f520679-422b-414b-bff3-a7366798817e');\n",
              "          const dataTable =\n",
              "            await google.colab.kernel.invokeFunction('convertToInteractive',\n",
              "                                                     [key], {});\n",
              "          if (!dataTable) return;\n",
              "\n",
              "          const docLinkHtml = 'Like what you see? Visit the ' +\n",
              "            '<a target=\"_blank\" href=https://colab.research.google.com/notebooks/data_table.ipynb>data table notebook</a>'\n",
              "            + ' to learn more about interactive tables.';\n",
              "          element.innerHTML = '';\n",
              "          dataTable['output_type'] = 'display_data';\n",
              "          await google.colab.output.renderOutput(dataTable, element);\n",
              "          const docLink = document.createElement('div');\n",
              "          docLink.innerHTML = docLinkHtml;\n",
              "          element.appendChild(docLink);\n",
              "        }\n",
              "      </script>\n",
              "    </div>\n",
              "  </div>\n",
              "  "
            ]
          },
          "metadata": {},
          "execution_count": 155
        }
      ],
      "source": [
        "#rename columns for readability\n",
        "data = data.rename(columns = {'tweet_text': 'Tweet', \n",
        "                         'emotion_in_tweet_is_directed_at': 'Product', \n",
        "                         'is_there_an_emotion_directed_at_a_brand_or_product': 'Sentiment'})\n",
        "data.head()"
      ]
    },
    {
      "cell_type": "markdown",
      "metadata": {
        "id": "OqhuxS1bf4Wc"
      },
      "source": [
        "Before doing our analysis, we check for missing data or duplicated rows "
      ]
    },
    {
      "cell_type": "code",
      "execution_count": 156,
      "metadata": {
        "colab": {
          "base_uri": "https://localhost:8080/"
        },
        "id": "xWFU12vkfroM",
        "outputId": "89e2cbc4-0c73-427d-d844-52a58a3a9d19"
      },
      "outputs": [
        {
          "output_type": "stream",
          "name": "stdout",
          "text": [
            "<class 'pandas.core.frame.DataFrame'>\n",
            "RangeIndex: 8721 entries, 0 to 8720\n",
            "Data columns (total 3 columns):\n",
            " #   Column     Non-Null Count  Dtype \n",
            "---  ------     --------------  ----- \n",
            " 0   Tweet      8720 non-null   object\n",
            " 1   Product    3169 non-null   object\n",
            " 2   Sentiment  8721 non-null   object\n",
            "dtypes: object(3)\n",
            "memory usage: 204.5+ KB\n",
            "None\n",
            "--------------------\n",
            "Total duplicated rows\n",
            "22\n",
            "--------------------\n",
            "Total null values\n",
            "Tweet           1\n",
            "Product      5552\n",
            "Sentiment       0\n",
            "dtype: int64\n"
          ]
        }
      ],
      "source": [
        "#looking at data, duplicates and null values\n",
        "print(data.info())\n",
        "print((\"-\"*20))\n",
        "\n",
        "# Check for duplicated rows\n",
        "print('Total duplicated rows')\n",
        "print(data.duplicated().sum())\n",
        "print((\"-\"*20))\n",
        "\n",
        "# Check for null values\n",
        "print('Total null values')\n",
        "print(data.isna().sum())"
      ]
    },
    {
      "cell_type": "markdown",
      "metadata": {
        "id": "v3cT3e4Jmq6N"
      },
      "source": [
        "Checking the contents in the product and sentiment columns "
      ]
    },
    {
      "cell_type": "code",
      "execution_count": 157,
      "metadata": {
        "colab": {
          "base_uri": "https://localhost:8080/"
        },
        "id": "Vv5FBD-PizLC",
        "outputId": "d5ee1f53-16a2-475c-bfeb-771462f934fb"
      },
      "outputs": [
        {
          "output_type": "stream",
          "name": "stdout",
          "text": [
            "iPad                               910\n",
            "Apple                              640\n",
            "iPad or iPhone App                 451\n",
            "Google                             412\n",
            "iPhone                             288\n",
            "Other Google product or service    282\n",
            "Android App                         78\n",
            "Android                             74\n",
            "Other Apple product or service      34\n",
            "Name: Product, dtype: int64\n",
            "--------------------\n",
            "No emotion toward brand or product    5156\n",
            "Positive emotion                      2869\n",
            "Negative emotion                       545\n",
            "I can't tell                           151\n",
            "Name: Sentiment, dtype: int64\n"
          ]
        }
      ],
      "source": [
        "# Print the value count of product and sentiment column\n",
        "print(data['Product'].value_counts())\n",
        "print((\"-\"*20))\n",
        "print(data['Sentiment'].value_counts())"
      ]
    },
    {
      "cell_type": "code",
      "execution_count": 158,
      "metadata": {
        "id": "O50NW7IaiW9z"
      },
      "outputs": [],
      "source": [
        "#Simplify sentiment labels for visualizations\n",
        "dict_sent = {'No emotion toward brand or product':\"No emotion\", \n",
        "             'Positive emotion':'Positive emotion',\n",
        "             'Negative emotion':'Negative emotion',\n",
        "             \"I can't tell\": \"I can't tell\"}\n",
        "data['Sentiment'] = data['Sentiment'].map(dict_sent)"
      ]
    },
    {
      "cell_type": "markdown",
      "metadata": {
        "id": "lSPsI1qIpSAm"
      },
      "source": [
        "**Handling duplicates**"
      ]
    },
    {
      "cell_type": "code",
      "execution_count": 159,
      "metadata": {
        "colab": {
          "base_uri": "https://localhost:8080/",
          "height": 468
        },
        "id": "Z6aH4BG5zDos",
        "outputId": "dcd953d9-f9e7-43a1-c41a-16a966dcfdd5"
      },
      "outputs": [
        {
          "output_type": "execute_result",
          "data": {
            "text/plain": [
              "                                                                                                                                                  Tweet  \\\n",
              "0                       .@wesley83 I have a 3G iPhone. After 3 hrs tweeting at #RISE_Austin, it was dead!  I need to upgrade. Plugin stations at #SXSW.   \n",
              "1           @jessedee Know about @fludapp ? Awesome iPad/iPhone app that you'll likely appreciate for its design. Also, they're giving free Ts at #SXSW   \n",
              "2                                                                       @swonderlin Can not wait for #iPad 2 also. They should sale them down at #SXSW.   \n",
              "3                                                                    @sxsw I hope this year's festival isn't as crashy as this year's iPhone app. #sxsw   \n",
              "4                   @sxtxstate great stuff on Fri #SXSW: Marissa Mayer (Google), Tim O'Reilly (tech books/conferences) &amp; Matt Mullenweg (Wordpress)   \n",
              "...                                                                                                                                                 ...   \n",
              "8716                                                                                                                      Ipad everywhere. #SXSW {link}   \n",
              "8717                      Wave, buzz... RT @mention We interrupt your regularly scheduled #sxsw geek programming with big news {link}  #google #circles   \n",
              "8718  Google's Zeiger, a physician never reported potential AE. Yet FDA relies on physicians. &quot;We're operating w/out data.&quot; #sxsw #health2dev   \n",
              "8719       Some Verizon iPhone customers complained their time fell back an hour this weekend.  Of course they were the New Yorkers who attended #SXSW.   \n",
              "8720                                                  �ϡ�����_��ʋ�΋�ҋ�������⋁_��������_���RT @mention Google Tests ���Check-in Offers�۝ At #SXSW {link}   \n",
              "\n",
              "                 Product         Sentiment  \n",
              "0                 iPhone  Negative emotion  \n",
              "1     iPad or iPhone App  Positive emotion  \n",
              "2                   iPad  Positive emotion  \n",
              "3     iPad or iPhone App  Negative emotion  \n",
              "4                 Google  Positive emotion  \n",
              "...                  ...               ...  \n",
              "8716                iPad  Positive emotion  \n",
              "8717                 NaN        No emotion  \n",
              "8718                 NaN        No emotion  \n",
              "8719                 NaN        No emotion  \n",
              "8720                 NaN        No emotion  \n",
              "\n",
              "[8721 rows x 3 columns]"
            ],
            "text/html": [
              "\n",
              "  <div id=\"df-8ff04e9b-d092-48df-912b-ce7189ea62da\">\n",
              "    <div class=\"colab-df-container\">\n",
              "      <div>\n",
              "<style scoped>\n",
              "    .dataframe tbody tr th:only-of-type {\n",
              "        vertical-align: middle;\n",
              "    }\n",
              "\n",
              "    .dataframe tbody tr th {\n",
              "        vertical-align: top;\n",
              "    }\n",
              "\n",
              "    .dataframe thead th {\n",
              "        text-align: right;\n",
              "    }\n",
              "</style>\n",
              "<table border=\"1\" class=\"dataframe\">\n",
              "  <thead>\n",
              "    <tr style=\"text-align: right;\">\n",
              "      <th></th>\n",
              "      <th>Tweet</th>\n",
              "      <th>Product</th>\n",
              "      <th>Sentiment</th>\n",
              "    </tr>\n",
              "  </thead>\n",
              "  <tbody>\n",
              "    <tr>\n",
              "      <th>0</th>\n",
              "      <td>.@wesley83 I have a 3G iPhone. After 3 hrs tweeting at #RISE_Austin, it was dead!  I need to upgrade. Plugin stations at #SXSW.</td>\n",
              "      <td>iPhone</td>\n",
              "      <td>Negative emotion</td>\n",
              "    </tr>\n",
              "    <tr>\n",
              "      <th>1</th>\n",
              "      <td>@jessedee Know about @fludapp ? Awesome iPad/iPhone app that you'll likely appreciate for its design. Also, they're giving free Ts at #SXSW</td>\n",
              "      <td>iPad or iPhone App</td>\n",
              "      <td>Positive emotion</td>\n",
              "    </tr>\n",
              "    <tr>\n",
              "      <th>2</th>\n",
              "      <td>@swonderlin Can not wait for #iPad 2 also. They should sale them down at #SXSW.</td>\n",
              "      <td>iPad</td>\n",
              "      <td>Positive emotion</td>\n",
              "    </tr>\n",
              "    <tr>\n",
              "      <th>3</th>\n",
              "      <td>@sxsw I hope this year's festival isn't as crashy as this year's iPhone app. #sxsw</td>\n",
              "      <td>iPad or iPhone App</td>\n",
              "      <td>Negative emotion</td>\n",
              "    </tr>\n",
              "    <tr>\n",
              "      <th>4</th>\n",
              "      <td>@sxtxstate great stuff on Fri #SXSW: Marissa Mayer (Google), Tim O'Reilly (tech books/conferences) &amp;amp; Matt Mullenweg (Wordpress)</td>\n",
              "      <td>Google</td>\n",
              "      <td>Positive emotion</td>\n",
              "    </tr>\n",
              "    <tr>\n",
              "      <th>...</th>\n",
              "      <td>...</td>\n",
              "      <td>...</td>\n",
              "      <td>...</td>\n",
              "    </tr>\n",
              "    <tr>\n",
              "      <th>8716</th>\n",
              "      <td>Ipad everywhere. #SXSW {link}</td>\n",
              "      <td>iPad</td>\n",
              "      <td>Positive emotion</td>\n",
              "    </tr>\n",
              "    <tr>\n",
              "      <th>8717</th>\n",
              "      <td>Wave, buzz... RT @mention We interrupt your regularly scheduled #sxsw geek programming with big news {link}  #google #circles</td>\n",
              "      <td>NaN</td>\n",
              "      <td>No emotion</td>\n",
              "    </tr>\n",
              "    <tr>\n",
              "      <th>8718</th>\n",
              "      <td>Google's Zeiger, a physician never reported potential AE. Yet FDA relies on physicians. &amp;quot;We're operating w/out data.&amp;quot; #sxsw #health2dev</td>\n",
              "      <td>NaN</td>\n",
              "      <td>No emotion</td>\n",
              "    </tr>\n",
              "    <tr>\n",
              "      <th>8719</th>\n",
              "      <td>Some Verizon iPhone customers complained their time fell back an hour this weekend.  Of course they were the New Yorkers who attended #SXSW.</td>\n",
              "      <td>NaN</td>\n",
              "      <td>No emotion</td>\n",
              "    </tr>\n",
              "    <tr>\n",
              "      <th>8720</th>\n",
              "      <td>�ϡ�����_��ʋ�΋�ҋ�������⋁_��������_���RT @mention Google Tests ���Check-in Offers�۝ At #SXSW {link}</td>\n",
              "      <td>NaN</td>\n",
              "      <td>No emotion</td>\n",
              "    </tr>\n",
              "  </tbody>\n",
              "</table>\n",
              "<p>8721 rows × 3 columns</p>\n",
              "</div>\n",
              "      <button class=\"colab-df-convert\" onclick=\"convertToInteractive('df-8ff04e9b-d092-48df-912b-ce7189ea62da')\"\n",
              "              title=\"Convert this dataframe to an interactive table.\"\n",
              "              style=\"display:none;\">\n",
              "        \n",
              "  <svg xmlns=\"http://www.w3.org/2000/svg\" height=\"24px\"viewBox=\"0 0 24 24\"\n",
              "       width=\"24px\">\n",
              "    <path d=\"M0 0h24v24H0V0z\" fill=\"none\"/>\n",
              "    <path d=\"M18.56 5.44l.94 2.06.94-2.06 2.06-.94-2.06-.94-.94-2.06-.94 2.06-2.06.94zm-11 1L8.5 8.5l.94-2.06 2.06-.94-2.06-.94L8.5 2.5l-.94 2.06-2.06.94zm10 10l.94 2.06.94-2.06 2.06-.94-2.06-.94-.94-2.06-.94 2.06-2.06.94z\"/><path d=\"M17.41 7.96l-1.37-1.37c-.4-.4-.92-.59-1.43-.59-.52 0-1.04.2-1.43.59L10.3 9.45l-7.72 7.72c-.78.78-.78 2.05 0 2.83L4 21.41c.39.39.9.59 1.41.59.51 0 1.02-.2 1.41-.59l7.78-7.78 2.81-2.81c.8-.78.8-2.07 0-2.86zM5.41 20L4 18.59l7.72-7.72 1.47 1.35L5.41 20z\"/>\n",
              "  </svg>\n",
              "      </button>\n",
              "      \n",
              "  <style>\n",
              "    .colab-df-container {\n",
              "      display:flex;\n",
              "      flex-wrap:wrap;\n",
              "      gap: 12px;\n",
              "    }\n",
              "\n",
              "    .colab-df-convert {\n",
              "      background-color: #E8F0FE;\n",
              "      border: none;\n",
              "      border-radius: 50%;\n",
              "      cursor: pointer;\n",
              "      display: none;\n",
              "      fill: #1967D2;\n",
              "      height: 32px;\n",
              "      padding: 0 0 0 0;\n",
              "      width: 32px;\n",
              "    }\n",
              "\n",
              "    .colab-df-convert:hover {\n",
              "      background-color: #E2EBFA;\n",
              "      box-shadow: 0px 1px 2px rgba(60, 64, 67, 0.3), 0px 1px 3px 1px rgba(60, 64, 67, 0.15);\n",
              "      fill: #174EA6;\n",
              "    }\n",
              "\n",
              "    [theme=dark] .colab-df-convert {\n",
              "      background-color: #3B4455;\n",
              "      fill: #D2E3FC;\n",
              "    }\n",
              "\n",
              "    [theme=dark] .colab-df-convert:hover {\n",
              "      background-color: #434B5C;\n",
              "      box-shadow: 0px 1px 3px 1px rgba(0, 0, 0, 0.15);\n",
              "      filter: drop-shadow(0px 1px 2px rgba(0, 0, 0, 0.3));\n",
              "      fill: #FFFFFF;\n",
              "    }\n",
              "  </style>\n",
              "\n",
              "      <script>\n",
              "        const buttonEl =\n",
              "          document.querySelector('#df-8ff04e9b-d092-48df-912b-ce7189ea62da button.colab-df-convert');\n",
              "        buttonEl.style.display =\n",
              "          google.colab.kernel.accessAllowed ? 'block' : 'none';\n",
              "\n",
              "        async function convertToInteractive(key) {\n",
              "          const element = document.querySelector('#df-8ff04e9b-d092-48df-912b-ce7189ea62da');\n",
              "          const dataTable =\n",
              "            await google.colab.kernel.invokeFunction('convertToInteractive',\n",
              "                                                     [key], {});\n",
              "          if (!dataTable) return;\n",
              "\n",
              "          const docLinkHtml = 'Like what you see? Visit the ' +\n",
              "            '<a target=\"_blank\" href=https://colab.research.google.com/notebooks/data_table.ipynb>data table notebook</a>'\n",
              "            + ' to learn more about interactive tables.';\n",
              "          element.innerHTML = '';\n",
              "          dataTable['output_type'] = 'display_data';\n",
              "          await google.colab.output.renderOutput(dataTable, element);\n",
              "          const docLink = document.createElement('div');\n",
              "          docLink.innerHTML = docLinkHtml;\n",
              "          element.appendChild(docLink);\n",
              "        }\n",
              "      </script>\n",
              "    </div>\n",
              "  </div>\n",
              "  "
            ]
          },
          "metadata": {},
          "execution_count": 159
        }
      ],
      "source": [
        "#drop any NaN in the Tweet column\n",
        "data['Tweet'].dropna(inplace=True)\n",
        "data"
      ]
    },
    {
      "cell_type": "code",
      "execution_count": 160,
      "metadata": {
        "colab": {
          "base_uri": "https://localhost:8080/",
          "height": 468
        },
        "id": "bgSZrgoGpYHq",
        "outputId": "99056222-698a-4eea-a61f-da45ef2b2ad5"
      },
      "outputs": [
        {
          "output_type": "execute_result",
          "data": {
            "text/plain": [
              "                                                                                                                                                  Tweet  \\\n",
              "0                       .@wesley83 I have a 3G iPhone. After 3 hrs tweeting at #RISE_Austin, it was dead!  I need to upgrade. Plugin stations at #SXSW.   \n",
              "1           @jessedee Know about @fludapp ? Awesome iPad/iPhone app that you'll likely appreciate for its design. Also, they're giving free Ts at #SXSW   \n",
              "2                                                                       @swonderlin Can not wait for #iPad 2 also. They should sale them down at #SXSW.   \n",
              "3                                                                    @sxsw I hope this year's festival isn't as crashy as this year's iPhone app. #sxsw   \n",
              "4                   @sxtxstate great stuff on Fri #SXSW: Marissa Mayer (Google), Tim O'Reilly (tech books/conferences) &amp; Matt Mullenweg (Wordpress)   \n",
              "...                                                                                                                                                 ...   \n",
              "8716                                                                                                                      Ipad everywhere. #SXSW {link}   \n",
              "8717                      Wave, buzz... RT @mention We interrupt your regularly scheduled #sxsw geek programming with big news {link}  #google #circles   \n",
              "8718  Google's Zeiger, a physician never reported potential AE. Yet FDA relies on physicians. &quot;We're operating w/out data.&quot; #sxsw #health2dev   \n",
              "8719       Some Verizon iPhone customers complained their time fell back an hour this weekend.  Of course they were the New Yorkers who attended #SXSW.   \n",
              "8720                                                  �ϡ�����_��ʋ�΋�ҋ�������⋁_��������_���RT @mention Google Tests ���Check-in Offers�۝ At #SXSW {link}   \n",
              "\n",
              "                 Product         Sentiment  \n",
              "0                 iPhone  Negative emotion  \n",
              "1     iPad or iPhone App  Positive emotion  \n",
              "2                   iPad  Positive emotion  \n",
              "3     iPad or iPhone App  Negative emotion  \n",
              "4                 Google  Positive emotion  \n",
              "...                  ...               ...  \n",
              "8716                iPad  Positive emotion  \n",
              "8717                 NaN        No emotion  \n",
              "8718                 NaN        No emotion  \n",
              "8719                 NaN        No emotion  \n",
              "8720                 NaN        No emotion  \n",
              "\n",
              "[8699 rows x 3 columns]"
            ],
            "text/html": [
              "\n",
              "  <div id=\"df-39a59fa2-6701-432d-b761-7a964c4d9ed7\">\n",
              "    <div class=\"colab-df-container\">\n",
              "      <div>\n",
              "<style scoped>\n",
              "    .dataframe tbody tr th:only-of-type {\n",
              "        vertical-align: middle;\n",
              "    }\n",
              "\n",
              "    .dataframe tbody tr th {\n",
              "        vertical-align: top;\n",
              "    }\n",
              "\n",
              "    .dataframe thead th {\n",
              "        text-align: right;\n",
              "    }\n",
              "</style>\n",
              "<table border=\"1\" class=\"dataframe\">\n",
              "  <thead>\n",
              "    <tr style=\"text-align: right;\">\n",
              "      <th></th>\n",
              "      <th>Tweet</th>\n",
              "      <th>Product</th>\n",
              "      <th>Sentiment</th>\n",
              "    </tr>\n",
              "  </thead>\n",
              "  <tbody>\n",
              "    <tr>\n",
              "      <th>0</th>\n",
              "      <td>.@wesley83 I have a 3G iPhone. After 3 hrs tweeting at #RISE_Austin, it was dead!  I need to upgrade. Plugin stations at #SXSW.</td>\n",
              "      <td>iPhone</td>\n",
              "      <td>Negative emotion</td>\n",
              "    </tr>\n",
              "    <tr>\n",
              "      <th>1</th>\n",
              "      <td>@jessedee Know about @fludapp ? Awesome iPad/iPhone app that you'll likely appreciate for its design. Also, they're giving free Ts at #SXSW</td>\n",
              "      <td>iPad or iPhone App</td>\n",
              "      <td>Positive emotion</td>\n",
              "    </tr>\n",
              "    <tr>\n",
              "      <th>2</th>\n",
              "      <td>@swonderlin Can not wait for #iPad 2 also. They should sale them down at #SXSW.</td>\n",
              "      <td>iPad</td>\n",
              "      <td>Positive emotion</td>\n",
              "    </tr>\n",
              "    <tr>\n",
              "      <th>3</th>\n",
              "      <td>@sxsw I hope this year's festival isn't as crashy as this year's iPhone app. #sxsw</td>\n",
              "      <td>iPad or iPhone App</td>\n",
              "      <td>Negative emotion</td>\n",
              "    </tr>\n",
              "    <tr>\n",
              "      <th>4</th>\n",
              "      <td>@sxtxstate great stuff on Fri #SXSW: Marissa Mayer (Google), Tim O'Reilly (tech books/conferences) &amp;amp; Matt Mullenweg (Wordpress)</td>\n",
              "      <td>Google</td>\n",
              "      <td>Positive emotion</td>\n",
              "    </tr>\n",
              "    <tr>\n",
              "      <th>...</th>\n",
              "      <td>...</td>\n",
              "      <td>...</td>\n",
              "      <td>...</td>\n",
              "    </tr>\n",
              "    <tr>\n",
              "      <th>8716</th>\n",
              "      <td>Ipad everywhere. #SXSW {link}</td>\n",
              "      <td>iPad</td>\n",
              "      <td>Positive emotion</td>\n",
              "    </tr>\n",
              "    <tr>\n",
              "      <th>8717</th>\n",
              "      <td>Wave, buzz... RT @mention We interrupt your regularly scheduled #sxsw geek programming with big news {link}  #google #circles</td>\n",
              "      <td>NaN</td>\n",
              "      <td>No emotion</td>\n",
              "    </tr>\n",
              "    <tr>\n",
              "      <th>8718</th>\n",
              "      <td>Google's Zeiger, a physician never reported potential AE. Yet FDA relies on physicians. &amp;quot;We're operating w/out data.&amp;quot; #sxsw #health2dev</td>\n",
              "      <td>NaN</td>\n",
              "      <td>No emotion</td>\n",
              "    </tr>\n",
              "    <tr>\n",
              "      <th>8719</th>\n",
              "      <td>Some Verizon iPhone customers complained their time fell back an hour this weekend.  Of course they were the New Yorkers who attended #SXSW.</td>\n",
              "      <td>NaN</td>\n",
              "      <td>No emotion</td>\n",
              "    </tr>\n",
              "    <tr>\n",
              "      <th>8720</th>\n",
              "      <td>�ϡ�����_��ʋ�΋�ҋ�������⋁_��������_���RT @mention Google Tests ���Check-in Offers�۝ At #SXSW {link}</td>\n",
              "      <td>NaN</td>\n",
              "      <td>No emotion</td>\n",
              "    </tr>\n",
              "  </tbody>\n",
              "</table>\n",
              "<p>8699 rows × 3 columns</p>\n",
              "</div>\n",
              "      <button class=\"colab-df-convert\" onclick=\"convertToInteractive('df-39a59fa2-6701-432d-b761-7a964c4d9ed7')\"\n",
              "              title=\"Convert this dataframe to an interactive table.\"\n",
              "              style=\"display:none;\">\n",
              "        \n",
              "  <svg xmlns=\"http://www.w3.org/2000/svg\" height=\"24px\"viewBox=\"0 0 24 24\"\n",
              "       width=\"24px\">\n",
              "    <path d=\"M0 0h24v24H0V0z\" fill=\"none\"/>\n",
              "    <path d=\"M18.56 5.44l.94 2.06.94-2.06 2.06-.94-2.06-.94-.94-2.06-.94 2.06-2.06.94zm-11 1L8.5 8.5l.94-2.06 2.06-.94-2.06-.94L8.5 2.5l-.94 2.06-2.06.94zm10 10l.94 2.06.94-2.06 2.06-.94-2.06-.94-.94-2.06-.94 2.06-2.06.94z\"/><path d=\"M17.41 7.96l-1.37-1.37c-.4-.4-.92-.59-1.43-.59-.52 0-1.04.2-1.43.59L10.3 9.45l-7.72 7.72c-.78.78-.78 2.05 0 2.83L4 21.41c.39.39.9.59 1.41.59.51 0 1.02-.2 1.41-.59l7.78-7.78 2.81-2.81c.8-.78.8-2.07 0-2.86zM5.41 20L4 18.59l7.72-7.72 1.47 1.35L5.41 20z\"/>\n",
              "  </svg>\n",
              "      </button>\n",
              "      \n",
              "  <style>\n",
              "    .colab-df-container {\n",
              "      display:flex;\n",
              "      flex-wrap:wrap;\n",
              "      gap: 12px;\n",
              "    }\n",
              "\n",
              "    .colab-df-convert {\n",
              "      background-color: #E8F0FE;\n",
              "      border: none;\n",
              "      border-radius: 50%;\n",
              "      cursor: pointer;\n",
              "      display: none;\n",
              "      fill: #1967D2;\n",
              "      height: 32px;\n",
              "      padding: 0 0 0 0;\n",
              "      width: 32px;\n",
              "    }\n",
              "\n",
              "    .colab-df-convert:hover {\n",
              "      background-color: #E2EBFA;\n",
              "      box-shadow: 0px 1px 2px rgba(60, 64, 67, 0.3), 0px 1px 3px 1px rgba(60, 64, 67, 0.15);\n",
              "      fill: #174EA6;\n",
              "    }\n",
              "\n",
              "    [theme=dark] .colab-df-convert {\n",
              "      background-color: #3B4455;\n",
              "      fill: #D2E3FC;\n",
              "    }\n",
              "\n",
              "    [theme=dark] .colab-df-convert:hover {\n",
              "      background-color: #434B5C;\n",
              "      box-shadow: 0px 1px 3px 1px rgba(0, 0, 0, 0.15);\n",
              "      filter: drop-shadow(0px 1px 2px rgba(0, 0, 0, 0.3));\n",
              "      fill: #FFFFFF;\n",
              "    }\n",
              "  </style>\n",
              "\n",
              "      <script>\n",
              "        const buttonEl =\n",
              "          document.querySelector('#df-39a59fa2-6701-432d-b761-7a964c4d9ed7 button.colab-df-convert');\n",
              "        buttonEl.style.display =\n",
              "          google.colab.kernel.accessAllowed ? 'block' : 'none';\n",
              "\n",
              "        async function convertToInteractive(key) {\n",
              "          const element = document.querySelector('#df-39a59fa2-6701-432d-b761-7a964c4d9ed7');\n",
              "          const dataTable =\n",
              "            await google.colab.kernel.invokeFunction('convertToInteractive',\n",
              "                                                     [key], {});\n",
              "          if (!dataTable) return;\n",
              "\n",
              "          const docLinkHtml = 'Like what you see? Visit the ' +\n",
              "            '<a target=\"_blank\" href=https://colab.research.google.com/notebooks/data_table.ipynb>data table notebook</a>'\n",
              "            + ' to learn more about interactive tables.';\n",
              "          element.innerHTML = '';\n",
              "          dataTable['output_type'] = 'display_data';\n",
              "          await google.colab.output.renderOutput(dataTable, element);\n",
              "          const docLink = document.createElement('div');\n",
              "          docLink.innerHTML = docLinkHtml;\n",
              "          element.appendChild(docLink);\n",
              "        }\n",
              "      </script>\n",
              "    </div>\n",
              "  </div>\n",
              "  "
            ]
          },
          "metadata": {},
          "execution_count": 160
        }
      ],
      "source": [
        "#More data cleaning procedures\n",
        "#drop duplicates\n",
        "data.drop_duplicates(inplace=True)\n",
        "data"
      ]
    },
    {
      "cell_type": "markdown",
      "metadata": {
        "id": "Uc_QQ2RUsokl"
      },
      "source": [
        "As noted above, the tweet column has key words that show the product example `row 8719` has a customer complaining about an iphone and the prodcut is not identified. We can solve this by creating a function that find the product and tweet and combines to form the brand column."
      ]
    },
    {
      "cell_type": "code",
      "execution_count": 161,
      "metadata": {
        "id": "L9havvC2yej1"
      },
      "outputs": [],
      "source": [
        "# Checking for anomalies in the data\n",
        "#drops Tweets with nonsensical characters\n",
        "data.drop([6, 8720], inplace=True)"
      ]
    },
    {
      "cell_type": "code",
      "execution_count": 162,
      "metadata": {
        "id": "kQHWcFPezRhB"
      },
      "outputs": [],
      "source": [
        "#reset the index after cleaning\n",
        "data.reset_index(inplace=True)\n",
        "data.drop(columns=\"index\", inplace = True)"
      ]
    },
    {
      "cell_type": "code",
      "execution_count": 163,
      "metadata": {
        "colab": {
          "base_uri": "https://localhost:8080/"
        },
        "id": "5UMA0tyCzd4V",
        "outputId": "f191817f-660f-41a5-f6a9-0b249d0c31f9"
      },
      "outputs": [
        {
          "output_type": "stream",
          "name": "stdout",
          "text": [
            "Tweet           0\n",
            "Product      5537\n",
            "Sentiment       0\n",
            "dtype: int64\n"
          ]
        }
      ],
      "source": [
        "#looks at remaining NaN's\n",
        "print(data.isna().sum())"
      ]
    },
    {
      "cell_type": "code",
      "execution_count": 164,
      "metadata": {
        "colab": {
          "base_uri": "https://localhost:8080/",
          "height": 468
        },
        "id": "stDMpPk_zjy4",
        "outputId": "0cb9426c-ebc7-4959-86d0-7ccc19cd0b0a"
      },
      "outputs": [
        {
          "output_type": "execute_result",
          "data": {
            "text/plain": [
              "                                                                                                                                                  Tweet  \\\n",
              "0                       .@wesley83 I have a 3G iPhone. After 3 hrs tweeting at #RISE_Austin, it was dead!  I need to upgrade. Plugin stations at #SXSW.   \n",
              "1           @jessedee Know about @fludapp ? Awesome iPad/iPhone app that you'll likely appreciate for its design. Also, they're giving free Ts at #SXSW   \n",
              "2                                                                       @swonderlin Can not wait for #iPad 2 also. They should sale them down at #SXSW.   \n",
              "3                                                                    @sxsw I hope this year's festival isn't as crashy as this year's iPhone app. #sxsw   \n",
              "4                   @sxtxstate great stuff on Fri #SXSW: Marissa Mayer (Google), Tim O'Reilly (tech books/conferences) &amp; Matt Mullenweg (Wordpress)   \n",
              "...                                                                                                                                                 ...   \n",
              "8692                                                @mention Yup, but I don't have a third app yet. I'm on Android, any suggestions? #SXSW CC: @mention   \n",
              "8693                                                                                                                      Ipad everywhere. #SXSW {link}   \n",
              "8694                      Wave, buzz... RT @mention We interrupt your regularly scheduled #sxsw geek programming with big news {link}  #google #circles   \n",
              "8695  Google's Zeiger, a physician never reported potential AE. Yet FDA relies on physicians. &quot;We're operating w/out data.&quot; #sxsw #health2dev   \n",
              "8696       Some Verizon iPhone customers complained their time fell back an hour this weekend.  Of course they were the New Yorkers who attended #SXSW.   \n",
              "\n",
              "                 Product         Sentiment  \n",
              "0                 iPhone  Negative emotion  \n",
              "1     iPad or iPhone App  Positive emotion  \n",
              "2                   iPad  Positive emotion  \n",
              "3     iPad or iPhone App  Negative emotion  \n",
              "4                 Google  Positive emotion  \n",
              "...                  ...               ...  \n",
              "8692           Undefined        No emotion  \n",
              "8693                iPad  Positive emotion  \n",
              "8694           Undefined        No emotion  \n",
              "8695           Undefined        No emotion  \n",
              "8696           Undefined        No emotion  \n",
              "\n",
              "[8697 rows x 3 columns]"
            ],
            "text/html": [
              "\n",
              "  <div id=\"df-3f86b6e8-c590-49c9-b25c-1883fffd47bc\">\n",
              "    <div class=\"colab-df-container\">\n",
              "      <div>\n",
              "<style scoped>\n",
              "    .dataframe tbody tr th:only-of-type {\n",
              "        vertical-align: middle;\n",
              "    }\n",
              "\n",
              "    .dataframe tbody tr th {\n",
              "        vertical-align: top;\n",
              "    }\n",
              "\n",
              "    .dataframe thead th {\n",
              "        text-align: right;\n",
              "    }\n",
              "</style>\n",
              "<table border=\"1\" class=\"dataframe\">\n",
              "  <thead>\n",
              "    <tr style=\"text-align: right;\">\n",
              "      <th></th>\n",
              "      <th>Tweet</th>\n",
              "      <th>Product</th>\n",
              "      <th>Sentiment</th>\n",
              "    </tr>\n",
              "  </thead>\n",
              "  <tbody>\n",
              "    <tr>\n",
              "      <th>0</th>\n",
              "      <td>.@wesley83 I have a 3G iPhone. After 3 hrs tweeting at #RISE_Austin, it was dead!  I need to upgrade. Plugin stations at #SXSW.</td>\n",
              "      <td>iPhone</td>\n",
              "      <td>Negative emotion</td>\n",
              "    </tr>\n",
              "    <tr>\n",
              "      <th>1</th>\n",
              "      <td>@jessedee Know about @fludapp ? Awesome iPad/iPhone app that you'll likely appreciate for its design. Also, they're giving free Ts at #SXSW</td>\n",
              "      <td>iPad or iPhone App</td>\n",
              "      <td>Positive emotion</td>\n",
              "    </tr>\n",
              "    <tr>\n",
              "      <th>2</th>\n",
              "      <td>@swonderlin Can not wait for #iPad 2 also. They should sale them down at #SXSW.</td>\n",
              "      <td>iPad</td>\n",
              "      <td>Positive emotion</td>\n",
              "    </tr>\n",
              "    <tr>\n",
              "      <th>3</th>\n",
              "      <td>@sxsw I hope this year's festival isn't as crashy as this year's iPhone app. #sxsw</td>\n",
              "      <td>iPad or iPhone App</td>\n",
              "      <td>Negative emotion</td>\n",
              "    </tr>\n",
              "    <tr>\n",
              "      <th>4</th>\n",
              "      <td>@sxtxstate great stuff on Fri #SXSW: Marissa Mayer (Google), Tim O'Reilly (tech books/conferences) &amp;amp; Matt Mullenweg (Wordpress)</td>\n",
              "      <td>Google</td>\n",
              "      <td>Positive emotion</td>\n",
              "    </tr>\n",
              "    <tr>\n",
              "      <th>...</th>\n",
              "      <td>...</td>\n",
              "      <td>...</td>\n",
              "      <td>...</td>\n",
              "    </tr>\n",
              "    <tr>\n",
              "      <th>8692</th>\n",
              "      <td>@mention Yup, but I don't have a third app yet. I'm on Android, any suggestions? #SXSW CC: @mention</td>\n",
              "      <td>Undefined</td>\n",
              "      <td>No emotion</td>\n",
              "    </tr>\n",
              "    <tr>\n",
              "      <th>8693</th>\n",
              "      <td>Ipad everywhere. #SXSW {link}</td>\n",
              "      <td>iPad</td>\n",
              "      <td>Positive emotion</td>\n",
              "    </tr>\n",
              "    <tr>\n",
              "      <th>8694</th>\n",
              "      <td>Wave, buzz... RT @mention We interrupt your regularly scheduled #sxsw geek programming with big news {link}  #google #circles</td>\n",
              "      <td>Undefined</td>\n",
              "      <td>No emotion</td>\n",
              "    </tr>\n",
              "    <tr>\n",
              "      <th>8695</th>\n",
              "      <td>Google's Zeiger, a physician never reported potential AE. Yet FDA relies on physicians. &amp;quot;We're operating w/out data.&amp;quot; #sxsw #health2dev</td>\n",
              "      <td>Undefined</td>\n",
              "      <td>No emotion</td>\n",
              "    </tr>\n",
              "    <tr>\n",
              "      <th>8696</th>\n",
              "      <td>Some Verizon iPhone customers complained their time fell back an hour this weekend.  Of course they were the New Yorkers who attended #SXSW.</td>\n",
              "      <td>Undefined</td>\n",
              "      <td>No emotion</td>\n",
              "    </tr>\n",
              "  </tbody>\n",
              "</table>\n",
              "<p>8697 rows × 3 columns</p>\n",
              "</div>\n",
              "      <button class=\"colab-df-convert\" onclick=\"convertToInteractive('df-3f86b6e8-c590-49c9-b25c-1883fffd47bc')\"\n",
              "              title=\"Convert this dataframe to an interactive table.\"\n",
              "              style=\"display:none;\">\n",
              "        \n",
              "  <svg xmlns=\"http://www.w3.org/2000/svg\" height=\"24px\"viewBox=\"0 0 24 24\"\n",
              "       width=\"24px\">\n",
              "    <path d=\"M0 0h24v24H0V0z\" fill=\"none\"/>\n",
              "    <path d=\"M18.56 5.44l.94 2.06.94-2.06 2.06-.94-2.06-.94-.94-2.06-.94 2.06-2.06.94zm-11 1L8.5 8.5l.94-2.06 2.06-.94-2.06-.94L8.5 2.5l-.94 2.06-2.06.94zm10 10l.94 2.06.94-2.06 2.06-.94-2.06-.94-.94-2.06-.94 2.06-2.06.94z\"/><path d=\"M17.41 7.96l-1.37-1.37c-.4-.4-.92-.59-1.43-.59-.52 0-1.04.2-1.43.59L10.3 9.45l-7.72 7.72c-.78.78-.78 2.05 0 2.83L4 21.41c.39.39.9.59 1.41.59.51 0 1.02-.2 1.41-.59l7.78-7.78 2.81-2.81c.8-.78.8-2.07 0-2.86zM5.41 20L4 18.59l7.72-7.72 1.47 1.35L5.41 20z\"/>\n",
              "  </svg>\n",
              "      </button>\n",
              "      \n",
              "  <style>\n",
              "    .colab-df-container {\n",
              "      display:flex;\n",
              "      flex-wrap:wrap;\n",
              "      gap: 12px;\n",
              "    }\n",
              "\n",
              "    .colab-df-convert {\n",
              "      background-color: #E8F0FE;\n",
              "      border: none;\n",
              "      border-radius: 50%;\n",
              "      cursor: pointer;\n",
              "      display: none;\n",
              "      fill: #1967D2;\n",
              "      height: 32px;\n",
              "      padding: 0 0 0 0;\n",
              "      width: 32px;\n",
              "    }\n",
              "\n",
              "    .colab-df-convert:hover {\n",
              "      background-color: #E2EBFA;\n",
              "      box-shadow: 0px 1px 2px rgba(60, 64, 67, 0.3), 0px 1px 3px 1px rgba(60, 64, 67, 0.15);\n",
              "      fill: #174EA6;\n",
              "    }\n",
              "\n",
              "    [theme=dark] .colab-df-convert {\n",
              "      background-color: #3B4455;\n",
              "      fill: #D2E3FC;\n",
              "    }\n",
              "\n",
              "    [theme=dark] .colab-df-convert:hover {\n",
              "      background-color: #434B5C;\n",
              "      box-shadow: 0px 1px 3px 1px rgba(0, 0, 0, 0.15);\n",
              "      filter: drop-shadow(0px 1px 2px rgba(0, 0, 0, 0.3));\n",
              "      fill: #FFFFFF;\n",
              "    }\n",
              "  </style>\n",
              "\n",
              "      <script>\n",
              "        const buttonEl =\n",
              "          document.querySelector('#df-3f86b6e8-c590-49c9-b25c-1883fffd47bc button.colab-df-convert');\n",
              "        buttonEl.style.display =\n",
              "          google.colab.kernel.accessAllowed ? 'block' : 'none';\n",
              "\n",
              "        async function convertToInteractive(key) {\n",
              "          const element = document.querySelector('#df-3f86b6e8-c590-49c9-b25c-1883fffd47bc');\n",
              "          const dataTable =\n",
              "            await google.colab.kernel.invokeFunction('convertToInteractive',\n",
              "                                                     [key], {});\n",
              "          if (!dataTable) return;\n",
              "\n",
              "          const docLinkHtml = 'Like what you see? Visit the ' +\n",
              "            '<a target=\"_blank\" href=https://colab.research.google.com/notebooks/data_table.ipynb>data table notebook</a>'\n",
              "            + ' to learn more about interactive tables.';\n",
              "          element.innerHTML = '';\n",
              "          dataTable['output_type'] = 'display_data';\n",
              "          await google.colab.output.renderOutput(dataTable, element);\n",
              "          const docLink = document.createElement('div');\n",
              "          docLink.innerHTML = docLinkHtml;\n",
              "          element.appendChild(docLink);\n",
              "        }\n",
              "      </script>\n",
              "    </div>\n",
              "  </div>\n",
              "  "
            ]
          },
          "metadata": {},
          "execution_count": 164
        }
      ],
      "source": [
        "#Fills NaN's with \"Undefined\" to help with data visualizations\n",
        "data['Product'].fillna(\"Undefined\", inplace = True)\n",
        "data"
      ]
    },
    {
      "cell_type": "code",
      "execution_count": 165,
      "metadata": {
        "colab": {
          "base_uri": "https://localhost:8080/",
          "height": 970
        },
        "id": "FJygErdbzy1Q",
        "outputId": "29d720a7-d950-4d48-d33a-b33b8489ee31"
      },
      "outputs": [
        {
          "output_type": "display_data",
          "data": {
            "text/plain": [
              "<Figure size 864x1008 with 1 Axes>"
            ],
            "image/png": "[encoded data removed]"
          },
          "metadata": {
            "needs_background": "light"
          }
        }
      ],
      "source": [
        "#Plot to check the distribution\n",
        "fig, ax = plt.subplots(figsize=(12,14))\n",
        "sns.histplot(data[\"Product\"] )\n",
        "plt.xticks(rotation = 75)\n",
        "plt.show()"
      ]
    },
    {
      "cell_type": "markdown",
      "metadata": {
        "id": "uY66aIHZ1WlM"
      },
      "source": [
        "Although the imbalance between the unidentified products may make it difficult to analyze product sentiment, we can still use this column to identify the brand that the tweets are primarily focused on."
      ]
    },
    {
      "cell_type": "code",
      "execution_count": 166,
      "metadata": {
        "colab": {
          "base_uri": "https://localhost:8080/"
        },
        "id": "fQ9q0gD1sjIi",
        "outputId": "8675c27d-3bfa-4e9c-9dca-8dc516d6937a"
      },
      "outputs": [
        {
          "output_type": "execute_result",
          "data": {
            "text/plain": [
              "0                   iPhone\n",
              "1       iPad or iPhone App\n",
              "2                     iPad\n",
              "3       iPad or iPhone App\n",
              "4                   Google\n",
              "               ...        \n",
              "8692             Undefined\n",
              "8693                  iPad\n",
              "8694             Undefined\n",
              "8695             Undefined\n",
              "8696             Undefined\n",
              "Name: Product, Length: 8697, dtype: object"
            ]
          },
          "metadata": {},
          "execution_count": 166
        }
      ],
      "source": [
        "#we are going to set the Product type as a string for our function below.\n",
        "data[\"Product\"].astype(str)"
      ]
    },
    {
      "cell_type": "markdown",
      "metadata": {
        "id": "tj3L4COe1uD0"
      },
      "source": [
        "A brand's sentiment is being measured by the model. As a result, we need to examine how the dataset is divided up among the various companies. Two of the biggest tech brands in the world are represented by the two brands in this data set. Google and Apple. To assign each tweet to a brand, we will therefore create a new column."
      ]
    },
    {
      "cell_type": "code",
      "execution_count": 167,
      "metadata": {
        "colab": {
          "base_uri": "https://localhost:8080/"
        },
        "id": "59qUeCBRrF7E",
        "outputId": "f5dcb104-1de0-42d6-bbc4-0a7ff54da891"
      },
      "outputs": [
        {
          "output_type": "execute_result",
          "data": {
            "text/plain": [
              "Apple           5140\n",
              "Google          2637\n",
              "Undetermined     715\n",
              "Both             205\n",
              "Name: Brand, dtype: int64"
            ]
          },
          "metadata": {},
          "execution_count": 167
        }
      ],
      "source": [
        "# Function that finds a brand\n",
        "def find_brand(Product, Tweet):\n",
        "    \"\"\"\n",
        "    This function is designed to take build a brand column based on the Product description. \n",
        "    After, the function will look at the Tweets and determine a brand for rows with no brand determined.\n",
        "    \n",
        "    Product -  a column the function is working on\n",
        "    Tweet - a column the function is working on\n",
        "    \"\"\"\n",
        "    brand = 'Undetermined' #Labeling brand as Undetermined\n",
        "    if ((Product.lower().__contains__('google')) or (Product.lower().__contains__('android'))): #Labeling Google\n",
        "        brand = 'Google' #Unless tweet contains google or android\n",
        "    elif ((Product.lower().__contains__('apple')) or (Product.lower().__contains__('ip'))): #Labeling Apple\n",
        "        brand = 'Apple' #Unless tweet contains apple or ip\n",
        "    \n",
        "    if (brand == 'Undetermined'): \n",
        "        lower_tweet = Tweet.lower() #Making tweet lowercase\n",
        "        is_google = (lower_tweet.__contains__('google')) or (lower_tweet.__contains__('android')) #Undetermined google\n",
        "        is_apple = (lower_tweet.__contains__('apple')) or (lower_tweet.__contains__('ip')) #Undetermined apple\n",
        "        \n",
        "        if (is_google and is_apple): #if it has both identifiers in the tweet\n",
        "            brand = 'Both' #Labeling brand as both\n",
        "        elif (is_google):\n",
        "            brand = 'Google' #Labeling brand as Google\n",
        "        elif (is_apple):\n",
        "            brand = 'Apple' #Labeling brand as Apple\n",
        "    \n",
        "    return brand\n",
        "\n",
        "data['Brand'] = data.apply(lambda x: find_brand(x['Product'], x['Tweet']), axis = 1) #Applying function to column\n",
        "data['Brand'].value_counts() #Reviewing value counts of each class within brand\n"
      ]
    },
    {
      "cell_type": "markdown",
      "metadata": {
        "id": "p1uGW4UO1yLV"
      },
      "source": [
        "We can now analyze sentiment across brands without losing data thanks to the creation of a brand column. To help our models be trained on real-world scenarios, we continue to use the Undertermined and Both Brands."
      ]
    },
    {
      "cell_type": "markdown",
      "metadata": {
        "id": "rF2ABPsHUtbZ"
      },
      "source": [
        "## 6. Exploratory Analysis"
      ]
    },
    {
      "cell_type": "markdown",
      "metadata": {
        "id": "tO3Cqd1k4lIU"
      },
      "source": [
        "Ploting the bivariate summaries and recording our observations"
      ]
    },
    {
      "cell_type": "code",
      "execution_count": 168,
      "metadata": {
        "id": "5nnRToniXGDK"
      },
      "outputs": [],
      "source": [
        "# This function builds a Seaborn countplot and allows the user to set certain parameters to customize the graph.\n",
        "def countplot(df, col, hue=None, rotation=None):\n",
        "    fig, ax = plt.subplots(figsize=(12,8))\n",
        "    sns.countplot(data = df, x = col, hue = hue, order = df[col].value_counts().index)\n",
        "    ax.set_xticklabels(labels = ax.get_xticklabels(), rotation= rotation, fontsize = 15)\n",
        "    ax.set_xlabel(xlabel = col, fontsize = 20)\n",
        "    ax.tick_params(axis='y', which='major', labelsize=15)\n",
        "    ax.set_ylabel(ylabel = \"Number of Tweets\", fontsize = 20)\n",
        "    ax.set_title(f\"Number of Tweets per {col}\", fontsize = 30)\n",
        "    plt.show()\n"
      ]
    },
    {
      "cell_type": "code",
      "execution_count": 169,
      "metadata": {
        "colab": {
          "base_uri": "https://localhost:8080/",
          "height": 540
        },
        "id": "LF_Ag6GGqZr9",
        "outputId": "655f6a66-2e31-4857-b3d8-28af2904cf84"
      },
      "outputs": [
        {
          "output_type": "display_data",
          "data": {
            "text/plain": [
              "<Figure size 864x576 with 1 Axes>"
            ],
            "image/png": "[encoded data removed]"
          },
          "metadata": {
            "needs_background": "light"
          }
        }
      ],
      "source": [
        "#countplot for Brand\n",
        "countplot(data, \"Brand\")"
      ]
    },
    {
      "cell_type": "code",
      "execution_count": 170,
      "metadata": {
        "colab": {
          "base_uri": "https://localhost:8080/",
          "height": 763
        },
        "id": "uOKgTzsS4tv5",
        "outputId": "db630c24-10f8-4315-d420-3629c973f342"
      },
      "outputs": [
        {
          "output_type": "display_data",
          "data": {
            "text/plain": [
              "<Figure size 864x576 with 1 Axes>"
            ],
            "image/png": "[encoded data removed]"
          },
          "metadata": {
            "needs_background": "light"
          }
        }
      ],
      "source": [
        "#countplot for Product\n",
        "countplot(data, \"Product\", hue=None, rotation=75)"
      ]
    },
    {
      "cell_type": "code",
      "execution_count": 171,
      "metadata": {
        "colab": {
          "base_uri": "https://localhost:8080/",
          "height": 540
        },
        "id": "0jMwqhKg4ylu",
        "outputId": "1ddaa692-6a67-472e-cd41-ffe4b89ff04e"
      },
      "outputs": [
        {
          "output_type": "display_data",
          "data": {
            "text/plain": [
              "<Figure size 864x576 with 1 Axes>"
            ],
            "image/png": "[encoded data removed]"
          },
          "metadata": {
            "needs_background": "light"
          }
        }
      ],
      "source": [
        "# Count plot for sentiment\n",
        "countplot(data, \"Sentiment\")"
      ]
    },
    {
      "cell_type": "code",
      "execution_count": 172,
      "metadata": {
        "colab": {
          "base_uri": "https://localhost:8080/",
          "height": 540
        },
        "id": "ygNohEgA5CoH",
        "outputId": "c2b69129-fd15-4e23-91e8-84fe9126a5a5"
      },
      "outputs": [
        {
          "output_type": "display_data",
          "data": {
            "text/plain": [
              "<Figure size 864x576 with 1 Axes>"
            ],
            "image/png": "[encoded data removed]"
          },
          "metadata": {
            "needs_background": "light"
          }
        }
      ],
      "source": [
        "#count plot for Sentiment across brands\n",
        "countplot(data, \"Brand\", hue = \"Sentiment\")"
      ]
    },
    {
      "cell_type": "code",
      "execution_count": 173,
      "metadata": {
        "colab": {
          "base_uri": "https://localhost:8080/",
          "height": 540
        },
        "id": "5nrZynZ45JJK",
        "outputId": "2763328e-f945-4dbf-8653-9df8d89df392"
      },
      "outputs": [
        {
          "output_type": "display_data",
          "data": {
            "text/plain": [
              "<Figure size 864x576 with 1 Axes>"
            ],
            "image/png": "[encoded data removed]"
          },
          "metadata": {
            "needs_background": "light"
          }
        }
      ],
      "source": [
        "#countplot for brand make of sentiment\n",
        "countplot(data, \"Sentiment\", hue=\"Brand\")"
      ]
    },
    {
      "cell_type": "code",
      "execution_count": 174,
      "metadata": {
        "colab": {
          "base_uri": "https://localhost:8080/",
          "height": 582
        },
        "id": "JE4ziJXY5Wvz",
        "outputId": "dbb9a71d-74f2-43ee-8284-b910e1c26309"
      },
      "outputs": [
        {
          "output_type": "execute_result",
          "data": {
            "text/plain": [
              "                               Tweet  Product\n",
              "Brand        Sentiment                       \n",
              "Apple        I can't tell         90       90\n",
              "             Negative emotion    398      398\n",
              "             No emotion         2604     2604\n",
              "             Positive emotion   2048     2048\n",
              "Both         I can't tell          7        7\n",
              "             Negative emotion      3        3\n",
              "             No emotion          185      185\n",
              "             Positive emotion     10       10\n",
              "Google       I can't tell         49       49\n",
              "             Negative emotion    142      142\n",
              "             No emotion         1656     1656\n",
              "             Positive emotion    790      790\n",
              "Undetermined I can't tell          5        5\n",
              "             Negative emotion      1        1\n",
              "             No emotion          696      696\n",
              "             Positive emotion     13       13"
            ],
            "text/html": [
              "\n",
              "  <div id=\"df-bef4c28c-d101-4073-ad7b-81a14a04ae5e\">\n",
              "    <div class=\"colab-df-container\">\n",
              "      <div>\n",
              "<style scoped>\n",
              "    .dataframe tbody tr th:only-of-type {\n",
              "        vertical-align: middle;\n",
              "    }\n",
              "\n",
              "    .dataframe tbody tr th {\n",
              "        vertical-align: top;\n",
              "    }\n",
              "\n",
              "    .dataframe thead th {\n",
              "        text-align: right;\n",
              "    }\n",
              "</style>\n",
              "<table border=\"1\" class=\"dataframe\">\n",
              "  <thead>\n",
              "    <tr style=\"text-align: right;\">\n",
              "      <th></th>\n",
              "      <th></th>\n",
              "      <th>Tweet</th>\n",
              "      <th>Product</th>\n",
              "    </tr>\n",
              "    <tr>\n",
              "      <th>Brand</th>\n",
              "      <th>Sentiment</th>\n",
              "      <th></th>\n",
              "      <th></th>\n",
              "    </tr>\n",
              "  </thead>\n",
              "  <tbody>\n",
              "    <tr>\n",
              "      <th rowspan=\"4\" valign=\"top\">Apple</th>\n",
              "      <th>I can't tell</th>\n",
              "      <td>90</td>\n",
              "      <td>90</td>\n",
              "    </tr>\n",
              "    <tr>\n",
              "      <th>Negative emotion</th>\n",
              "      <td>398</td>\n",
              "      <td>398</td>\n",
              "    </tr>\n",
              "    <tr>\n",
              "      <th>No emotion</th>\n",
              "      <td>2604</td>\n",
              "      <td>2604</td>\n",
              "    </tr>\n",
              "    <tr>\n",
              "      <th>Positive emotion</th>\n",
              "      <td>2048</td>\n",
              "      <td>2048</td>\n",
              "    </tr>\n",
              "    <tr>\n",
              "      <th rowspan=\"4\" valign=\"top\">Both</th>\n",
              "      <th>I can't tell</th>\n",
              "      <td>7</td>\n",
              "      <td>7</td>\n",
              "    </tr>\n",
              "    <tr>\n",
              "      <th>Negative emotion</th>\n",
              "      <td>3</td>\n",
              "      <td>3</td>\n",
              "    </tr>\n",
              "    <tr>\n",
              "      <th>No emotion</th>\n",
              "      <td>185</td>\n",
              "      <td>185</td>\n",
              "    </tr>\n",
              "    <tr>\n",
              "      <th>Positive emotion</th>\n",
              "      <td>10</td>\n",
              "      <td>10</td>\n",
              "    </tr>\n",
              "    <tr>\n",
              "      <th rowspan=\"4\" valign=\"top\">Google</th>\n",
              "      <th>I can't tell</th>\n",
              "      <td>49</td>\n",
              "      <td>49</td>\n",
              "    </tr>\n",
              "    <tr>\n",
              "      <th>Negative emotion</th>\n",
              "      <td>142</td>\n",
              "      <td>142</td>\n",
              "    </tr>\n",
              "    <tr>\n",
              "      <th>No emotion</th>\n",
              "      <td>1656</td>\n",
              "      <td>1656</td>\n",
              "    </tr>\n",
              "    <tr>\n",
              "      <th>Positive emotion</th>\n",
              "      <td>790</td>\n",
              "      <td>790</td>\n",
              "    </tr>\n",
              "    <tr>\n",
              "      <th rowspan=\"4\" valign=\"top\">Undetermined</th>\n",
              "      <th>I can't tell</th>\n",
              "      <td>5</td>\n",
              "      <td>5</td>\n",
              "    </tr>\n",
              "    <tr>\n",
              "      <th>Negative emotion</th>\n",
              "      <td>1</td>\n",
              "      <td>1</td>\n",
              "    </tr>\n",
              "    <tr>\n",
              "      <th>No emotion</th>\n",
              "      <td>696</td>\n",
              "      <td>696</td>\n",
              "    </tr>\n",
              "    <tr>\n",
              "      <th>Positive emotion</th>\n",
              "      <td>13</td>\n",
              "      <td>13</td>\n",
              "    </tr>\n",
              "  </tbody>\n",
              "</table>\n",
              "</div>\n",
              "      <button class=\"colab-df-convert\" onclick=\"convertToInteractive('df-bef4c28c-d101-4073-ad7b-81a14a04ae5e')\"\n",
              "              title=\"Convert this dataframe to an interactive table.\"\n",
              "              style=\"display:none;\">\n",
              "        \n",
              "  <svg xmlns=\"http://www.w3.org/2000/svg\" height=\"24px\"viewBox=\"0 0 24 24\"\n",
              "       width=\"24px\">\n",
              "    <path d=\"M0 0h24v24H0V0z\" fill=\"none\"/>\n",
              "    <path d=\"M18.56 5.44l.94 2.06.94-2.06 2.06-.94-2.06-.94-.94-2.06-.94 2.06-2.06.94zm-11 1L8.5 8.5l.94-2.06 2.06-.94-2.06-.94L8.5 2.5l-.94 2.06-2.06.94zm10 10l.94 2.06.94-2.06 2.06-.94-2.06-.94-.94-2.06-.94 2.06-2.06.94z\"/><path d=\"M17.41 7.96l-1.37-1.37c-.4-.4-.92-.59-1.43-.59-.52 0-1.04.2-1.43.59L10.3 9.45l-7.72 7.72c-.78.78-.78 2.05 0 2.83L4 21.41c.39.39.9.59 1.41.59.51 0 1.02-.2 1.41-.59l7.78-7.78 2.81-2.81c.8-.78.8-2.07 0-2.86zM5.41 20L4 18.59l7.72-7.72 1.47 1.35L5.41 20z\"/>\n",
              "  </svg>\n",
              "      </button>\n",
              "      \n",
              "  <style>\n",
              "    .colab-df-container {\n",
              "      display:flex;\n",
              "      flex-wrap:wrap;\n",
              "      gap: 12px;\n",
              "    }\n",
              "\n",
              "    .colab-df-convert {\n",
              "      background-color: #E8F0FE;\n",
              "      border: none;\n",
              "      border-radius: 50%;\n",
              "      cursor: pointer;\n",
              "      display: none;\n",
              "      fill: #1967D2;\n",
              "      height: 32px;\n",
              "      padding: 0 0 0 0;\n",
              "      width: 32px;\n",
              "    }\n",
              "\n",
              "    .colab-df-convert:hover {\n",
              "      background-color: #E2EBFA;\n",
              "      box-shadow: 0px 1px 2px rgba(60, 64, 67, 0.3), 0px 1px 3px 1px rgba(60, 64, 67, 0.15);\n",
              "      fill: #174EA6;\n",
              "    }\n",
              "\n",
              "    [theme=dark] .colab-df-convert {\n",
              "      background-color: #3B4455;\n",
              "      fill: #D2E3FC;\n",
              "    }\n",
              "\n",
              "    [theme=dark] .colab-df-convert:hover {\n",
              "      background-color: #434B5C;\n",
              "      box-shadow: 0px 1px 3px 1px rgba(0, 0, 0, 0.15);\n",
              "      filter: drop-shadow(0px 1px 2px rgba(0, 0, 0, 0.3));\n",
              "      fill: #FFFFFF;\n",
              "    }\n",
              "  </style>\n",
              "\n",
              "      <script>\n",
              "        const buttonEl =\n",
              "          document.querySelector('#df-bef4c28c-d101-4073-ad7b-81a14a04ae5e button.colab-df-convert');\n",
              "        buttonEl.style.display =\n",
              "          google.colab.kernel.accessAllowed ? 'block' : 'none';\n",
              "\n",
              "        async function convertToInteractive(key) {\n",
              "          const element = document.querySelector('#df-bef4c28c-d101-4073-ad7b-81a14a04ae5e');\n",
              "          const dataTable =\n",
              "            await google.colab.kernel.invokeFunction('convertToInteractive',\n",
              "                                                     [key], {});\n",
              "          if (!dataTable) return;\n",
              "\n",
              "          const docLinkHtml = 'Like what you see? Visit the ' +\n",
              "            '<a target=\"_blank\" href=https://colab.research.google.com/notebooks/data_table.ipynb>data table notebook</a>'\n",
              "            + ' to learn more about interactive tables.';\n",
              "          element.innerHTML = '';\n",
              "          dataTable['output_type'] = 'display_data';\n",
              "          await google.colab.output.renderOutput(dataTable, element);\n",
              "          const docLink = document.createElement('div');\n",
              "          docLink.innerHTML = docLinkHtml;\n",
              "          element.appendChild(docLink);\n",
              "        }\n",
              "      </script>\n",
              "    </div>\n",
              "  </div>\n",
              "  "
            ]
          },
          "metadata": {},
          "execution_count": 174
        }
      ],
      "source": [
        "#looking at the number of tweets per brand per sentiment\n",
        "grouped = data.groupby([\"Brand\", \"Sentiment\"]).count()\n",
        "grouped"
      ]
    },
    {
      "cell_type": "code",
      "execution_count": 175,
      "metadata": {
        "colab": {
          "base_uri": "https://localhost:8080/",
          "height": 659
        },
        "id": "0PC0sRsN5hg6",
        "outputId": "f4f3e4ab-6358-43b8-fa89-12ac1b7be946"
      },
      "outputs": [
        {
          "output_type": "display_data",
          "data": {
            "text/plain": [
              "Sentiment         Brand       \n",
              "I can't tell      Apple           0.596026\n",
              "                  Google          0.324503\n",
              "                  Both            0.046358\n",
              "                  Undetermined    0.033113\n",
              "Negative emotion  Apple           0.731618\n",
              "                  Google          0.261029\n",
              "                  Both            0.005515\n",
              "                  Undetermined    0.001838\n",
              "No emotion        Apple           0.506516\n",
              "                  Google          0.322116\n",
              "                  Undetermined    0.135382\n",
              "                  Both            0.035985\n",
              "Positive emotion  Apple           0.715834\n",
              "                  Google          0.276127\n",
              "                  Undetermined    0.004544\n",
              "                  Both            0.003495\n",
              "Name: Brand, dtype: float64"
            ]
          },
          "metadata": {}
        },
        {
          "output_type": "stream",
          "name": "stdout",
          "text": [
            "------------------------------------------------------------\n"
          ]
        },
        {
          "output_type": "display_data",
          "data": {
            "text/plain": [
              "Brand         Sentiment       \n",
              "Apple         No emotion          0.506615\n",
              "              Positive emotion    0.398444\n",
              "              Negative emotion    0.077432\n",
              "              I can't tell        0.017510\n",
              "Both          No emotion          0.902439\n",
              "              Positive emotion    0.048780\n",
              "              I can't tell        0.034146\n",
              "              Negative emotion    0.014634\n",
              "Google        No emotion          0.627986\n",
              "              Positive emotion    0.299583\n",
              "              Negative emotion    0.053849\n",
              "              I can't tell        0.018582\n",
              "Undetermined  No emotion          0.973427\n",
              "              Positive emotion    0.018182\n",
              "              I can't tell        0.006993\n",
              "              Negative emotion    0.001399\n",
              "Name: Sentiment, dtype: float64"
            ]
          },
          "metadata": {}
        }
      ],
      "source": [
        "#looking at sentitmental breakdown of brands\n",
        "display(data.groupby(['Sentiment'])['Brand'].value_counts(normalize = True))\n",
        "print(\"-\"*60)\n",
        "display(data.groupby(['Brand'])['Sentiment'].value_counts(normalize = True))"
      ]
    },
    {
      "cell_type": "code",
      "execution_count": 176,
      "metadata": {
        "colab": {
          "base_uri": "https://localhost:8080/"
        },
        "id": "xi9HtVqy64iu",
        "outputId": "865d3bcf-faa2-468d-ad1a-9948b2dd48a5"
      },
      "outputs": [
        {
          "output_type": "stream",
          "name": "stdout",
          "text": [
            "Undefined                          5537\n",
            "iPad                                909\n",
            "Apple                               638\n",
            "iPad or iPhone App                  450\n",
            "Google                              410\n",
            "iPhone                              287\n",
            "Other Google product or service     282\n",
            "Android App                          77\n",
            "Android                              73\n",
            "Other Apple product or service       34\n",
            "Name: Product, dtype: int64\n",
            "------------------------------------------------------------\n",
            "No emotion          5141\n",
            "Positive emotion    2861\n",
            "Negative emotion     544\n",
            "I can't tell         151\n",
            "Name: Sentiment, dtype: int64\n",
            "------------------------------------------------------------\n",
            "Apple           5140\n",
            "Google          2637\n",
            "Undetermined     715\n",
            "Both             205\n",
            "Name: Brand, dtype: int64\n",
            "------------------------------------------------------------\n"
          ]
        }
      ],
      "source": [
        "#Number of Tweets per product\n",
        "print(data[\"Product\"].value_counts())\n",
        "print(\"-\"*60)\n",
        "#Number of Tweets per Sentiment\n",
        "print(data[\"Sentiment\"].value_counts())\n",
        "print(\"-\"*60)\n",
        "#Number of Tweet per Brand\n",
        "print(data[\"Brand\"].value_counts())\n",
        "print(\"-\"*60)"
      ]
    },
    {
      "cell_type": "code",
      "execution_count": 177,
      "metadata": {
        "colab": {
          "base_uri": "https://localhost:8080/",
          "height": 554
        },
        "id": "K2UoxLg27fY4",
        "outputId": "6e0cc516-7e68-4573-8373-e953b4f451b2"
      },
      "outputs": [
        {
          "output_type": "execute_result",
          "data": {
            "text/plain": [
              "                                                                                                                                                  Tweet  \\\n",
              "0                       .@wesley83 I have a 3G iPhone. After 3 hrs tweeting at #RISE_Austin, it was dead!  I need to upgrade. Plugin stations at #SXSW.   \n",
              "1           @jessedee Know about @fludapp ? Awesome iPad/iPhone app that you'll likely appreciate for its design. Also, they're giving free Ts at #SXSW   \n",
              "2                                                                       @swonderlin Can not wait for #iPad 2 also. They should sale them down at #SXSW.   \n",
              "3                                                                    @sxsw I hope this year's festival isn't as crashy as this year's iPhone app. #sxsw   \n",
              "4                   @sxtxstate great stuff on Fri #SXSW: Marissa Mayer (Google), Tim O'Reilly (tech books/conferences) &amp; Matt Mullenweg (Wordpress)   \n",
              "...                                                                                                                                                 ...   \n",
              "8692                                                @mention Yup, but I don't have a third app yet. I'm on Android, any suggestions? #SXSW CC: @mention   \n",
              "8693                                                                                                                      Ipad everywhere. #SXSW {link}   \n",
              "8694                      Wave, buzz... RT @mention We interrupt your regularly scheduled #sxsw geek programming with big news {link}  #google #circles   \n",
              "8695  Google's Zeiger, a physician never reported potential AE. Yet FDA relies on physicians. &quot;We're operating w/out data.&quot; #sxsw #health2dev   \n",
              "8696       Some Verizon iPhone customers complained their time fell back an hour this weekend.  Of course they were the New Yorkers who attended #SXSW.   \n",
              "\n",
              "                 Product         Sentiment   Brand  \n",
              "0                 iPhone  Negative emotion   Apple  \n",
              "1     iPad or iPhone App  Positive emotion   Apple  \n",
              "2                   iPad  Positive emotion   Apple  \n",
              "3     iPad or iPhone App  Negative emotion   Apple  \n",
              "4                 Google  Positive emotion  Google  \n",
              "...                  ...               ...     ...  \n",
              "8692           Undefined        No emotion  Google  \n",
              "8693                iPad  Positive emotion   Apple  \n",
              "8694           Undefined        No emotion  Google  \n",
              "8695           Undefined        No emotion  Google  \n",
              "8696           Undefined        No emotion   Apple  \n",
              "\n",
              "[8697 rows x 4 columns]"
            ],
            "text/html": [
              "\n",
              "  <div id=\"df-39c4b404-11ce-480d-91d1-b7802cf68847\">\n",
              "    <div class=\"colab-df-container\">\n",
              "      <div>\n",
              "<style scoped>\n",
              "    .dataframe tbody tr th:only-of-type {\n",
              "        vertical-align: middle;\n",
              "    }\n",
              "\n",
              "    .dataframe tbody tr th {\n",
              "        vertical-align: top;\n",
              "    }\n",
              "\n",
              "    .dataframe thead th {\n",
              "        text-align: right;\n",
              "    }\n",
              "</style>\n",
              "<table border=\"1\" class=\"dataframe\">\n",
              "  <thead>\n",
              "    <tr style=\"text-align: right;\">\n",
              "      <th></th>\n",
              "      <th>Tweet</th>\n",
              "      <th>Product</th>\n",
              "      <th>Sentiment</th>\n",
              "      <th>Brand</th>\n",
              "    </tr>\n",
              "  </thead>\n",
              "  <tbody>\n",
              "    <tr>\n",
              "      <th>0</th>\n",
              "      <td>.@wesley83 I have a 3G iPhone. After 3 hrs tweeting at #RISE_Austin, it was dead!  I need to upgrade. Plugin stations at #SXSW.</td>\n",
              "      <td>iPhone</td>\n",
              "      <td>Negative emotion</td>\n",
              "      <td>Apple</td>\n",
              "    </tr>\n",
              "    <tr>\n",
              "      <th>1</th>\n",
              "      <td>@jessedee Know about @fludapp ? Awesome iPad/iPhone app that you'll likely appreciate for its design. Also, they're giving free Ts at #SXSW</td>\n",
              "      <td>iPad or iPhone App</td>\n",
              "      <td>Positive emotion</td>\n",
              "      <td>Apple</td>\n",
              "    </tr>\n",
              "    <tr>\n",
              "      <th>2</th>\n",
              "      <td>@swonderlin Can not wait for #iPad 2 also. They should sale them down at #SXSW.</td>\n",
              "      <td>iPad</td>\n",
              "      <td>Positive emotion</td>\n",
              "      <td>Apple</td>\n",
              "    </tr>\n",
              "    <tr>\n",
              "      <th>3</th>\n",
              "      <td>@sxsw I hope this year's festival isn't as crashy as this year's iPhone app. #sxsw</td>\n",
              "      <td>iPad or iPhone App</td>\n",
              "      <td>Negative emotion</td>\n",
              "      <td>Apple</td>\n",
              "    </tr>\n",
              "    <tr>\n",
              "      <th>4</th>\n",
              "      <td>@sxtxstate great stuff on Fri #SXSW: Marissa Mayer (Google), Tim O'Reilly (tech books/conferences) &amp;amp; Matt Mullenweg (Wordpress)</td>\n",
              "      <td>Google</td>\n",
              "      <td>Positive emotion</td>\n",
              "      <td>Google</td>\n",
              "    </tr>\n",
              "    <tr>\n",
              "      <th>...</th>\n",
              "      <td>...</td>\n",
              "      <td>...</td>\n",
              "      <td>...</td>\n",
              "      <td>...</td>\n",
              "    </tr>\n",
              "    <tr>\n",
              "      <th>8692</th>\n",
              "      <td>@mention Yup, but I don't have a third app yet. I'm on Android, any suggestions? #SXSW CC: @mention</td>\n",
              "      <td>Undefined</td>\n",
              "      <td>No emotion</td>\n",
              "      <td>Google</td>\n",
              "    </tr>\n",
              "    <tr>\n",
              "      <th>8693</th>\n",
              "      <td>Ipad everywhere. #SXSW {link}</td>\n",
              "      <td>iPad</td>\n",
              "      <td>Positive emotion</td>\n",
              "      <td>Apple</td>\n",
              "    </tr>\n",
              "    <tr>\n",
              "      <th>8694</th>\n",
              "      <td>Wave, buzz... RT @mention We interrupt your regularly scheduled #sxsw geek programming with big news {link}  #google #circles</td>\n",
              "      <td>Undefined</td>\n",
              "      <td>No emotion</td>\n",
              "      <td>Google</td>\n",
              "    </tr>\n",
              "    <tr>\n",
              "      <th>8695</th>\n",
              "      <td>Google's Zeiger, a physician never reported potential AE. Yet FDA relies on physicians. &amp;quot;We're operating w/out data.&amp;quot; #sxsw #health2dev</td>\n",
              "      <td>Undefined</td>\n",
              "      <td>No emotion</td>\n",
              "      <td>Google</td>\n",
              "    </tr>\n",
              "    <tr>\n",
              "      <th>8696</th>\n",
              "      <td>Some Verizon iPhone customers complained their time fell back an hour this weekend.  Of course they were the New Yorkers who attended #SXSW.</td>\n",
              "      <td>Undefined</td>\n",
              "      <td>No emotion</td>\n",
              "      <td>Apple</td>\n",
              "    </tr>\n",
              "  </tbody>\n",
              "</table>\n",
              "<p>8697 rows × 4 columns</p>\n",
              "</div>\n",
              "      <button class=\"colab-df-convert\" onclick=\"convertToInteractive('df-39c4b404-11ce-480d-91d1-b7802cf68847')\"\n",
              "              title=\"Convert this dataframe to an interactive table.\"\n",
              "              style=\"display:none;\">\n",
              "        \n",
              "  <svg xmlns=\"http://www.w3.org/2000/svg\" height=\"24px\"viewBox=\"0 0 24 24\"\n",
              "       width=\"24px\">\n",
              "    <path d=\"M0 0h24v24H0V0z\" fill=\"none\"/>\n",
              "    <path d=\"M18.56 5.44l.94 2.06.94-2.06 2.06-.94-2.06-.94-.94-2.06-.94 2.06-2.06.94zm-11 1L8.5 8.5l.94-2.06 2.06-.94-2.06-.94L8.5 2.5l-.94 2.06-2.06.94zm10 10l.94 2.06.94-2.06 2.06-.94-2.06-.94-.94-2.06-.94 2.06-2.06.94z\"/><path d=\"M17.41 7.96l-1.37-1.37c-.4-.4-.92-.59-1.43-.59-.52 0-1.04.2-1.43.59L10.3 9.45l-7.72 7.72c-.78.78-.78 2.05 0 2.83L4 21.41c.39.39.9.59 1.41.59.51 0 1.02-.2 1.41-.59l7.78-7.78 2.81-2.81c.8-.78.8-2.07 0-2.86zM5.41 20L4 18.59l7.72-7.72 1.47 1.35L5.41 20z\"/>\n",
              "  </svg>\n",
              "      </button>\n",
              "      \n",
              "  <style>\n",
              "    .colab-df-container {\n",
              "      display:flex;\n",
              "      flex-wrap:wrap;\n",
              "      gap: 12px;\n",
              "    }\n",
              "\n",
              "    .colab-df-convert {\n",
              "      background-color: #E8F0FE;\n",
              "      border: none;\n",
              "      border-radius: 50%;\n",
              "      cursor: pointer;\n",
              "      display: none;\n",
              "      fill: #1967D2;\n",
              "      height: 32px;\n",
              "      padding: 0 0 0 0;\n",
              "      width: 32px;\n",
              "    }\n",
              "\n",
              "    .colab-df-convert:hover {\n",
              "      background-color: #E2EBFA;\n",
              "      box-shadow: 0px 1px 2px rgba(60, 64, 67, 0.3), 0px 1px 3px 1px rgba(60, 64, 67, 0.15);\n",
              "      fill: #174EA6;\n",
              "    }\n",
              "\n",
              "    [theme=dark] .colab-df-convert {\n",
              "      background-color: #3B4455;\n",
              "      fill: #D2E3FC;\n",
              "    }\n",
              "\n",
              "    [theme=dark] .colab-df-convert:hover {\n",
              "      background-color: #434B5C;\n",
              "      box-shadow: 0px 1px 3px 1px rgba(0, 0, 0, 0.15);\n",
              "      filter: drop-shadow(0px 1px 2px rgba(0, 0, 0, 0.3));\n",
              "      fill: #FFFFFF;\n",
              "    }\n",
              "  </style>\n",
              "\n",
              "      <script>\n",
              "        const buttonEl =\n",
              "          document.querySelector('#df-39c4b404-11ce-480d-91d1-b7802cf68847 button.colab-df-convert');\n",
              "        buttonEl.style.display =\n",
              "          google.colab.kernel.accessAllowed ? 'block' : 'none';\n",
              "\n",
              "        async function convertToInteractive(key) {\n",
              "          const element = document.querySelector('#df-39c4b404-11ce-480d-91d1-b7802cf68847');\n",
              "          const dataTable =\n",
              "            await google.colab.kernel.invokeFunction('convertToInteractive',\n",
              "                                                     [key], {});\n",
              "          if (!dataTable) return;\n",
              "\n",
              "          const docLinkHtml = 'Like what you see? Visit the ' +\n",
              "            '<a target=\"_blank\" href=https://colab.research.google.com/notebooks/data_table.ipynb>data table notebook</a>'\n",
              "            + ' to learn more about interactive tables.';\n",
              "          element.innerHTML = '';\n",
              "          dataTable['output_type'] = 'display_data';\n",
              "          await google.colab.output.renderOutput(dataTable, element);\n",
              "          const docLink = document.createElement('div');\n",
              "          docLink.innerHTML = docLinkHtml;\n",
              "          element.appendChild(docLink);\n",
              "        }\n",
              "      </script>\n",
              "    </div>\n",
              "  </div>\n",
              "  "
            ]
          },
          "metadata": {},
          "execution_count": 177
        }
      ],
      "source": [
        "#Final DataFrame before Preprocessing\n",
        "data"
      ]
    },
    {
      "cell_type": "markdown",
      "metadata": {
        "id": "-si4CJp6ayTF"
      },
      "source": [
        "## DATA PREPROCESSING AND FEATURE ENGINEERING\n",
        "\n",
        "In this phase of the project, we will get to preprocess our data and prepare the text data for modeling by performing the tasks below.\n",
        "\n",
        "use regular expression to remove:\n",
        "- twitter handle\n",
        "- links\n",
        "- hash tags\n",
        "- RT\n",
        "- punctuations\n",
        "\n",
        "remove\n",
        "- stopwords\n",
        "- lowercase\n",
        "- numbers\n",
        "\n",
        "tokenization\n",
        "\n",
        "lemmatization\n",
        "\n",
        "vectorization\n",
        "- count\n",
        "\n",
        "visualization\n",
        "- frequency distribution(FreqDist)\n",
        "- Word Cloud"
      ]
    },
    {
      "cell_type": "markdown",
      "metadata": {
        "id": "_wVfDg2JayTG"
      },
      "source": [
        "First we will start by using regular expression in cleaning the text data stored in 'tweets' column by removing punctuations, links, retweets etc."
      ]
    },
    {
      "cell_type": "code",
      "execution_count": 178,
      "metadata": {
        "id": "RKWAqBc5ayTH"
      },
      "outputs": [],
      "source": [
        "# Use regular expression to clean out the hash tags, links and punctuations from our tweet\n",
        "\n",
        "def strip_links(text):\n",
        "    \"\"\"\n",
        "    Remove links from our text\n",
        "    \"\"\"\n",
        "    link_regex = re.compile('((https?):((//)|(\\\\\\\\))+([\\w\\d:#@%/;$()~_?\\+-=\\\\\\.&](#!)?)*)', re.DOTALL)\n",
        "    links = re.findall(link_regex, text)\n",
        "    for link in links:\n",
        "        text = text.replace(link[0], ', ')    \n",
        "    return text\n",
        "\n",
        "    \n",
        "\n",
        "def strip_all_entities(text):\n",
        "    \"\"\"\n",
        "    Remove user handles, hashtags and punctuations from our text\n",
        "    \"\"\"\n",
        "    entity_prefixes = ['@','#']\n",
        "    for separator in  string.punctuation:\n",
        "        if separator not in entity_prefixes :\n",
        "            text = text.replace(separator,' ')\n",
        "    words = []\n",
        "    for word in text.split():\n",
        "        word = word.strip()\n",
        "        if word:\n",
        "            if word[0] not in entity_prefixes:\n",
        "                words.append(word)\n",
        "    return ' '.join(words)"
      ]
    },
    {
      "cell_type": "markdown",
      "metadata": {
        "id": "MUz9kyGxayTH"
      },
      "source": [
        "we will use the our two functions together  with the map() function to remove the links, tags and user handles from the tweets"
      ]
    },
    {
      "cell_type": "code",
      "execution_count": 179,
      "metadata": {
        "id": "6Lw_ZYkCayTH"
      },
      "outputs": [],
      "source": [
        "# map the functions onto the data set\n",
        "data['Tweet'] = data.Tweet.map(lambda x: strip_all_entities(strip_links(x)))"
      ]
    },
    {
      "cell_type": "code",
      "execution_count": 180,
      "metadata": {
        "id": "wVDbg0WVayTI",
        "outputId": "9a41d1e0-2a2f-40e1-cae0-c70b42a552a8",
        "colab": {
          "base_uri": "https://localhost:8080/"
        }
      },
      "outputs": [
        {
          "output_type": "execute_result",
          "data": {
            "text/plain": [
              "0                                        I have a 3G iPhone After 3 hrs tweeting at Austin it was dead I need to upgrade Plugin stations at\n",
              "1                            Know about Awesome iPad iPhone app that you ll likely appreciate for its design Also they re giving free Ts at\n",
              "2                                                                                     Can not wait for 2 also They should sale them down at\n",
              "3                                                                     I hope this year s festival isn t as crashy as this year s iPhone app\n",
              "4                                  great stuff on Fri Marissa Mayer Google Tim O Reilly tech books conferences amp Matt Mullenweg Wordpress\n",
              "                                                                       ...                                                                 \n",
              "8692                                                                 Yup but I don t have a third app yet I m on Android any suggestions CC\n",
              "8693                                                                                                                   Ipad everywhere link\n",
              "8694                                                 Wave buzz RT We interrupt your regularly scheduled geek programming with big news link\n",
              "8695              Google s Zeiger a physician never reported potential AE Yet FDA relies on physicians quot We re operating w out data quot\n",
              "8696    Some Verizon iPhone customers complained their time fell back an hour this weekend Of course they were the New Yorkers who attended\n",
              "Name: Tweet, Length: 8697, dtype: object"
            ]
          },
          "metadata": {},
          "execution_count": 180
        }
      ],
      "source": [
        "# load the data set\n",
        "data.Tweet"
      ]
    },
    {
      "cell_type": "markdown",
      "metadata": {
        "id": "KNtl-Y4RayTI"
      },
      "source": [
        "Our function has been able to remove the handle, links and hashtags, but from row 8694, we can still see retweets present in our data, represented by the word RT. Because this is a major feature on twitter, it is bound to appear a lot, and thus should be removed as well.\n",
        "\n",
        "Below, we will write a regular xpression to get rid of the RT from our data as well as the term ' link' that were used as placeholders for the links url "
      ]
    },
    {
      "cell_type": "code",
      "execution_count": 181,
      "metadata": {
        "id": "AS0wv7oUayTI",
        "outputId": "9eaec527-7437-49ca-f6b9-bc848683cbb8",
        "colab": {
          "base_uri": "https://localhost:8080/"
        }
      },
      "outputs": [
        {
          "output_type": "execute_result",
          "data": {
            "text/plain": [
              "0                                        I have a 3G iPhone After 3 hrs tweeting at Austin it was dead I need to upgrade Plugin stations at\n",
              "1                            Know about Awesome iPad iPhone app that you ll likely appreciate for its design Also they re giving free Ts at\n",
              "2                                                                                     Can not wait for 2 also They should sale them down at\n",
              "3                                                                     I hope this year s festival isn t as crashy as this year s iPhone app\n",
              "4                                  great stuff on Fri Marissa Mayer Google Tim O Reilly tech books conferences amp Matt Mullenweg Wordpress\n",
              "                                                                       ...                                                                 \n",
              "8692                                                                 Yup but I don t have a third app yet I m on Android any suggestions CC\n",
              "8693                                                                                                                      Ipad everywhere  \n",
              "8694                                                     Wave buzz   We interrupt your regularly scheduled geek programming with big news  \n",
              "8695              Google s Zeiger a physician never reported potential AE Yet FDA relies on physicians quot We re operating w out data quot\n",
              "8696    Some Verizon iPhone customers complained their time fell back an hour this weekend Of course they were the New Yorkers who attended\n",
              "Name: Tweet, Length: 8697, dtype: object"
            ]
          },
          "metadata": {},
          "execution_count": 181
        }
      ],
      "source": [
        "data['Tweet'] = data.Tweet.map(lambda x: re.sub('RT', \" \", x)) # Remove RT (retweet)\n",
        "data['Tweet'] = data.Tweet.map(lambda x: re.sub('link', \" \", x)) # Remove link\n",
        "data.Tweet"
      ]
    },
    {
      "cell_type": "markdown",
      "metadata": {
        "id": "tOzWoiULayTJ"
      },
      "source": [
        "Now that we have that done and dusted. Let's remove the stopwords from our data set, ensure the words are in lower case, and then tokenize our dataset."
      ]
    },
    {
      "cell_type": "code",
      "execution_count": 182,
      "metadata": {
        "id": "CakIIw4HayTJ"
      },
      "outputs": [],
      "source": [
        "# create a word tokenize\n",
        "def tokenize_data(text):\n",
        "    \"\"\"\n",
        "    A function responsible for tokenizing our sentences\n",
        "    \"\"\"\n",
        "    # tokenize the data\n",
        "    tokens = word_tokenize(text)\n",
        "\n",
        "    # create our stopwords\n",
        "    stopwords_list = stopwords.words('english')\n",
        "    stopwords_list += [str(x) for x in range(10)]\n",
        "\n",
        "    # convert everything to lowercase\n",
        "    clean_list = [word.lower() for word in tokens if word.lower() not in stopwords_list]\n",
        "\n",
        "    return clean_list"
      ]
    },
    {
      "cell_type": "code",
      "execution_count": 183,
      "metadata": {
        "id": "5h2J7lS-ayTJ",
        "outputId": "b8708862-b25b-4ed3-b21d-cf5b6747fadc",
        "colab": {
          "base_uri": "https://localhost:8080/"
        }
      },
      "outputs": [
        {
          "output_type": "execute_result",
          "data": {
            "text/plain": [
              "0                                                      [3g, iphone, hrs, tweeting, austin, dead, need, upgrade, plugin, stations]\n",
              "1                                          [know, awesome, ipad, iphone, app, likely, appreciate, design, also, giving, free, ts]\n",
              "2                                                                                                              [wait, also, sale]\n",
              "3                                                                               [hope, year, festival, crashy, year, iphone, app]\n",
              "4             [great, stuff, fri, marissa, mayer, google, tim, reilly, tech, books, conferences, amp, matt, mullenweg, wordpress]\n",
              "                                                                  ...                                                            \n",
              "8692                                                                             [yup, third, app, yet, android, suggestions, cc]\n",
              "8693                                                                                                           [ipad, everywhere]\n",
              "8694                                                  [wave, buzz, interrupt, regularly, scheduled, geek, programming, big, news]\n",
              "8695    [google, zeiger, physician, never, reported, potential, ae, yet, fda, relies, physicians, quot, operating, w, data, quot]\n",
              "8696                    [verizon, iphone, customers, complained, time, fell, back, hour, weekend, course, new, yorkers, attended]\n",
              "Name: Tweet, Length: 8697, dtype: object"
            ]
          },
          "metadata": {},
          "execution_count": 183
        }
      ],
      "source": [
        "data['Tweet'] = data.Tweet.map(lambda x: tokenize_data(x))\n",
        "data.Tweet"
      ]
    },
    {
      "cell_type": "markdown",
      "metadata": {
        "id": "ZMM4z_brayTJ"
      },
      "source": [
        "Below, i will load the dataset after cleaning and tokenizing."
      ]
    },
    {
      "cell_type": "code",
      "execution_count": 184,
      "metadata": {
        "id": "uasBQj3CayTK",
        "outputId": "f3da229b-fce6-43e7-f6f4-5fa590b62484",
        "colab": {
          "base_uri": "https://localhost:8080/",
          "height": 424
        }
      },
      "outputs": [
        {
          "output_type": "execute_result",
          "data": {
            "text/plain": [
              "                                                                                                                          Tweet  \\\n",
              "0                                                    [3g, iphone, hrs, tweeting, austin, dead, need, upgrade, plugin, stations]   \n",
              "1                                        [know, awesome, ipad, iphone, app, likely, appreciate, design, also, giving, free, ts]   \n",
              "2                                                                                                            [wait, also, sale]   \n",
              "3                                                                             [hope, year, festival, crashy, year, iphone, app]   \n",
              "4           [great, stuff, fri, marissa, mayer, google, tim, reilly, tech, books, conferences, amp, matt, mullenweg, wordpress]   \n",
              "...                                                                                                                         ...   \n",
              "8692                                                                           [yup, third, app, yet, android, suggestions, cc]   \n",
              "8693                                                                                                         [ipad, everywhere]   \n",
              "8694                                                [wave, buzz, interrupt, regularly, scheduled, geek, programming, big, news]   \n",
              "8695  [google, zeiger, physician, never, reported, potential, ae, yet, fda, relies, physicians, quot, operating, w, data, quot]   \n",
              "8696                  [verizon, iphone, customers, complained, time, fell, back, hour, weekend, course, new, yorkers, attended]   \n",
              "\n",
              "                 Product         Sentiment   Brand  \n",
              "0                 iPhone  Negative emotion   Apple  \n",
              "1     iPad or iPhone App  Positive emotion   Apple  \n",
              "2                   iPad  Positive emotion   Apple  \n",
              "3     iPad or iPhone App  Negative emotion   Apple  \n",
              "4                 Google  Positive emotion  Google  \n",
              "...                  ...               ...     ...  \n",
              "8692           Undefined        No emotion  Google  \n",
              "8693                iPad  Positive emotion   Apple  \n",
              "8694           Undefined        No emotion  Google  \n",
              "8695           Undefined        No emotion  Google  \n",
              "8696           Undefined        No emotion   Apple  \n",
              "\n",
              "[8697 rows x 4 columns]"
            ],
            "text/html": [
              "\n",
              "  <div id=\"df-ad35077d-102a-48ed-bfcc-5b800d2d1d52\">\n",
              "    <div class=\"colab-df-container\">\n",
              "      <div>\n",
              "<style scoped>\n",
              "    .dataframe tbody tr th:only-of-type {\n",
              "        vertical-align: middle;\n",
              "    }\n",
              "\n",
              "    .dataframe tbody tr th {\n",
              "        vertical-align: top;\n",
              "    }\n",
              "\n",
              "    .dataframe thead th {\n",
              "        text-align: right;\n",
              "    }\n",
              "</style>\n",
              "<table border=\"1\" class=\"dataframe\">\n",
              "  <thead>\n",
              "    <tr style=\"text-align: right;\">\n",
              "      <th></th>\n",
              "      <th>Tweet</th>\n",
              "      <th>Product</th>\n",
              "      <th>Sentiment</th>\n",
              "      <th>Brand</th>\n",
              "    </tr>\n",
              "  </thead>\n",
              "  <tbody>\n",
              "    <tr>\n",
              "      <th>0</th>\n",
              "      <td>[3g, iphone, hrs, tweeting, austin, dead, need, upgrade, plugin, stations]</td>\n",
              "      <td>iPhone</td>\n",
              "      <td>Negative emotion</td>\n",
              "      <td>Apple</td>\n",
              "    </tr>\n",
              "    <tr>\n",
              "      <th>1</th>\n",
              "      <td>[know, awesome, ipad, iphone, app, likely, appreciate, design, also, giving, free, ts]</td>\n",
              "      <td>iPad or iPhone App</td>\n",
              "      <td>Positive emotion</td>\n",
              "      <td>Apple</td>\n",
              "    </tr>\n",
              "    <tr>\n",
              "      <th>2</th>\n",
              "      <td>[wait, also, sale]</td>\n",
              "      <td>iPad</td>\n",
              "      <td>Positive emotion</td>\n",
              "      <td>Apple</td>\n",
              "    </tr>\n",
              "    <tr>\n",
              "      <th>3</th>\n",
              "      <td>[hope, year, festival, crashy, year, iphone, app]</td>\n",
              "      <td>iPad or iPhone App</td>\n",
              "      <td>Negative emotion</td>\n",
              "      <td>Apple</td>\n",
              "    </tr>\n",
              "    <tr>\n",
              "      <th>4</th>\n",
              "      <td>[great, stuff, fri, marissa, mayer, google, tim, reilly, tech, books, conferences, amp, matt, mullenweg, wordpress]</td>\n",
              "      <td>Google</td>\n",
              "      <td>Positive emotion</td>\n",
              "      <td>Google</td>\n",
              "    </tr>\n",
              "    <tr>\n",
              "      <th>...</th>\n",
              "      <td>...</td>\n",
              "      <td>...</td>\n",
              "      <td>...</td>\n",
              "      <td>...</td>\n",
              "    </tr>\n",
              "    <tr>\n",
              "      <th>8692</th>\n",
              "      <td>[yup, third, app, yet, android, suggestions, cc]</td>\n",
              "      <td>Undefined</td>\n",
              "      <td>No emotion</td>\n",
              "      <td>Google</td>\n",
              "    </tr>\n",
              "    <tr>\n",
              "      <th>8693</th>\n",
              "      <td>[ipad, everywhere]</td>\n",
              "      <td>iPad</td>\n",
              "      <td>Positive emotion</td>\n",
              "      <td>Apple</td>\n",
              "    </tr>\n",
              "    <tr>\n",
              "      <th>8694</th>\n",
              "      <td>[wave, buzz, interrupt, regularly, scheduled, geek, programming, big, news]</td>\n",
              "      <td>Undefined</td>\n",
              "      <td>No emotion</td>\n",
              "      <td>Google</td>\n",
              "    </tr>\n",
              "    <tr>\n",
              "      <th>8695</th>\n",
              "      <td>[google, zeiger, physician, never, reported, potential, ae, yet, fda, relies, physicians, quot, operating, w, data, quot]</td>\n",
              "      <td>Undefined</td>\n",
              "      <td>No emotion</td>\n",
              "      <td>Google</td>\n",
              "    </tr>\n",
              "    <tr>\n",
              "      <th>8696</th>\n",
              "      <td>[verizon, iphone, customers, complained, time, fell, back, hour, weekend, course, new, yorkers, attended]</td>\n",
              "      <td>Undefined</td>\n",
              "      <td>No emotion</td>\n",
              "      <td>Apple</td>\n",
              "    </tr>\n",
              "  </tbody>\n",
              "</table>\n",
              "<p>8697 rows × 4 columns</p>\n",
              "</div>\n",
              "      <button class=\"colab-df-convert\" onclick=\"convertToInteractive('df-ad35077d-102a-48ed-bfcc-5b800d2d1d52')\"\n",
              "              title=\"Convert this dataframe to an interactive table.\"\n",
              "              style=\"display:none;\">\n",
              "        \n",
              "  <svg xmlns=\"http://www.w3.org/2000/svg\" height=\"24px\"viewBox=\"0 0 24 24\"\n",
              "       width=\"24px\">\n",
              "    <path d=\"M0 0h24v24H0V0z\" fill=\"none\"/>\n",
              "    <path d=\"M18.56 5.44l.94 2.06.94-2.06 2.06-.94-2.06-.94-.94-2.06-.94 2.06-2.06.94zm-11 1L8.5 8.5l.94-2.06 2.06-.94-2.06-.94L8.5 2.5l-.94 2.06-2.06.94zm10 10l.94 2.06.94-2.06 2.06-.94-2.06-.94-.94-2.06-.94 2.06-2.06.94z\"/><path d=\"M17.41 7.96l-1.37-1.37c-.4-.4-.92-.59-1.43-.59-.52 0-1.04.2-1.43.59L10.3 9.45l-7.72 7.72c-.78.78-.78 2.05 0 2.83L4 21.41c.39.39.9.59 1.41.59.51 0 1.02-.2 1.41-.59l7.78-7.78 2.81-2.81c.8-.78.8-2.07 0-2.86zM5.41 20L4 18.59l7.72-7.72 1.47 1.35L5.41 20z\"/>\n",
              "  </svg>\n",
              "      </button>\n",
              "      \n",
              "  <style>\n",
              "    .colab-df-container {\n",
              "      display:flex;\n",
              "      flex-wrap:wrap;\n",
              "      gap: 12px;\n",
              "    }\n",
              "\n",
              "    .colab-df-convert {\n",
              "      background-color: #E8F0FE;\n",
              "      border: none;\n",
              "      border-radius: 50%;\n",
              "      cursor: pointer;\n",
              "      display: none;\n",
              "      fill: #1967D2;\n",
              "      height: 32px;\n",
              "      padding: 0 0 0 0;\n",
              "      width: 32px;\n",
              "    }\n",
              "\n",
              "    .colab-df-convert:hover {\n",
              "      background-color: #E2EBFA;\n",
              "      box-shadow: 0px 1px 2px rgba(60, 64, 67, 0.3), 0px 1px 3px 1px rgba(60, 64, 67, 0.15);\n",
              "      fill: #174EA6;\n",
              "    }\n",
              "\n",
              "    [theme=dark] .colab-df-convert {\n",
              "      background-color: #3B4455;\n",
              "      fill: #D2E3FC;\n",
              "    }\n",
              "\n",
              "    [theme=dark] .colab-df-convert:hover {\n",
              "      background-color: #434B5C;\n",
              "      box-shadow: 0px 1px 3px 1px rgba(0, 0, 0, 0.15);\n",
              "      filter: drop-shadow(0px 1px 2px rgba(0, 0, 0, 0.3));\n",
              "      fill: #FFFFFF;\n",
              "    }\n",
              "  </style>\n",
              "\n",
              "      <script>\n",
              "        const buttonEl =\n",
              "          document.querySelector('#df-ad35077d-102a-48ed-bfcc-5b800d2d1d52 button.colab-df-convert');\n",
              "        buttonEl.style.display =\n",
              "          google.colab.kernel.accessAllowed ? 'block' : 'none';\n",
              "\n",
              "        async function convertToInteractive(key) {\n",
              "          const element = document.querySelector('#df-ad35077d-102a-48ed-bfcc-5b800d2d1d52');\n",
              "          const dataTable =\n",
              "            await google.colab.kernel.invokeFunction('convertToInteractive',\n",
              "                                                     [key], {});\n",
              "          if (!dataTable) return;\n",
              "\n",
              "          const docLinkHtml = 'Like what you see? Visit the ' +\n",
              "            '<a target=\"_blank\" href=https://colab.research.google.com/notebooks/data_table.ipynb>data table notebook</a>'\n",
              "            + ' to learn more about interactive tables.';\n",
              "          element.innerHTML = '';\n",
              "          dataTable['output_type'] = 'display_data';\n",
              "          await google.colab.output.renderOutput(dataTable, element);\n",
              "          const docLink = document.createElement('div');\n",
              "          docLink.innerHTML = docLinkHtml;\n",
              "          element.appendChild(docLink);\n",
              "        }\n",
              "      </script>\n",
              "    </div>\n",
              "  </div>\n",
              "  "
            ]
          },
          "metadata": {},
          "execution_count": 184
        }
      ],
      "source": [
        "# load the cleaned data\n",
        "data"
      ]
    },
    {
      "cell_type": "markdown",
      "metadata": {
        "id": "wuS_vE17ayTK"
      },
      "source": [
        "After cleaning and tokenizing our data, the next step in our text preparation will be lemmatization. Lemmatization helps in transforming the text data by removing the suffixes of our data. Since lemmatizing uses part-of-speech tagging to determine how to transform a word, we'll need to incoperate word net in the lammetization."
      ]
    },
    {
      "cell_type": "markdown",
      "metadata": {
        "id": "pkJdAQNxayTK"
      },
      "source": [
        "Based on this below, i will create a function that converts the nltk parts-of-speech to wordnet tags. basically inputs the nltk pos tags and outputs the wordnet lemmatizer tags that can be interpretted by out lemmatizier"
      ]
    },
    {
      "cell_type": "code",
      "execution_count": 185,
      "metadata": {
        "id": "X2n9K9rZayTK",
        "outputId": "11041c33-47f0-476f-9556-ca2447bf84b3",
        "colab": {
          "base_uri": "https://localhost:8080/"
        }
      },
      "outputs": [
        {
          "output_type": "execute_result",
          "data": {
            "text/plain": [
              "True"
            ]
          },
          "metadata": {},
          "execution_count": 185
        }
      ],
      "source": [
        "nltk.download('averaged_perceptron_tagger', quiet=True)"
      ]
    },
    {
      "cell_type": "code",
      "execution_count": 186,
      "metadata": {
        "id": "tEAMRIFoayTL",
        "outputId": "88df49e3-803c-41f7-fbde-f39549042280",
        "colab": {
          "base_uri": "https://localhost:8080/"
        }
      },
      "outputs": [
        {
          "output_type": "execute_result",
          "data": {
            "text/plain": [
              "True"
            ]
          },
          "metadata": {},
          "execution_count": 186
        }
      ],
      "source": [
        "nltk.download('tagsets', quiet=True)"
      ]
    },
    {
      "cell_type": "code",
      "execution_count": 187,
      "metadata": {
        "id": "eY5sIBH_ayTL"
      },
      "outputs": [],
      "source": [
        "def wordnet_pos(word_tag):\n",
        "    '''\n",
        "    Translate nltk POS to wordnet tags\n",
        "    '''\n",
        "    if word_tag.startswith('J'):\n",
        "        return wordnet.ADJ\n",
        "    elif word_tag.startswith('V'):\n",
        "        return wordnet.VERB\n",
        "    elif word_tag.startswith('N'):\n",
        "        return wordnet.NOUN\n",
        "    elif word_tag.startswith('R'):\n",
        "        return wordnet.ADV\n",
        "    else:\n",
        "        return wordnet.NOUN"
      ]
    },
    {
      "cell_type": "code",
      "execution_count": 188,
      "metadata": {
        "id": "Nqic5JDtayTL",
        "outputId": "4b86812e-fa42-4172-c671-e07523976604",
        "colab": {
          "base_uri": "https://localhost:8080/"
        }
      },
      "outputs": [
        {
          "output_type": "execute_result",
          "data": {
            "text/plain": [
              "['3g',\n",
              " 'iphone',\n",
              " 'hrs',\n",
              " 'tweeting',\n",
              " 'austin',\n",
              " 'dead',\n",
              " 'need',\n",
              " 'upgrade',\n",
              " 'plugin',\n",
              " 'stations']"
            ]
          },
          "metadata": {},
          "execution_count": 188
        }
      ],
      "source": [
        "u = data['Tweet'][0]\n",
        "u"
      ]
    },
    {
      "cell_type": "code",
      "execution_count": 189,
      "metadata": {
        "id": "1VjuPXQtayTM",
        "outputId": "9ce527bc-0f94-47a4-e0c6-2537cc29875f",
        "colab": {
          "base_uri": "https://localhost:8080/"
        }
      },
      "outputs": [
        {
          "output_type": "execute_result",
          "data": {
            "text/plain": [
              "[('3g', 'CD'),\n",
              " ('iphone', 'NN'),\n",
              " ('hrs', 'NN'),\n",
              " ('tweeting', 'VBG'),\n",
              " ('austin', 'NNS'),\n",
              " ('dead', 'JJ'),\n",
              " ('need', 'VBP'),\n",
              " ('upgrade', 'JJ'),\n",
              " ('plugin', 'NN'),\n",
              " ('stations', 'NNS')]"
            ]
          },
          "metadata": {},
          "execution_count": 189
        }
      ],
      "source": [
        "u = pos_tag(u)\n",
        "u"
      ]
    },
    {
      "cell_type": "code",
      "execution_count": 190,
      "metadata": {
        "id": "_92FXkQvayTM"
      },
      "outputs": [],
      "source": [
        " # inastantiate the lemmatizer\n",
        "lemmatizer = WordNetLemmatizer() "
      ]
    },
    {
      "cell_type": "code",
      "execution_count": 191,
      "metadata": {
        "id": "yUahZpP1ayTM",
        "outputId": "c08c0c03-8874-460e-814e-7005ac8a5b42",
        "colab": {
          "base_uri": "https://localhost:8080/"
        }
      },
      "outputs": [
        {
          "output_type": "execute_result",
          "data": {
            "text/plain": [
              "0                                                      [3g, iphone, hrs, tweeting, austin, dead, need, upgrade, plugin, stations]\n",
              "1                                          [know, awesome, ipad, iphone, app, likely, appreciate, design, also, giving, free, ts]\n",
              "2                                                                                                              [wait, also, sale]\n",
              "3                                                                               [hope, year, festival, crashy, year, iphone, app]\n",
              "4             [great, stuff, fri, marissa, mayer, google, tim, reilly, tech, books, conferences, amp, matt, mullenweg, wordpress]\n",
              "                                                                  ...                                                            \n",
              "8692                                                                             [yup, third, app, yet, android, suggestions, cc]\n",
              "8693                                                                                                           [ipad, everywhere]\n",
              "8694                                                  [wave, buzz, interrupt, regularly, scheduled, geek, programming, big, news]\n",
              "8695    [google, zeiger, physician, never, reported, potential, ae, yet, fda, relies, physicians, quot, operating, w, data, quot]\n",
              "8696                    [verizon, iphone, customers, complained, time, fell, back, hour, weekend, course, new, yorkers, attended]\n",
              "Name: Tweet, Length: 8697, dtype: object"
            ]
          },
          "metadata": {},
          "execution_count": 191
        }
      ],
      "source": [
        "X = data['Tweet']\n",
        "X"
      ]
    },
    {
      "cell_type": "code",
      "execution_count": 192,
      "metadata": {
        "id": "l4cjXVbqayTN"
      },
      "outputs": [],
      "source": [
        "def word_lemma(text):\n",
        "    \n",
        "    word_pos_tags = pos_tag(text)\n",
        "    \n",
        "    word_net_tag = [(text[0], wordnet_pos(text[1])) for text in word_pos_tags]\n",
        "    \n",
        "    lemma_word = [lemmatizer.lemmatize(text[0], text[1]) for text in word_net_tag]\n",
        "    \n",
        "    return lemma_word\n",
        "    \n",
        "    \n"
      ]
    },
    {
      "cell_type": "code",
      "execution_count": 193,
      "metadata": {
        "id": "RUHgNG2xayTN"
      },
      "outputs": [],
      "source": [
        "data['Tweet'] = X.map(lambda x: word_lemma(x))\n"
      ]
    },
    {
      "cell_type": "code",
      "execution_count": 194,
      "metadata": {
        "id": "7gpEWP6XayTN",
        "outputId": "39e59b86-2acc-4a6a-9abc-e1922258a820",
        "colab": {
          "base_uri": "https://localhost:8080/"
        }
      },
      "outputs": [
        {
          "output_type": "execute_result",
          "data": {
            "text/plain": [
              "0                                                       [3g, iphone, hr, tweet, austin, dead, need, upgrade, plugin, station]\n",
              "1                                         [know, awesome, ipad, iphone, app, likely, appreciate, design, also, give, free, t]\n",
              "2                                                                                                          [wait, also, sale]\n",
              "3                                                                           [hope, year, festival, crashy, year, iphone, app]\n",
              "4           [great, stuff, fri, marissa, mayer, google, tim, reilly, tech, book, conference, amp, matt, mullenweg, wordpress]\n",
              "                                                                ...                                                          \n",
              "8692                                                                          [yup, third, app, yet, android, suggestion, cc]\n",
              "8693                                                                                                       [ipad, everywhere]\n",
              "8694                                                   [wave, buzz, interrupt, regularly, schedule, geek, program, big, news]\n",
              "8695    [google, zeiger, physician, never, report, potential, ae, yet, fda, relies, physicians, quot, operate, w, data, quot]\n",
              "8696                     [verizon, iphone, customer, complain, time, fell, back, hour, weekend, course, new, yorkers, attend]\n",
              "Name: Tweet, Length: 8697, dtype: object"
            ]
          },
          "metadata": {},
          "execution_count": 194
        }
      ],
      "source": [
        "data['Tweet']"
      ]
    },
    {
      "cell_type": "markdown",
      "metadata": {
        "id": "tm1nqhIbayTN"
      },
      "source": [
        "### Plot a Frequency Distribution "
      ]
    },
    {
      "cell_type": "code",
      "execution_count": 195,
      "metadata": {
        "scrolled": false,
        "id": "vxCb6PMKayTO",
        "outputId": "90efe242-1b1c-42f9-ea24-34218a7d637f",
        "colab": {
          "base_uri": "https://localhost:8080/",
          "height": 648
        }
      },
      "outputs": [
        {
          "output_type": "display_data",
          "data": {
            "text/plain": [
              "<Figure size 1080x720 with 1 Axes>"
            ],
            "image/png": "[encoded data removed]"
          },
          "metadata": {
            "needs_background": "light"
          }
        }
      ],
      "source": [
        "sample = data['Tweet']\n",
        "freq1_dist = []\n",
        "\n",
        "for tweet in sample:\n",
        "    freq1_dist.extend(tweet)\n",
        "    \n",
        "fdist = FreqDist(freq1_dist)\n",
        "plt.figure(figsize=(15, 10))\n",
        "fdist.plot(50);"
      ]
    },
    {
      "cell_type": "code",
      "source": [
        "fdist.most_common(200)"
      ],
      "metadata": {
        "colab": {
          "base_uri": "https://localhost:8080/"
        },
        "id": "cQLsvCfrikKo",
        "outputId": "4869cb68-3973-4365-8aed-3e785ab3925a"
      },
      "execution_count": 199,
      "outputs": [
        {
          "output_type": "execute_result",
          "data": {
            "text/plain": [
              "[('google', 2258),\n",
              " ('ipad', 2200),\n",
              " ('apple', 1855),\n",
              " ('quot', 1621),\n",
              " ('store', 1456),\n",
              " ('iphone', 1273),\n",
              " ('new', 1063),\n",
              " ('austin', 834),\n",
              " ('amp', 798),\n",
              " ('launch', 783),\n",
              " ('app', 776),\n",
              " ('get', 697),\n",
              " ('social', 621),\n",
              " ('circle', 576),\n",
              " ('today', 567),\n",
              " ('pop', 565),\n",
              " ('sxsw', 488),\n",
              " ('open', 481),\n",
              " ('go', 474),\n",
              " ('network', 457),\n",
              " ('android', 449),\n",
              " ('line', 442),\n",
              " ('via', 407),\n",
              " ('call', 391),\n",
              " ('party', 385),\n",
              " ('free', 360),\n",
              " ('come', 338),\n",
              " ('one', 308),\n",
              " ('mobile', 306),\n",
              " ('like', 304),\n",
              " ('see', 303),\n",
              " ('time', 297),\n",
              " ('major', 295),\n",
              " ('check', 294),\n",
              " ('use', 287),\n",
              " ('make', 281),\n",
              " ('day', 276),\n",
              " ('map', 260),\n",
              " ('u', 256),\n",
              " ('temporary', 256),\n",
              " ('win', 254),\n",
              " ('w', 254),\n",
              " ('���', 253),\n",
              " ('need', 237),\n",
              " ('possibly', 237),\n",
              " ('look', 230),\n",
              " ('people', 227),\n",
              " ('mention', 224),\n",
              " ('design', 216),\n",
              " ('great', 216),\n",
              " ('downtown', 216),\n",
              " ('say', 211),\n",
              " ('know', 210),\n",
              " ('mayer', 206),\n",
              " ('think', 203),\n",
              " ('@', 203),\n",
              " ('apps', 200),\n",
              " ('popup', 197),\n",
              " ('good', 187),\n",
              " ('talk', 186),\n",
              " ('take', 184),\n",
              " ('set', 184),\n",
              " ('give', 183),\n",
              " ('marissa', 180),\n",
              " ('show', 180),\n",
              " ('want', 170),\n",
              " ('year', 165),\n",
              " ('first', 165),\n",
              " ('big', 165),\n",
              " ('love', 162),\n",
              " ('product', 162),\n",
              " ('ipad2', 160),\n",
              " ('guy', 152),\n",
              " ('panel', 150),\n",
              " ('cool', 150),\n",
              " ('game', 148),\n",
              " ('user', 148),\n",
              " ('search', 148),\n",
              " ('rumor', 148),\n",
              " ('tweet', 147),\n",
              " ('buy', 147),\n",
              " ('next', 146),\n",
              " ('best', 140),\n",
              " ('location', 139),\n",
              " ('find', 136),\n",
              " ('news', 136),\n",
              " ('work', 135),\n",
              " ('sell', 132),\n",
              " ('wait', 131),\n",
              " ('thanks', 130),\n",
              " ('around', 129),\n",
              " ('shop', 129),\n",
              " ('download', 128),\n",
              " ('thing', 126),\n",
              " ('awesome', 124),\n",
              " ('would', 124),\n",
              " ('phone', 124),\n",
              " ('last', 123),\n",
              " ('video', 120),\n",
              " ('music', 119),\n",
              " ('session', 119),\n",
              " ('case', 117),\n",
              " ('right', 117),\n",
              " ('head', 116),\n",
              " ('update', 115),\n",
              " ('anyone', 115),\n",
              " ('gt', 114),\n",
              " ('include', 112),\n",
              " ('well', 112),\n",
              " ('even', 112),\n",
              " ('really', 107),\n",
              " ('still', 105),\n",
              " ('11', 105),\n",
              " ('week', 104),\n",
              " ('team', 102),\n",
              " ('bing', 102),\n",
              " ('booth', 102),\n",
              " ('congress', 101),\n",
              " ('start', 100),\n",
              " ('hey', 99),\n",
              " ('future', 97),\n",
              " ('way', 97),\n",
              " ('event', 96),\n",
              " ('6th', 96),\n",
              " ('live', 92),\n",
              " ('world', 91),\n",
              " ('10', 91),\n",
              " ('save', 90),\n",
              " ('heard', 89),\n",
              " ('leave', 88),\n",
              " ('everyone', 88),\n",
              " ('ipads', 87),\n",
              " ('let', 87),\n",
              " ('tonight', 86),\n",
              " ('twitter', 86),\n",
              " ('hour', 85),\n",
              " ('may', 85),\n",
              " ('blackberry', 85),\n",
              " ('tv', 85),\n",
              " ('feature', 84),\n",
              " ('com', 83),\n",
              " ('long', 83),\n",
              " ('back', 83),\n",
              " ('nice', 82),\n",
              " ('fun', 82),\n",
              " ('try', 82),\n",
              " ('��', 81),\n",
              " ('web', 80),\n",
              " ('lot', 80),\n",
              " ('digital', 79),\n",
              " ('also', 78),\n",
              " ('meet', 78),\n",
              " ('play', 78),\n",
              " ('could', 78),\n",
              " ('ever', 77),\n",
              " ('away', 77),\n",
              " ('geek', 77),\n",
              " ('photo', 76),\n",
              " ('temp', 76),\n",
              " ('code', 76),\n",
              " ('many', 75),\n",
              " ('yes', 75),\n",
              " ('release', 75),\n",
              " ('keep', 75),\n",
              " ('share', 73),\n",
              " ('conference', 72),\n",
              " ('bring', 72),\n",
              " ('tomorrow', 71),\n",
              " ('please', 71),\n",
              " ('v', 71),\n",
              " ('night', 70),\n",
              " ('friend', 70),\n",
              " ('place', 70),\n",
              " ('detail', 70),\n",
              " ('uberguide', 69),\n",
              " ('help', 69),\n",
              " ('fast', 69),\n",
              " ('pic', 69),\n",
              " ('block', 69),\n",
              " ('platform', 68),\n",
              " ('already', 68),\n",
              " ('others', 68),\n",
              " ('someone', 67),\n",
              " ('facebook', 67),\n",
              " ('much', 67),\n",
              " ('interactive', 66),\n",
              " ('ready', 66),\n",
              " ('every', 66),\n",
              " ('12', 66),\n",
              " ('stop', 65),\n",
              " ('join', 65),\n",
              " ('service', 65),\n",
              " ('tech', 64),\n",
              " ('hand', 64),\n",
              " ('laptop', 64),\n",
              " ('connect', 63),\n",
              " ('post', 63),\n",
              " ('company', 63),\n",
              " ('begin', 63),\n",
              " ('smart', 62)]"
            ]
          },
          "metadata": {},
          "execution_count": 199
        }
      ]
    },
    {
      "cell_type": "markdown",
      "metadata": {
        "id": "AusbkfXMayTO"
      },
      "source": []
    },
    {
      "cell_type": "code",
      "execution_count": 132,
      "metadata": {
        "scrolled": true,
        "id": "z4oZ-CIeayTO",
        "outputId": "0cad7b2e-990a-4bb9-a915-d102d2859500",
        "colab": {
          "base_uri": "https://localhost:8080/",
          "height": 424
        }
      },
      "outputs": [
        {
          "output_type": "execute_result",
          "data": {
            "text/plain": [
              "                                                                                                                      Tweet  \\\n",
              "0                                                     [3g, iphone, hr, tweet, austin, dead, need, upgrade, plugin, station]   \n",
              "1                                       [know, awesome, ipad, iphone, app, likely, appreciate, design, also, give, free, t]   \n",
              "2                                                                                                        [wait, also, sale]   \n",
              "3                                                                         [hope, year, festival, crashy, year, iphone, app]   \n",
              "4         [great, stuff, fri, marissa, mayer, google, tim, reilly, tech, book, conference, amp, matt, mullenweg, wordpress]   \n",
              "...                                                                                                                     ...   \n",
              "8692                                                                        [yup, third, app, yet, android, suggestion, cc]   \n",
              "8693                                                                                                     [ipad, everywhere]   \n",
              "8694                                                 [wave, buzz, interrupt, regularly, schedule, geek, program, big, news]   \n",
              "8695  [google, zeiger, physician, never, report, potential, ae, yet, fda, relies, physicians, quot, operate, w, data, quot]   \n",
              "8696                   [verizon, iphone, customer, complain, time, fell, back, hour, weekend, course, new, yorkers, attend]   \n",
              "\n",
              "                 Product         Sentiment   Brand  \n",
              "0                 iPhone  Negative emotion   Apple  \n",
              "1     iPad or iPhone App  Positive emotion   Apple  \n",
              "2                   iPad  Positive emotion   Apple  \n",
              "3     iPad or iPhone App  Negative emotion   Apple  \n",
              "4                 Google  Positive emotion  Google  \n",
              "...                  ...               ...     ...  \n",
              "8692           Undefined        No emotion  Google  \n",
              "8693                iPad  Positive emotion   Apple  \n",
              "8694           Undefined        No emotion  Google  \n",
              "8695           Undefined        No emotion  Google  \n",
              "8696           Undefined        No emotion   Apple  \n",
              "\n",
              "[8697 rows x 4 columns]"
            ],
            "text/html": [
              "\n",
              "  <div id=\"df-88670ccd-d20a-4b3c-9812-3ea45e0dc7a0\">\n",
              "    <div class=\"colab-df-container\">\n",
              "      <div>\n",
              "<style scoped>\n",
              "    .dataframe tbody tr th:only-of-type {\n",
              "        vertical-align: middle;\n",
              "    }\n",
              "\n",
              "    .dataframe tbody tr th {\n",
              "        vertical-align: top;\n",
              "    }\n",
              "\n",
              "    .dataframe thead th {\n",
              "        text-align: right;\n",
              "    }\n",
              "</style>\n",
              "<table border=\"1\" class=\"dataframe\">\n",
              "  <thead>\n",
              "    <tr style=\"text-align: right;\">\n",
              "      <th></th>\n",
              "      <th>Tweet</th>\n",
              "      <th>Product</th>\n",
              "      <th>Sentiment</th>\n",
              "      <th>Brand</th>\n",
              "    </tr>\n",
              "  </thead>\n",
              "  <tbody>\n",
              "    <tr>\n",
              "      <th>0</th>\n",
              "      <td>[3g, iphone, hr, tweet, austin, dead, need, upgrade, plugin, station]</td>\n",
              "      <td>iPhone</td>\n",
              "      <td>Negative emotion</td>\n",
              "      <td>Apple</td>\n",
              "    </tr>\n",
              "    <tr>\n",
              "      <th>1</th>\n",
              "      <td>[know, awesome, ipad, iphone, app, likely, appreciate, design, also, give, free, t]</td>\n",
              "      <td>iPad or iPhone App</td>\n",
              "      <td>Positive emotion</td>\n",
              "      <td>Apple</td>\n",
              "    </tr>\n",
              "    <tr>\n",
              "      <th>2</th>\n",
              "      <td>[wait, also, sale]</td>\n",
              "      <td>iPad</td>\n",
              "      <td>Positive emotion</td>\n",
              "      <td>Apple</td>\n",
              "    </tr>\n",
              "    <tr>\n",
              "      <th>3</th>\n",
              "      <td>[hope, year, festival, crashy, year, iphone, app]</td>\n",
              "      <td>iPad or iPhone App</td>\n",
              "      <td>Negative emotion</td>\n",
              "      <td>Apple</td>\n",
              "    </tr>\n",
              "    <tr>\n",
              "      <th>4</th>\n",
              "      <td>[great, stuff, fri, marissa, mayer, google, tim, reilly, tech, book, conference, amp, matt, mullenweg, wordpress]</td>\n",
              "      <td>Google</td>\n",
              "      <td>Positive emotion</td>\n",
              "      <td>Google</td>\n",
              "    </tr>\n",
              "    <tr>\n",
              "      <th>...</th>\n",
              "      <td>...</td>\n",
              "      <td>...</td>\n",
              "      <td>...</td>\n",
              "      <td>...</td>\n",
              "    </tr>\n",
              "    <tr>\n",
              "      <th>8692</th>\n",
              "      <td>[yup, third, app, yet, android, suggestion, cc]</td>\n",
              "      <td>Undefined</td>\n",
              "      <td>No emotion</td>\n",
              "      <td>Google</td>\n",
              "    </tr>\n",
              "    <tr>\n",
              "      <th>8693</th>\n",
              "      <td>[ipad, everywhere]</td>\n",
              "      <td>iPad</td>\n",
              "      <td>Positive emotion</td>\n",
              "      <td>Apple</td>\n",
              "    </tr>\n",
              "    <tr>\n",
              "      <th>8694</th>\n",
              "      <td>[wave, buzz, interrupt, regularly, schedule, geek, program, big, news]</td>\n",
              "      <td>Undefined</td>\n",
              "      <td>No emotion</td>\n",
              "      <td>Google</td>\n",
              "    </tr>\n",
              "    <tr>\n",
              "      <th>8695</th>\n",
              "      <td>[google, zeiger, physician, never, report, potential, ae, yet, fda, relies, physicians, quot, operate, w, data, quot]</td>\n",
              "      <td>Undefined</td>\n",
              "      <td>No emotion</td>\n",
              "      <td>Google</td>\n",
              "    </tr>\n",
              "    <tr>\n",
              "      <th>8696</th>\n",
              "      <td>[verizon, iphone, customer, complain, time, fell, back, hour, weekend, course, new, yorkers, attend]</td>\n",
              "      <td>Undefined</td>\n",
              "      <td>No emotion</td>\n",
              "      <td>Apple</td>\n",
              "    </tr>\n",
              "  </tbody>\n",
              "</table>\n",
              "<p>8697 rows × 4 columns</p>\n",
              "</div>\n",
              "      <button class=\"colab-df-convert\" onclick=\"convertToInteractive('df-88670ccd-d20a-4b3c-9812-3ea45e0dc7a0')\"\n",
              "              title=\"Convert this dataframe to an interactive table.\"\n",
              "              style=\"display:none;\">\n",
              "        \n",
              "  <svg xmlns=\"http://www.w3.org/2000/svg\" height=\"24px\"viewBox=\"0 0 24 24\"\n",
              "       width=\"24px\">\n",
              "    <path d=\"M0 0h24v24H0V0z\" fill=\"none\"/>\n",
              "    <path d=\"M18.56 5.44l.94 2.06.94-2.06 2.06-.94-2.06-.94-.94-2.06-.94 2.06-2.06.94zm-11 1L8.5 8.5l.94-2.06 2.06-.94-2.06-.94L8.5 2.5l-.94 2.06-2.06.94zm10 10l.94 2.06.94-2.06 2.06-.94-2.06-.94-.94-2.06-.94 2.06-2.06.94z\"/><path d=\"M17.41 7.96l-1.37-1.37c-.4-.4-.92-.59-1.43-.59-.52 0-1.04.2-1.43.59L10.3 9.45l-7.72 7.72c-.78.78-.78 2.05 0 2.83L4 21.41c.39.39.9.59 1.41.59.51 0 1.02-.2 1.41-.59l7.78-7.78 2.81-2.81c.8-.78.8-2.07 0-2.86zM5.41 20L4 18.59l7.72-7.72 1.47 1.35L5.41 20z\"/>\n",
              "  </svg>\n",
              "      </button>\n",
              "      \n",
              "  <style>\n",
              "    .colab-df-container {\n",
              "      display:flex;\n",
              "      flex-wrap:wrap;\n",
              "      gap: 12px;\n",
              "    }\n",
              "\n",
              "    .colab-df-convert {\n",
              "      background-color: #E8F0FE;\n",
              "      border: none;\n",
              "      border-radius: 50%;\n",
              "      cursor: pointer;\n",
              "      display: none;\n",
              "      fill: #1967D2;\n",
              "      height: 32px;\n",
              "      padding: 0 0 0 0;\n",
              "      width: 32px;\n",
              "    }\n",
              "\n",
              "    .colab-df-convert:hover {\n",
              "      background-color: #E2EBFA;\n",
              "      box-shadow: 0px 1px 2px rgba(60, 64, 67, 0.3), 0px 1px 3px 1px rgba(60, 64, 67, 0.15);\n",
              "      fill: #174EA6;\n",
              "    }\n",
              "\n",
              "    [theme=dark] .colab-df-convert {\n",
              "      background-color: #3B4455;\n",
              "      fill: #D2E3FC;\n",
              "    }\n",
              "\n",
              "    [theme=dark] .colab-df-convert:hover {\n",
              "      background-color: #434B5C;\n",
              "      box-shadow: 0px 1px 3px 1px rgba(0, 0, 0, 0.15);\n",
              "      filter: drop-shadow(0px 1px 2px rgba(0, 0, 0, 0.3));\n",
              "      fill: #FFFFFF;\n",
              "    }\n",
              "  </style>\n",
              "\n",
              "      <script>\n",
              "        const buttonEl =\n",
              "          document.querySelector('#df-88670ccd-d20a-4b3c-9812-3ea45e0dc7a0 button.colab-df-convert');\n",
              "        buttonEl.style.display =\n",
              "          google.colab.kernel.accessAllowed ? 'block' : 'none';\n",
              "\n",
              "        async function convertToInteractive(key) {\n",
              "          const element = document.querySelector('#df-88670ccd-d20a-4b3c-9812-3ea45e0dc7a0');\n",
              "          const dataTable =\n",
              "            await google.colab.kernel.invokeFunction('convertToInteractive',\n",
              "                                                     [key], {});\n",
              "          if (!dataTable) return;\n",
              "\n",
              "          const docLinkHtml = 'Like what you see? Visit the ' +\n",
              "            '<a target=\"_blank\" href=https://colab.research.google.com/notebooks/data_table.ipynb>data table notebook</a>'\n",
              "            + ' to learn more about interactive tables.';\n",
              "          element.innerHTML = '';\n",
              "          dataTable['output_type'] = 'display_data';\n",
              "          await google.colab.output.renderOutput(dataTable, element);\n",
              "          const docLink = document.createElement('div');\n",
              "          docLink.innerHTML = docLinkHtml;\n",
              "          element.appendChild(docLink);\n",
              "        }\n",
              "      </script>\n",
              "    </div>\n",
              "  </div>\n",
              "  "
            ]
          },
          "metadata": {},
          "execution_count": 132
        }
      ],
      "source": [
        "# The preprocessed data set\n",
        "data"
      ]
    },
    {
      "cell_type": "code",
      "execution_count": 133,
      "metadata": {
        "id": "QmLM1aXMayTP",
        "outputId": "226be994-e31b-47fd-d859-5be9c7543312",
        "colab": {
          "base_uri": "https://localhost:8080/",
          "height": 424
        }
      },
      "outputs": [
        {
          "output_type": "execute_result",
          "data": {
            "text/plain": [
              "                                                                                                     Tweet  \\\n",
              "0                                               3g iphone hr tweet austin dead need upgrade plugin station   \n",
              "1                                   know awesome ipad iphone app likely appreciate design also give free t   \n",
              "2                                                                                           wait also sale   \n",
              "3                                                                hope year festival crashy year iphone app   \n",
              "4        great stuff fri marissa mayer google tim reilly tech book conference amp matt mullenweg wordpress   \n",
              "...                                                                                                    ...   \n",
              "8692                                                               yup third app yet android suggestion cc   \n",
              "8693                                                                                       ipad everywhere   \n",
              "8694                                          wave buzz interrupt regularly schedule geek program big news   \n",
              "8695  google zeiger physician never report potential ae yet fda relies physicians quot operate w data quot   \n",
              "8696                verizon iphone customer complain time fell back hour weekend course new yorkers attend   \n",
              "\n",
              "                 Product         Sentiment   Brand  \n",
              "0                 iPhone  Negative emotion   Apple  \n",
              "1     iPad or iPhone App  Positive emotion   Apple  \n",
              "2                   iPad  Positive emotion   Apple  \n",
              "3     iPad or iPhone App  Negative emotion   Apple  \n",
              "4                 Google  Positive emotion  Google  \n",
              "...                  ...               ...     ...  \n",
              "8692           Undefined        No emotion  Google  \n",
              "8693                iPad  Positive emotion   Apple  \n",
              "8694           Undefined        No emotion  Google  \n",
              "8695           Undefined        No emotion  Google  \n",
              "8696           Undefined        No emotion   Apple  \n",
              "\n",
              "[8697 rows x 4 columns]"
            ],
            "text/html": [
              "\n",
              "  <div id=\"df-b1507deb-28b1-4744-887b-4e2b1f3c9387\">\n",
              "    <div class=\"colab-df-container\">\n",
              "      <div>\n",
              "<style scoped>\n",
              "    .dataframe tbody tr th:only-of-type {\n",
              "        vertical-align: middle;\n",
              "    }\n",
              "\n",
              "    .dataframe tbody tr th {\n",
              "        vertical-align: top;\n",
              "    }\n",
              "\n",
              "    .dataframe thead th {\n",
              "        text-align: right;\n",
              "    }\n",
              "</style>\n",
              "<table border=\"1\" class=\"dataframe\">\n",
              "  <thead>\n",
              "    <tr style=\"text-align: right;\">\n",
              "      <th></th>\n",
              "      <th>Tweet</th>\n",
              "      <th>Product</th>\n",
              "      <th>Sentiment</th>\n",
              "      <th>Brand</th>\n",
              "    </tr>\n",
              "  </thead>\n",
              "  <tbody>\n",
              "    <tr>\n",
              "      <th>0</th>\n",
              "      <td>3g iphone hr tweet austin dead need upgrade plugin station</td>\n",
              "      <td>iPhone</td>\n",
              "      <td>Negative emotion</td>\n",
              "      <td>Apple</td>\n",
              "    </tr>\n",
              "    <tr>\n",
              "      <th>1</th>\n",
              "      <td>know awesome ipad iphone app likely appreciate design also give free t</td>\n",
              "      <td>iPad or iPhone App</td>\n",
              "      <td>Positive emotion</td>\n",
              "      <td>Apple</td>\n",
              "    </tr>\n",
              "    <tr>\n",
              "      <th>2</th>\n",
              "      <td>wait also sale</td>\n",
              "      <td>iPad</td>\n",
              "      <td>Positive emotion</td>\n",
              "      <td>Apple</td>\n",
              "    </tr>\n",
              "    <tr>\n",
              "      <th>3</th>\n",
              "      <td>hope year festival crashy year iphone app</td>\n",
              "      <td>iPad or iPhone App</td>\n",
              "      <td>Negative emotion</td>\n",
              "      <td>Apple</td>\n",
              "    </tr>\n",
              "    <tr>\n",
              "      <th>4</th>\n",
              "      <td>great stuff fri marissa mayer google tim reilly tech book conference amp matt mullenweg wordpress</td>\n",
              "      <td>Google</td>\n",
              "      <td>Positive emotion</td>\n",
              "      <td>Google</td>\n",
              "    </tr>\n",
              "    <tr>\n",
              "      <th>...</th>\n",
              "      <td>...</td>\n",
              "      <td>...</td>\n",
              "      <td>...</td>\n",
              "      <td>...</td>\n",
              "    </tr>\n",
              "    <tr>\n",
              "      <th>8692</th>\n",
              "      <td>yup third app yet android suggestion cc</td>\n",
              "      <td>Undefined</td>\n",
              "      <td>No emotion</td>\n",
              "      <td>Google</td>\n",
              "    </tr>\n",
              "    <tr>\n",
              "      <th>8693</th>\n",
              "      <td>ipad everywhere</td>\n",
              "      <td>iPad</td>\n",
              "      <td>Positive emotion</td>\n",
              "      <td>Apple</td>\n",
              "    </tr>\n",
              "    <tr>\n",
              "      <th>8694</th>\n",
              "      <td>wave buzz interrupt regularly schedule geek program big news</td>\n",
              "      <td>Undefined</td>\n",
              "      <td>No emotion</td>\n",
              "      <td>Google</td>\n",
              "    </tr>\n",
              "    <tr>\n",
              "      <th>8695</th>\n",
              "      <td>google zeiger physician never report potential ae yet fda relies physicians quot operate w data quot</td>\n",
              "      <td>Undefined</td>\n",
              "      <td>No emotion</td>\n",
              "      <td>Google</td>\n",
              "    </tr>\n",
              "    <tr>\n",
              "      <th>8696</th>\n",
              "      <td>verizon iphone customer complain time fell back hour weekend course new yorkers attend</td>\n",
              "      <td>Undefined</td>\n",
              "      <td>No emotion</td>\n",
              "      <td>Apple</td>\n",
              "    </tr>\n",
              "  </tbody>\n",
              "</table>\n",
              "<p>8697 rows × 4 columns</p>\n",
              "</div>\n",
              "      <button class=\"colab-df-convert\" onclick=\"convertToInteractive('df-b1507deb-28b1-4744-887b-4e2b1f3c9387')\"\n",
              "              title=\"Convert this dataframe to an interactive table.\"\n",
              "              style=\"display:none;\">\n",
              "        \n",
              "  <svg xmlns=\"http://www.w3.org/2000/svg\" height=\"24px\"viewBox=\"0 0 24 24\"\n",
              "       width=\"24px\">\n",
              "    <path d=\"M0 0h24v24H0V0z\" fill=\"none\"/>\n",
              "    <path d=\"M18.56 5.44l.94 2.06.94-2.06 2.06-.94-2.06-.94-.94-2.06-.94 2.06-2.06.94zm-11 1L8.5 8.5l.94-2.06 2.06-.94-2.06-.94L8.5 2.5l-.94 2.06-2.06.94zm10 10l.94 2.06.94-2.06 2.06-.94-2.06-.94-.94-2.06-.94 2.06-2.06.94z\"/><path d=\"M17.41 7.96l-1.37-1.37c-.4-.4-.92-.59-1.43-.59-.52 0-1.04.2-1.43.59L10.3 9.45l-7.72 7.72c-.78.78-.78 2.05 0 2.83L4 21.41c.39.39.9.59 1.41.59.51 0 1.02-.2 1.41-.59l7.78-7.78 2.81-2.81c.8-.78.8-2.07 0-2.86zM5.41 20L4 18.59l7.72-7.72 1.47 1.35L5.41 20z\"/>\n",
              "  </svg>\n",
              "      </button>\n",
              "      \n",
              "  <style>\n",
              "    .colab-df-container {\n",
              "      display:flex;\n",
              "      flex-wrap:wrap;\n",
              "      gap: 12px;\n",
              "    }\n",
              "\n",
              "    .colab-df-convert {\n",
              "      background-color: #E8F0FE;\n",
              "      border: none;\n",
              "      border-radius: 50%;\n",
              "      cursor: pointer;\n",
              "      display: none;\n",
              "      fill: #1967D2;\n",
              "      height: 32px;\n",
              "      padding: 0 0 0 0;\n",
              "      width: 32px;\n",
              "    }\n",
              "\n",
              "    .colab-df-convert:hover {\n",
              "      background-color: #E2EBFA;\n",
              "      box-shadow: 0px 1px 2px rgba(60, 64, 67, 0.3), 0px 1px 3px 1px rgba(60, 64, 67, 0.15);\n",
              "      fill: #174EA6;\n",
              "    }\n",
              "\n",
              "    [theme=dark] .colab-df-convert {\n",
              "      background-color: #3B4455;\n",
              "      fill: #D2E3FC;\n",
              "    }\n",
              "\n",
              "    [theme=dark] .colab-df-convert:hover {\n",
              "      background-color: #434B5C;\n",
              "      box-shadow: 0px 1px 3px 1px rgba(0, 0, 0, 0.15);\n",
              "      filter: drop-shadow(0px 1px 2px rgba(0, 0, 0, 0.3));\n",
              "      fill: #FFFFFF;\n",
              "    }\n",
              "  </style>\n",
              "\n",
              "      <script>\n",
              "        const buttonEl =\n",
              "          document.querySelector('#df-b1507deb-28b1-4744-887b-4e2b1f3c9387 button.colab-df-convert');\n",
              "        buttonEl.style.display =\n",
              "          google.colab.kernel.accessAllowed ? 'block' : 'none';\n",
              "\n",
              "        async function convertToInteractive(key) {\n",
              "          const element = document.querySelector('#df-b1507deb-28b1-4744-887b-4e2b1f3c9387');\n",
              "          const dataTable =\n",
              "            await google.colab.kernel.invokeFunction('convertToInteractive',\n",
              "                                                     [key], {});\n",
              "          if (!dataTable) return;\n",
              "\n",
              "          const docLinkHtml = 'Like what you see? Visit the ' +\n",
              "            '<a target=\"_blank\" href=https://colab.research.google.com/notebooks/data_table.ipynb>data table notebook</a>'\n",
              "            + ' to learn more about interactive tables.';\n",
              "          element.innerHTML = '';\n",
              "          dataTable['output_type'] = 'display_data';\n",
              "          await google.colab.output.renderOutput(dataTable, element);\n",
              "          const docLink = document.createElement('div');\n",
              "          docLink.innerHTML = docLinkHtml;\n",
              "          element.appendChild(docLink);\n",
              "        }\n",
              "      </script>\n",
              "    </div>\n",
              "  </div>\n",
              "  "
            ]
          },
          "metadata": {},
          "execution_count": 133
        }
      ],
      "source": [
        "data['Tweet'] = data.Tweet.map(lambda x: ' '.join(map(str, x)))\n",
        "data"
      ]
    },
    {
      "cell_type": "markdown",
      "metadata": {
        "id": "8bl54GttayTP"
      },
      "source": [
        "## Modeling\n",
        "\n",
        "The step of the project will include the following steps:\n",
        "1. Specifying our X and y.\n",
        "2. Spliting our data into training and testing data\n",
        "3. Vectorizing our data using TF-IDF vectorizer\n",
        "4. Choosing a baseline model\n",
        "5. Tuning the selected baseline model"
      ]
    },
    {
      "cell_type": "code",
      "execution_count": 134,
      "metadata": {
        "id": "kxhEmCnwayTP"
      },
      "outputs": [],
      "source": [
        "#Specifying X and y\n",
        "X = data['Tweet']\n",
        "y = data['Sentiment']"
      ]
    },
    {
      "cell_type": "code",
      "execution_count": 135,
      "metadata": {
        "id": "2aO312SaayTQ"
      },
      "outputs": [],
      "source": [
        "#Spliting the data into train and test\n",
        "X_train, X_test, y_train, y_test = train_test_split(X, y, test_size=0.2, random_state=42)"
      ]
    },
    {
      "cell_type": "code",
      "execution_count": 136,
      "metadata": {
        "id": "knfFMdg7ayTQ"
      },
      "outputs": [],
      "source": [
        "#Instantiate the TfidfVectorizer\n",
        "vectorizer = TfidfVectorizer()\n",
        "\n",
        "#Fitting and transforming the training data\n",
        "X_train_vec = vectorizer.fit_transform(X_train).toarray()\n",
        "\n",
        "#Fitting on test data\n",
        "X_test_vec = vectorizer.transform(X_test).toarray()"
      ]
    },
    {
      "cell_type": "code",
      "execution_count": 137,
      "metadata": {
        "id": "6IC8Q_QuayTQ",
        "outputId": "bf557b78-1243-43bc-8187-daffe4b5d511",
        "colab": {
          "base_uri": "https://localhost:8080/"
        }
      },
      "outputs": [
        {
          "output_type": "execute_result",
          "data": {
            "text/plain": [
              "((6957, 6376), (1740, 6376))"
            ]
          },
          "metadata": {},
          "execution_count": 137
        }
      ],
      "source": [
        "#Checking dimensions of vectorized data\n",
        "X_train_vec.shape, X_test_vec.shape\n"
      ]
    },
    {
      "cell_type": "code",
      "execution_count": 138,
      "metadata": {
        "id": "NbW7WfbzayTU",
        "outputId": "12e3e56c-4452-47f0-89de-058a409dda51",
        "colab": {
          "base_uri": "https://localhost:8080/"
        }
      },
      "outputs": [
        {
          "output_type": "execute_result",
          "data": {
            "text/plain": [
              "MultinomialNB()"
            ]
          },
          "metadata": {},
          "execution_count": 138
        }
      ],
      "source": [
        "from sklearn.naive_bayes import MultinomialNB\n",
        "#Instantiate Multinomial\n",
        "model_NB = MultinomialNB()\n",
        "model_NB.fit(X_train_vec, y_train)"
      ]
    },
    {
      "cell_type": "code",
      "execution_count": 139,
      "metadata": {
        "id": "awoH8Rs7ayTV"
      },
      "outputs": [],
      "source": [
        "def get_prediction(model, X_train, X_test, y_train, y_test):\n",
        "    y_train_pred = model.predict(X_train)\n",
        "    y_test_pred = model.predict(X_test)\n",
        "    \n",
        "    print('Training Prediction')\n",
        "    print('--------------------')\n",
        "    print(classification_report(y_train, y_train_pred))\n",
        "    print('Test Prediction')\n",
        "    print('--------------------')\n",
        "    print(classification_report(y_test, y_test_pred))\n",
        "    \n",
        "    return y_train_pred, y_test_pred"
      ]
    },
    {
      "cell_type": "code",
      "execution_count": 140,
      "metadata": {
        "id": "ncHVyFE_ayTV",
        "outputId": "16178379-ad57-405c-8e3f-c1fca0a9421d",
        "colab": {
          "base_uri": "https://localhost:8080/"
        }
      },
      "outputs": [
        {
          "output_type": "stream",
          "name": "stdout",
          "text": [
            "Training Prediction\n",
            "--------------------\n",
            "                  precision    recall  f1-score   support\n",
            "\n",
            "    I can't tell       0.00      0.00      0.00       120\n",
            "Negative emotion       1.00      0.04      0.08       415\n",
            "      No emotion       0.71      0.98      0.82      4139\n",
            "Positive emotion       0.88      0.46      0.60      2283\n",
            "\n",
            "        accuracy                           0.74      6957\n",
            "       macro avg       0.65      0.37      0.38      6957\n",
            "    weighted avg       0.77      0.74      0.69      6957\n",
            "\n",
            "Test Prediction\n",
            "--------------------\n",
            "                  precision    recall  f1-score   support\n",
            "\n",
            "    I can't tell       0.00      0.00      0.00        31\n",
            "Negative emotion       0.50      0.01      0.02       129\n",
            "      No emotion       0.63      0.95      0.75      1002\n",
            "Positive emotion       0.69      0.26      0.38       578\n",
            "\n",
            "        accuracy                           0.63      1740\n",
            "       macro avg       0.45      0.30      0.29      1740\n",
            "    weighted avg       0.63      0.63      0.56      1740\n",
            "\n"
          ]
        }
      ],
      "source": [
        "_, _ = get_prediction(model_NB, X_train_vec, X_test_vec, y_train, y_test)"
      ]
    },
    {
      "cell_type": "code",
      "execution_count": 141,
      "metadata": {
        "id": "g_NInhiRayTW",
        "outputId": "a813d34f-0835-4df0-d518-31e4a2d219c9",
        "colab": {
          "base_uri": "https://localhost:8080/"
        }
      },
      "outputs": [
        {
          "output_type": "execute_result",
          "data": {
            "text/plain": [
              "RandomForestClassifier(random_state=0)"
            ]
          },
          "metadata": {},
          "execution_count": 141
        }
      ],
      "source": [
        "#Import Random Forest Classifier\n",
        "from sklearn.ensemble import RandomForestClassifier\n",
        "# Instantiate a Random Forest Classifier\n",
        "model_rf = RandomForestClassifier(n_estimators=100, random_state=0)\n",
        "model_rf.fit(X_train_vec, y_train)"
      ]
    },
    {
      "cell_type": "code",
      "execution_count": 142,
      "metadata": {
        "id": "vmlfXsy2ayTW",
        "outputId": "1dc2be35-f11d-4fe6-c4ad-db2b718fe08c",
        "colab": {
          "base_uri": "https://localhost:8080/"
        }
      },
      "outputs": [
        {
          "output_type": "stream",
          "name": "stdout",
          "text": [
            "Training Prediction\n",
            "--------------------\n",
            "                  precision    recall  f1-score   support\n",
            "\n",
            "    I can't tell       0.95      0.87      0.91       120\n",
            "Negative emotion       0.98      0.92      0.95       415\n",
            "      No emotion       0.95      0.98      0.97      4139\n",
            "Positive emotion       0.96      0.93      0.95      2283\n",
            "\n",
            "        accuracy                           0.96      6957\n",
            "       macro avg       0.96      0.92      0.94      6957\n",
            "    weighted avg       0.96      0.96      0.96      6957\n",
            "\n",
            "Test Prediction\n",
            "--------------------\n",
            "                  precision    recall  f1-score   support\n",
            "\n",
            "    I can't tell       0.00      0.00      0.00        31\n",
            "Negative emotion       0.76      0.15      0.25       129\n",
            "      No emotion       0.67      0.85      0.75      1002\n",
            "Positive emotion       0.61      0.46      0.52       578\n",
            "\n",
            "        accuracy                           0.65      1740\n",
            "       macro avg       0.51      0.36      0.38      1740\n",
            "    weighted avg       0.65      0.65      0.62      1740\n",
            "\n"
          ]
        }
      ],
      "source": [
        "_, _ = get_prediction(model_rf, X_train_vec, X_test_vec, y_train, y_test)"
      ]
    },
    {
      "cell_type": "code",
      "execution_count": 143,
      "metadata": {
        "id": "F194249CayTW",
        "outputId": "df49425b-51cd-48f1-b65d-5604863f84a6",
        "colab": {
          "base_uri": "https://localhost:8080/"
        }
      },
      "outputs": [
        {
          "output_type": "execute_result",
          "data": {
            "text/plain": [
              "LogisticRegression()"
            ]
          },
          "metadata": {},
          "execution_count": 143
        }
      ],
      "source": [
        "from sklearn.linear_model import LogisticRegression\n",
        "model_lr =LogisticRegression()\n",
        "model_lr.fit(X_train_vec, y_train)"
      ]
    },
    {
      "cell_type": "code",
      "execution_count": 144,
      "metadata": {
        "id": "uD4Q6zIMayTW",
        "outputId": "1d5a66c9-0357-4e51-a350-ce2cf66bbf10",
        "colab": {
          "base_uri": "https://localhost:8080/"
        }
      },
      "outputs": [
        {
          "output_type": "stream",
          "name": "stdout",
          "text": [
            "Training Prediction\n",
            "--------------------\n",
            "                  precision    recall  f1-score   support\n",
            "\n",
            "    I can't tell       0.00      0.00      0.00       120\n",
            "Negative emotion       0.91      0.16      0.27       415\n",
            "      No emotion       0.77      0.95      0.85      4139\n",
            "Positive emotion       0.83      0.64      0.73      2283\n",
            "\n",
            "        accuracy                           0.78      6957\n",
            "       macro avg       0.63      0.44      0.46      6957\n",
            "    weighted avg       0.78      0.78      0.76      6957\n",
            "\n",
            "Test Prediction\n",
            "--------------------\n",
            "                  precision    recall  f1-score   support\n",
            "\n",
            "    I can't tell       0.00      0.00      0.00        31\n",
            "Negative emotion       0.69      0.07      0.13       129\n",
            "      No emotion       0.68      0.87      0.76      1002\n",
            "Positive emotion       0.62      0.47      0.54       578\n",
            "\n",
            "        accuracy                           0.66      1740\n",
            "       macro avg       0.50      0.35      0.36      1740\n",
            "    weighted avg       0.65      0.66      0.63      1740\n",
            "\n"
          ]
        }
      ],
      "source": [
        "_, _ = get_prediction(model_lr, X_train_vec, X_test_vec, y_train, y_test)"
      ]
    },
    {
      "cell_type": "markdown",
      "metadata": {
        "id": "EQ1d8BWuayTX"
      },
      "source": [
        "## Hyperparameters tuning"
      ]
    },
    {
      "cell_type": "markdown",
      "metadata": {
        "id": "iKeAP9oxayTX"
      },
      "source": []
    },
    {
      "cell_type": "code",
      "execution_count": 202,
      "metadata": {
        "id": "uzfBEmbaayTX"
      },
      "outputs": [],
      "source": [
        "param_grid = [    \n",
        "    {'penalty' : ['l1', 'l2', 'elasticnet'],\n",
        "    'solver' : ['saga'],\n",
        "     'random_state':[0]\n",
        "    }\n",
        "]"
      ]
    },
    {
      "cell_type": "code",
      "execution_count": 203,
      "metadata": {
        "id": "J8SPdVRaayTY"
      },
      "outputs": [],
      "source": [
        "lr = GridSearchCV(model_lr, param_grid = param_grid, cv = 3)"
      ]
    },
    {
      "cell_type": "code",
      "execution_count": 204,
      "metadata": {
        "id": "S7G3ExXAayTY"
      },
      "outputs": [],
      "source": [
        "lr_grid = lr.fit(X_train_vec, y_train)"
      ]
    },
    {
      "cell_type": "code",
      "execution_count": 205,
      "metadata": {
        "id": "ONVYc1AyayTY",
        "outputId": "722d843c-93cd-4e4e-d6ed-7f91ff0e60e3",
        "colab": {
          "base_uri": "https://localhost:8080/"
        }
      },
      "outputs": [
        {
          "output_type": "stream",
          "name": "stdout",
          "text": [
            "Training Prediction\n",
            "--------------------\n",
            "                  precision    recall  f1-score   support\n",
            "\n",
            "    I can't tell       0.00      0.00      0.00       120\n",
            "Negative emotion       0.91      0.16      0.27       415\n",
            "      No emotion       0.77      0.95      0.85      4139\n",
            "Positive emotion       0.83      0.64      0.72      2283\n",
            "\n",
            "        accuracy                           0.78      6957\n",
            "       macro avg       0.63      0.44      0.46      6957\n",
            "    weighted avg       0.78      0.78      0.76      6957\n",
            "\n",
            "Test Prediction\n",
            "--------------------\n",
            "                  precision    recall  f1-score   support\n",
            "\n",
            "    I can't tell       0.00      0.00      0.00        31\n",
            "Negative emotion       0.69      0.07      0.13       129\n",
            "      No emotion       0.68      0.87      0.76      1002\n",
            "Positive emotion       0.62      0.47      0.54       578\n",
            "\n",
            "        accuracy                           0.66      1740\n",
            "       macro avg       0.50      0.35      0.36      1740\n",
            "    weighted avg       0.65      0.66      0.63      1740\n",
            "\n"
          ]
        }
      ],
      "source": [
        "_, _ = get_prediction(lr_grid, X_train_vec, X_test_vec, y_train, y_test)"
      ]
    },
    {
      "cell_type": "code",
      "execution_count": 201,
      "metadata": {
        "id": "01JHcIHHayTY"
      },
      "outputs": [],
      "source": []
    }
  ],
  "metadata": {
    "colab": {
      "collapsed_sections": [],
      "name": "Copy of Tweets sentiment analysis",
      "provenance": [],
      "include_colab_link": true
    },
    "kernelspec": {
      "display_name": "Python 3",
      "language": "python",
      "name": "python3"
    },
    "language_info": {
      "codemirror_mode": {
        "name": "ipython",
        "version": 3
      },
      "file_extension": ".py",
      "mimetype": "text/x-python",
      "name": "python",
      "nbconvert_exporter": "python",
      "pygments_lexer": "ipython3",
      "version": "3.8.5"
    },
    "vscode": {
      "interpreter": {
        "hash": "ff5bd1ff2aaa6effda844bcf32cfa8c584329848a0ac5a2267b934b310743680"
      }
    }
  },
  "nbformat": 4,
  "nbformat_minor": 0
}