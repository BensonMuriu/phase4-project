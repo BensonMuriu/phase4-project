{
 "cells": [
  {
   "cell_type": "markdown",
   "metadata": {},
   "source": [
    "# Introduction\n",
    "\n",
    "In Phase 4, the emphasis is on the Jupyter Notebook. \n",
    "The notebook should include a summary at the beginning that briefly and accurately describes your process. \n",
    "The summary should be approximately 250 words -- about the size of a research paper abstract.\n",
    "\n",
    "GRADING : To pass this project, you must pass each rubric objective. The project rubric objectives for Phase 4 are:\n",
    "Attention to Detail\n",
    "Advanced ML Communication\n",
    "Advanced Data Preparation\n",
    "Advanced ML Modeling\n",
    "\n",
    "Cleaning and Preprocessing Text Data\n",
    "Do we remove stop words or not?\n",
    "Do we stem or lemmatize our text data, or leave the words as is?\n",
    "Is basic tokenization enough, or do we need to support special edge cases through the use of regex?\n",
    "Do we use the entire vocabulary, or just limit the model to a subset of the most frequently used words? If so, how many?\n",
    "Do we engineer other features, such as bigrams, or POS tags, or Mutual Information Scores?\n",
    "What sort of vectorization should we use in our model? Boolean Vectorization? Count Vectorization? TF-IDF? More advanced vectorization strategies such as Word2Vec?"
   ]
  },
  {
   "cell_type": "markdown",
   "metadata": {},
   "source": [
    "## Business Understanding\n",
    "\n",
    "what kind of data are you using, and what makes it well-suited for the business problem?\n",
    "You do not need to include any data visualizations in your summary, but consider including relevant descriptive statistics"
   ]
  },
  {
   "cell_type": "markdown",
   "metadata": {},
   "source": [
    "## Data Understanding"
   ]
  },
  {
   "cell_type": "markdown",
   "metadata": {},
   "source": [
    "## Data Preparation\n",
    "why did you choose the data preparation steps that you did, and what was the result?\n",
    "This should be specific to the kind of data you are working with. \n",
    "For example, if you are doing an NLP project, what did you decide to do with stopwords?\n",
    "Be sure to list the packages/libraries used to prepare the data, and why\n",
    "\n",
    "\n",
    "### Module Imports and Data Loading\n",
    "\n",
    "### Descriptive Statistics\n",
    "\n",
    "### Data Cleaning\n",
    "#### Completeness\n",
    "#### Validity\n",
    "#### Consistency\n",
    "#### Uniformity\n",
    "\n",
    "### Exploratory Data Analysis (EDA)\n",
    "#### Feature Engineering\n",
    "\n",
    "### Preprocessing\n",
    "Stemming and Lemmatization\n",
    "Removing stop words and punctuations\n",
    "Tokenization\n",
    "Vectorization (TF-IDF vectorization, count vatorization)\n",
    "Frequency Distributions\n",
    "Feature Engineering (Bigrams, N-grams, Mutual Information Score)\n",
    "\n",
    "\n"
   ]
  },
  {
   "cell_type": "markdown",
   "metadata": {},
   "source": [
    "## Modelling\n",
    "what modeling package(s) did you use, which model(s) within the package(s), and what tuning steps did you take?\n",
    "For some projects there may be only one applicable package; you should still briefly explain why this was the appropriate choice\n",
    "For neural networks projects, be sure to describe your model architecture choices\n",
    "\n",
    "\n",
    "### Scalling and Transformation\n",
    "\n",
    "### Model 1 (Base Model)\n",
    "* evaluate the model and explain its performance and shortcomings\n",
    "\n",
    "### Model 2 (iterated, tuning)\n",
    "* evaluate the model and explain its performance and shortcomings\n",
    "\n",
    "### Model 3 (iterated, further Tuning)\n",
    "* evaluate the model and explain its performance and shortcomings\n",
    "\n",
    "### Model 4 (iterated, even more tuning)\n",
    "* evaluate the model and explain its performance and shortcomings"
   ]
  },
  {
   "cell_type": "markdown",
   "metadata": {},
   "source": [
    "## Evaluation\n",
    "how well did your final model perform?\n",
    "Include one or more relevant metrics\n",
    "Be sure to briefly describe your validation approach\n",
    "\n",
    "\n",
    "### Final Model\n",
    "* pick the best model from all our models\n",
    "* explain why it is our best model\n",
    "* Model it once again\n",
    "* evaluate and validate it\n",
    "* explain its performance"
   ]
  },
  {
   "cell_type": "markdown",
   "metadata": {},
   "source": [
    "## Findings and Recommendations"
   ]
  },
  {
   "cell_type": "markdown",
   "metadata": {},
   "source": [
    "## Next Steps "
   ]
  },
  {
   "cell_type": "code",
   "execution_count": null,
   "metadata": {},
   "outputs": [],
   "source": []
  }
 ],
 "metadata": {
  "language_info": {
   "name": "python"
  },
  "orig_nbformat": 4
 },
 "nbformat": 4,
 "nbformat_minor": 2
}
